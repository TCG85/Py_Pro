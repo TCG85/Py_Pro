{
 "cells": [
  {
   "cell_type": "markdown",
   "metadata": {},
   "source": [
    "# Math Module"
   ]
  },
  {
   "cell_type": "code",
   "execution_count": 1,
   "metadata": {},
   "outputs": [],
   "source": [
    "import math"
   ]
  },
  {
   "cell_type": "markdown",
   "metadata": {},
   "source": [
    "## Constants"
   ]
  },
  {
   "cell_type": "markdown",
   "metadata": {},
   "source": [
    "`math.pi`: The mathematical constant π = 3.141592…, to available precision"
   ]
  },
  {
   "cell_type": "code",
   "execution_count": 2,
   "metadata": {},
   "outputs": [
    {
     "name": "stdout",
     "output_type": "stream",
     "text": [
      "3.141592653589793\n"
     ]
    }
   ],
   "source": [
    "print(math.pi)"
   ]
  },
  {
   "cell_type": "markdown",
   "metadata": {},
   "source": [
    "`math.e`: The mathematical constant e = 2.718281…, to available precision\n"
   ]
  },
  {
   "cell_type": "code",
   "execution_count": 3,
   "metadata": {},
   "outputs": [
    {
     "name": "stdout",
     "output_type": "stream",
     "text": [
      "2.718281828459045\n"
     ]
    }
   ],
   "source": [
    "print(math.e)"
   ]
  },
  {
   "cell_type": "markdown",
   "metadata": {},
   "source": [
    " `math.nan`: A floating-point “not a number” (NaN) value. Equivalent to the output of `float('nan')`"
   ]
  },
  {
   "cell_type": "code",
   "execution_count": 4,
   "metadata": {},
   "outputs": [
    {
     "name": "stdout",
     "output_type": "stream",
     "text": [
      "nan\n"
     ]
    }
   ],
   "source": [
    "print(math.nan)"
   ]
  },
  {
   "cell_type": "markdown",
   "metadata": {},
   "source": [
    "`math.inf`: A floating-point positive infinity. (For negative infinity, use `-math.inf`.) Equivalent to the output of `float('inf')`"
   ]
  },
  {
   "cell_type": "code",
   "execution_count": 5,
   "metadata": {},
   "outputs": [
    {
     "name": "stdout",
     "output_type": "stream",
     "text": [
      "inf\n"
     ]
    }
   ],
   "source": [
    "print(math.inf)"
   ]
  },
  {
   "cell_type": "code",
   "execution_count": 6,
   "metadata": {},
   "outputs": [
    {
     "name": "stdout",
     "output_type": "stream",
     "text": [
      "-inf\n"
     ]
    }
   ],
   "source": [
    "print(-math.inf)"
   ]
  },
  {
   "cell_type": "markdown",
   "metadata": {},
   "source": [
    "## Trigonometry"
   ]
  },
  {
   "cell_type": "markdown",
   "metadata": {},
   "source": [
    "![sine_cosine](../img/sine_cosine.gif)"
   ]
  },
  {
   "cell_type": "code",
   "execution_count": 7,
   "metadata": {},
   "outputs": [
    {
     "name": "stdout",
     "output_type": "stream",
     "text": [
      "0.7071067811865476\n",
      "0.7071067811865475\n"
     ]
    }
   ],
   "source": [
    "obst_direction = math.cos(math.pi / 4)\n",
    "print(obst_direction)\n",
    "print(math.sin(math.pi / 4))"
   ]
  },
  {
   "cell_type": "markdown",
   "metadata": {},
   "source": [
    "## Ceiling and Floor"
   ]
  },
  {
   "cell_type": "markdown",
   "metadata": {},
   "source": [
    "`math.ceil(x)`: Return the ceiling of x, the smallest integer greater than or equal to x. If x is not a float, delegates to `x.__ceil__()`, which should return an Integral value"
   ]
  },
  {
   "cell_type": "code",
   "execution_count": 8,
   "metadata": {},
   "outputs": [
    {
     "name": "stdout",
     "output_type": "stream",
     "text": [
      "11\n",
      "7\n"
     ]
    }
   ],
   "source": [
    "cookies = 10.3\n",
    "candy = 7\n",
    "print(math.ceil(cookies))\n",
    "print(math.ceil(candy))"
   ]
  },
  {
   "cell_type": "markdown",
   "metadata": {},
   "source": [
    "`math.floor(x)`: Return the floor of x, the largest integer less than or equal to x. If x is not a float, delegates to `x.__floor__()`, which should return an Integral value"
   ]
  },
  {
   "cell_type": "code",
   "execution_count": 9,
   "metadata": {},
   "outputs": [
    {
     "name": "stdout",
     "output_type": "stream",
     "text": [
      "47\n",
      "47\n"
     ]
    }
   ],
   "source": [
    "age = 47.9\n",
    "otherAge = 47\n",
    "print(math.floor(age))\n",
    "print(math.floor(otherAge))"
   ]
  },
  {
   "cell_type": "markdown",
   "metadata": {},
   "source": [
    "## Factorial & Square Root"
   ]
  },
  {
   "cell_type": "markdown",
   "metadata": {},
   "source": [
    "![factorial](../img/factorial.gif)"
   ]
  },
  {
   "cell_type": "code",
   "execution_count": 10,
   "metadata": {},
   "outputs": [
    {
     "name": "stdout",
     "output_type": "stream",
     "text": [
      "6\n",
      "8.0\n"
     ]
    }
   ],
   "source": [
    "print(math.factorial(3))\n",
    "print(math.sqrt(64))"
   ]
  },
  {
   "cell_type": "markdown",
   "metadata": {},
   "source": [
    "## Greatest Common Denominator GCD"
   ]
  },
  {
   "cell_type": "code",
   "execution_count": 11,
   "metadata": {},
   "outputs": [
    {
     "name": "stdout",
     "output_type": "stream",
     "text": [
      "4\n",
      "4\n"
     ]
    }
   ],
   "source": [
    "print(math.gcd(52, 8))\n",
    "print(math.gcd(8, 52))"
   ]
  },
  {
   "cell_type": "markdown",
   "metadata": {},
   "source": [
    "## Degrees and Radians"
   ]
  },
  {
   "cell_type": "markdown",
   "metadata": {},
   "source": [
    "![radians](../img/circle_radians.gif)"
   ]
  },
  {
   "cell_type": "code",
   "execution_count": 12,
   "metadata": {},
   "outputs": [
    {
     "name": "stdout",
     "output_type": "stream",
     "text": [
      "6.283185307179586\n",
      "6.283185307179586\n",
      "360.0\n"
     ]
    }
   ],
   "source": [
    "print(math.radians(360))\n",
    "print(math.pi * 2)\n",
    "print(math.degrees(math.pi * 2))"
   ]
  },
  {
   "cell_type": "markdown",
   "metadata": {},
   "source": [
    "# Random Module"
   ]
  },
  {
   "cell_type": "code",
   "execution_count": 13,
   "metadata": {},
   "outputs": [],
   "source": [
    "import random"
   ]
  },
  {
   "cell_type": "markdown",
   "metadata": {},
   "source": [
    "## Random Numbers"
   ]
  },
  {
   "cell_type": "code",
   "execution_count": 14,
   "metadata": {},
   "outputs": [
    {
     "name": "stdout",
     "output_type": "stream",
     "text": [
      "0.14444115586824113\n",
      "HEADS\n",
      "0\n"
     ]
    }
   ],
   "source": [
    "# Coin flip simulation\n",
    "print(random.random())\n",
    "decider = random.randrange(2)\n",
    "if decider == 0:\n",
    "    print(\"HEADS\")\n",
    "else:\n",
    "    print(\"TAILS\")\n",
    "print(decider)"
   ]
  },
  {
   "cell_type": "code",
   "execution_count": 15,
   "metadata": {},
   "outputs": [
    {
     "name": "stdout",
     "output_type": "stream",
     "text": [
      "You rolled a 4\n"
     ]
    }
   ],
   "source": [
    "# Dice roll simulation\n",
    "print(\"You rolled a \" + str(random.randrange(1, 7)))"
   ]
  },
  {
   "cell_type": "markdown",
   "metadata": {},
   "source": [
    "## Random Choices"
   ]
  },
  {
   "cell_type": "code",
   "execution_count": 16,
   "metadata": {},
   "outputs": [
    {
     "name": "stdout",
     "output_type": "stream",
     "text": [
      "[54, 73, 92, 77, 93]\n"
     ]
    }
   ],
   "source": [
    "# Lottery simulation with 5 winners out of 100\n",
    "lotteryWinners = random.sample(range(100), 5)\n",
    "print(lotteryWinners)"
   ]
  },
  {
   "cell_type": "code",
   "execution_count": 17,
   "metadata": {},
   "outputs": [
    {
     "name": "stdout",
     "output_type": "stream",
     "text": [
      "dog\n"
     ]
    }
   ],
   "source": [
    "# Random choice in a list of strings\n",
    "possiblePets = [\"cat\", \"dog\", \"fish\"]\n",
    "print(random.choice(possiblePets))"
   ]
  },
  {
   "cell_type": "code",
   "execution_count": 18,
   "metadata": {},
   "outputs": [
    {
     "name": "stdout",
     "output_type": "stream",
     "text": [
      "['Jack', 'Ace', 'Queen', 'King']\n"
     ]
    }
   ],
   "source": [
    "# Random card shuffle simulation\n",
    "cards = [\"Jack\", \"Queen\", \"King\", \"Ace\"]\n",
    "random.shuffle(cards)\n",
    "print(cards)"
   ]
  },
  {
   "cell_type": "markdown",
   "metadata": {},
   "source": [
    "# Statistics Module"
   ]
  },
  {
   "cell_type": "code",
   "execution_count": 19,
   "metadata": {},
   "outputs": [],
   "source": [
    "import statistics\n",
    "import math"
   ]
  },
  {
   "cell_type": "code",
   "execution_count": 20,
   "metadata": {},
   "outputs": [],
   "source": [
    "agesData = [10, 13, 14, 12, 11, 10, 11, 10, 15]"
   ]
  },
  {
   "cell_type": "code",
   "execution_count": 21,
   "metadata": {},
   "outputs": [
    {
     "name": "stdout",
     "output_type": "stream",
     "text": [
      "11.777777777777779\n"
     ]
    }
   ],
   "source": [
    "# Mean is the Average\n",
    "print(statistics.mean(agesData))"
   ]
  },
  {
   "cell_type": "code",
   "execution_count": 22,
   "metadata": {},
   "outputs": [
    {
     "name": "stdout",
     "output_type": "stream",
     "text": [
      "11\n",
      "[10, 10, 10, 11, 11, 12, 13, 14, 15]\n"
     ]
    }
   ],
   "source": [
    "# Median is the midpoint\n",
    "print(statistics.median(agesData))\n",
    "print(sorted(agesData))"
   ]
  },
  {
   "cell_type": "code",
   "execution_count": 23,
   "metadata": {},
   "outputs": [
    {
     "name": "stdout",
     "output_type": "stream",
     "text": [
      "10\n"
     ]
    }
   ],
   "source": [
    "# Mode is the most frequent value\n",
    "print(statistics.mode(agesData))"
   ]
  },
  {
   "cell_type": "code",
   "execution_count": 24,
   "metadata": {},
   "outputs": [
    {
     "name": "stdout",
     "output_type": "stream",
     "text": [
      "3.4444444444444446\n"
     ]
    }
   ],
   "source": [
    "# Variance is the average of the squared differences from the mean\n",
    "print(statistics.variance(agesData))"
   ]
  },
  {
   "cell_type": "code",
   "execution_count": 25,
   "metadata": {},
   "outputs": [
    {
     "name": "stdout",
     "output_type": "stream",
     "text": [
      "1.855921454276674\n",
      "1.855921454276674\n"
     ]
    }
   ],
   "source": [
    "# Standard Deviation is the square root of variance\n",
    "print(statistics.stdev(agesData))\n",
    "print(math.sqrt(statistics.variance(agesData)))"
   ]
  },
  {
   "cell_type": "markdown",
   "metadata": {},
   "source": [
    "# Itertools"
   ]
  },
  {
   "cell_type": "code",
   "execution_count": 26,
   "metadata": {
    "scrolled": true
   },
   "outputs": [],
   "source": [
    "import itertools"
   ]
  },
  {
   "cell_type": "markdown",
   "metadata": {},
   "source": [
    "## Infinite Counting"
   ]
  },
  {
   "cell_type": "code",
   "execution_count": 27,
   "metadata": {
    "scrolled": true
   },
   "outputs": [
    {
     "name": "stdout",
     "output_type": "stream",
     "text": [
      "50\n",
      "55\n",
      "60\n",
      "65\n",
      "70\n",
      "75\n",
      "80\n"
     ]
    }
   ],
   "source": [
    "for x in itertools.count(50, 5):\n",
    "    print(x)\n",
    "    if x == 80:\n",
    "        break"
   ]
  },
  {
   "cell_type": "markdown",
   "metadata": {},
   "source": [
    "## Infinite Cycling"
   ]
  },
  {
   "cell_type": "code",
   "execution_count": 28,
   "metadata": {
    "scrolled": true
   },
   "outputs": [
    {
     "name": "stdout",
     "output_type": "stream",
     "text": [
      "1\n",
      "2\n",
      "3\n",
      "4\n",
      "1\n",
      "2\n",
      "3\n",
      "4\n",
      "1\n",
      "2\n",
      "3\n",
      "4\n",
      "1\n"
     ]
    }
   ],
   "source": [
    "x = 0\n",
    "for c in itertools.cycle([1, 2, 3, 4]):\n",
    "    print(c)\n",
    "    x = x + 1\n",
    "    if x > 12:\n",
    "        break"
   ]
  },
  {
   "cell_type": "markdown",
   "metadata": {},
   "source": [
    "## Infinite Repeating"
   ]
  },
  {
   "cell_type": "code",
   "execution_count": 29,
   "metadata": {
    "scrolled": true
   },
   "outputs": [
    {
     "name": "stdout",
     "output_type": "stream",
     "text": [
      "True\n",
      "True\n",
      "True\n",
      "True\n",
      "True\n",
      "True\n",
      "True\n",
      "True\n",
      "True\n",
      "True\n",
      "True\n"
     ]
    }
   ],
   "source": [
    "x = 0\n",
    "for r in itertools.repeat(True):\n",
    "    print(r)\n",
    "    x = x + 1\n",
    "    if x > 10:\n",
    "        break"
   ]
  },
  {
   "cell_type": "markdown",
   "metadata": {},
   "source": [
    "## Permutations: Order matters - some copies with same inputs but in different order"
   ]
  },
  {
   "cell_type": "code",
   "execution_count": 30,
   "metadata": {},
   "outputs": [
    {
     "name": "stdout",
     "output_type": "stream",
     "text": [
      "(1, 2, 3)\n",
      "(1, 3, 2)\n",
      "(2, 1, 3)\n",
      "(2, 3, 1)\n",
      "(3, 1, 2)\n",
      "(3, 2, 1)\n"
     ]
    }
   ],
   "source": [
    "election = {1: \"Barb\", 2:\"Karen\", 3:\"Erin\"}\n",
    "for p in itertools.permutations(election):\n",
    "    print(p)"
   ]
  },
  {
   "cell_type": "code",
   "execution_count": 31,
   "metadata": {},
   "outputs": [
    {
     "name": "stdout",
     "output_type": "stream",
     "text": [
      "('Barb', 'Karen', 'Erin')\n",
      "('Barb', 'Erin', 'Karen')\n",
      "('Karen', 'Barb', 'Erin')\n",
      "('Karen', 'Erin', 'Barb')\n",
      "('Erin', 'Barb', 'Karen')\n",
      "('Erin', 'Karen', 'Barb')\n"
     ]
    }
   ],
   "source": [
    "for p1 in itertools.permutations(election.values()):\n",
    "    print(p1)"
   ]
  },
  {
   "cell_type": "markdown",
   "metadata": {},
   "source": [
    "## Combinations: Order does not matter - no copies with same inputs"
   ]
  },
  {
   "cell_type": "code",
   "execution_count": 32,
   "metadata": {},
   "outputs": [
    {
     "name": "stdout",
     "output_type": "stream",
     "text": [
      "('Red', 'Blue', 'Purple')\n",
      "('Red', 'Blue', 'Orange')\n",
      "('Red', 'Blue', 'Yellow')\n",
      "('Red', 'Blue', 'Pink')\n",
      "('Red', 'Purple', 'Orange')\n",
      "('Red', 'Purple', 'Yellow')\n",
      "('Red', 'Purple', 'Pink')\n",
      "('Red', 'Orange', 'Yellow')\n",
      "('Red', 'Orange', 'Pink')\n",
      "('Red', 'Yellow', 'Pink')\n",
      "('Blue', 'Purple', 'Orange')\n",
      "('Blue', 'Purple', 'Yellow')\n",
      "('Blue', 'Purple', 'Pink')\n",
      "('Blue', 'Orange', 'Yellow')\n",
      "('Blue', 'Orange', 'Pink')\n",
      "('Blue', 'Yellow', 'Pink')\n",
      "('Purple', 'Orange', 'Yellow')\n",
      "('Purple', 'Orange', 'Pink')\n",
      "('Purple', 'Yellow', 'Pink')\n",
      "('Orange', 'Yellow', 'Pink')\n"
     ]
    }
   ],
   "source": [
    "colorsForPainting = [\"Red\", \"Blue\", \"Purple\", \"Orange\", \"Yellow\", \"Pink\"]\n",
    "for c in itertools.combinations(colorsForPainting, 3):\n",
    "    print(c)"
   ]
  },
  {
   "cell_type": "code",
   "execution_count": null,
   "metadata": {},
   "outputs": [],
   "source": []
  }
 ],
 "metadata": {
  "kernelspec": {
   "display_name": "Python 3",
   "language": "python",
   "name": "python3"
  },
  "language_info": {
   "codemirror_mode": {
    "name": "ipython",
    "version": 3
   },
   "file_extension": ".py",
   "mimetype": "text/x-python",
   "name": "python",
   "nbconvert_exporter": "python",
   "pygments_lexer": "ipython3",
   "version": "3.7.1"
  }
 },
 "nbformat": 4,
 "nbformat_minor": 2
}
