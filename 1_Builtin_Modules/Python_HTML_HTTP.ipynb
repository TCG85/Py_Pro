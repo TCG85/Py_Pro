{
 "cells": [
  {
   "cell_type": "markdown",
   "metadata": {},
   "source": [
    "# HTML Parser Module"
   ]
  },
  {
   "cell_type": "code",
   "execution_count": 1,
   "metadata": {},
   "outputs": [],
   "source": [
    "from html.parser import HTMLParser"
   ]
  },
  {
   "cell_type": "code",
   "execution_count": 2,
   "metadata": {},
   "outputs": [],
   "source": [
    "class HTMLParser(HTMLParser):\n",
    "    '''\n",
    "    Class to extract and list all tags and print data\n",
    "    '''\n",
    "    def handle_starttag(self, tag, attrs):\n",
    "        print(\"Start tag: \", tag)\n",
    "        for attr in attrs:\n",
    "            print(\"attr:\", attr)\n",
    "    def handle_endtag(self, tag):\n",
    "        print(\"End tag: \", tag)\n",
    "    def handle_comment(self, data):\n",
    "        print(\"Comment: \", data)\n",
    "    def handle_data(self, data):\n",
    "        print(\"Data: \", data)"
   ]
  },
  {
   "cell_type": "code",
   "execution_count": 3,
   "metadata": {},
   "outputs": [
    {
     "name": "stdout",
     "output_type": "stream",
     "text": [
      "Start tag:  html\n",
      "Start tag:  head\n",
      "Start tag:  title\n",
      "Data:  Coder\n",
      "End tag:  title\n",
      "End tag:  head\n",
      "Start tag:  body\n",
      "Start tag:  h1\n",
      "Comment:  hi\n",
      "Data:  I am a coder\n",
      "End tag:  h1\n",
      "End tag:  body\n",
      "End tag:  html\n",
      "\n"
     ]
    }
   ],
   "source": [
    "parser = HTMLParser()\n",
    "parser.feed(\"<html><head><title>Coder</title></head><body><h1><!--hi-->I am a coder</h1></body></html>\")\n",
    "print()"
   ]
  },
  {
   "cell_type": "code",
   "execution_count": 4,
   "metadata": {},
   "outputs": [
    {
     "name": "stdout",
     "output_type": "stream",
     "text": [
      "Put in HTML Code: <html><head><title>Coder</title></head><body><h1><!--hi-->bla bla bla bla bla</h1></body></html>\n",
      "Start tag:  html\n",
      "Start tag:  head\n",
      "Start tag:  title\n",
      "Data:  Coder\n",
      "End tag:  title\n",
      "End tag:  head\n",
      "Start tag:  body\n",
      "Start tag:  h1\n",
      "Comment:  hi\n",
      "Data:  bla bla bla bla bla\n",
      "End tag:  h1\n",
      "End tag:  body\n",
      "End tag:  html\n",
      "\n"
     ]
    }
   ],
   "source": [
    "input = input(\"Put in HTML Code: \")\n",
    "parser.feed(input)\n",
    "print()"
   ]
  },
  {
   "cell_type": "code",
   "execution_count": 5,
   "metadata": {},
   "outputs": [
    {
     "name": "stdout",
     "output_type": "stream",
     "text": [
      "Start tag:  h2\n",
      "Data:  Welcome\n",
      "End tag:  h2\n",
      "Data:  \n",
      "\n",
      "Start tag:  p\n",
      "Data:  Welcome to my blog\n",
      "End tag:  p\n"
     ]
    }
   ],
   "source": [
    "htmlFile = open(\"sampleHTML.html\", \"r\")\n",
    "s = \"\"\n",
    "for line in htmlFile:\n",
    "    s += line\n",
    "parser.feed(s)"
   ]
  },
  {
   "cell_type": "markdown",
   "metadata": {},
   "source": [
    "# Text Wrap Module"
   ]
  },
  {
   "cell_type": "code",
   "execution_count": 6,
   "metadata": {},
   "outputs": [],
   "source": [
    "import textwrap"
   ]
  },
  {
   "cell_type": "code",
   "execution_count": 7,
   "metadata": {},
   "outputs": [],
   "source": [
    "websiteText = \"\"\"   Learning can happen anywhere with our apps on your computer,\n",
    "mobile device, and TV, featuring enhanced navigation and faster streaming\n",
    "for anytime learning. Limitless learning, limitless possibilities.\"\"\""
   ]
  },
  {
   "cell_type": "code",
   "execution_count": 8,
   "metadata": {},
   "outputs": [
    {
     "name": "stdout",
     "output_type": "stream",
     "text": [
      "No Dedent:\n",
      "   Learning can happen anywhere with our apps on your computer, mobile\n",
      "device, and TV, featuring enhanced navigation and faster streaming for\n",
      "anytime learning. Limitless learning, limitless possibilities.\n"
     ]
    }
   ],
   "source": [
    "print(\"No Dedent:\")\n",
    "print(textwrap.fill(websiteText))"
   ]
  },
  {
   "cell_type": "code",
   "execution_count": 9,
   "metadata": {},
   "outputs": [
    {
     "name": "stdout",
     "output_type": "stream",
     "text": [
      "Dedent:\n",
      "Learning can happen anywhere with our apps on your computer,\n",
      "mobile device, and TV, featuring enhanced navigation and faster streaming\n",
      "for anytime learning. Limitless learning, limitless possibilities.\n"
     ]
    }
   ],
   "source": [
    "print(\"Dedent:\")\n",
    "dedent_text = textwrap.dedent(websiteText).strip()\n",
    "print(dedent_text)"
   ]
  },
  {
   "cell_type": "code",
   "execution_count": 10,
   "metadata": {},
   "outputs": [
    {
     "name": "stdout",
     "output_type": "stream",
     "text": [
      "Fill:\n",
      "\n",
      "Learning can happen anywhere with our apps on your\n",
      "computer, mobile device, and TV, featuring\n",
      "enhanced navigation and faster streaming for\n",
      "anytime learning. Limitless learning, limitless\n",
      "possibilities.\n",
      "Learning can happen anywhere with our apps on your computer, mobile device, and TV, featuring\n",
      "enhanced navigation and faster streaming for anytime learning. Limitless learning, limitless\n",
      "possibilities.\n"
     ]
    }
   ],
   "source": [
    "print(\"Fill:\")\n",
    "print()\n",
    "print(textwrap.fill(dedent_text, width=50))\n",
    "print(textwrap.fill(dedent_text, width=100))"
   ]
  },
  {
   "cell_type": "code",
   "execution_count": 11,
   "metadata": {},
   "outputs": [
    {
     "name": "stdout",
     "output_type": "stream",
     "text": [
      "Controlling Indent:\n",
      ">>>Learning can happen anywhere with our apps on your computer, mobile\n",
      "---device, and TV, featuring enhanced navigation and faster streaming\n",
      "---for anytime learning. Limitless learning, limitless possibilities.\n"
     ]
    }
   ],
   "source": [
    "print(\"Controlling Indent:\")\n",
    "print(textwrap.fill(dedent_text, initial_indent=\">>>\", subsequent_indent=\"---\"))"
   ]
  },
  {
   "cell_type": "code",
   "execution_count": 12,
   "metadata": {},
   "outputs": [
    {
     "name": "stdout",
     "output_type": "stream",
     "text": [
      "Shortening Text: \n",
      "Lorem ipsum dolor sit...\n"
     ]
    }
   ],
   "source": [
    "print(\"Shortening Text: \")\n",
    "short = textwrap.shorten(\"Lorem ipsum dolor sit amet, consectetur adipiscing elit, sed do eiusmod tempor incididunt ut labore et dolore magna aliqua. Ut enim ad minim veniam, quis nostrud exercitation ullamco laboris nisi ut aliquip ex ea commodo consequat. Duis aute irure dolor in reprehenderit in voluptate velit esse cillum dolore eu fugiat nulla pariatur. Excepteur sint occaecat cupidatat non proident, sunt in culpa qui officia deserunt mollit anim id est laborum.\"\n",
    "                         , width=25, placeholder=\"...\")\n",
    "print(short)"
   ]
  },
  {
   "cell_type": "markdown",
   "metadata": {},
   "source": [
    "# HTTP Package"
   ]
  },
  {
   "cell_type": "code",
   "execution_count": 13,
   "metadata": {},
   "outputs": [],
   "source": [
    "import urllib.request\n",
    "import json\n",
    "import textwrap"
   ]
  },
  {
   "cell_type": "markdown",
   "metadata": {},
   "source": [
    "## In this example we'll se the Google Books API\n",
    " https://www.googleapis.com/books/v1/volumes?q=isbn:1101904224"
   ]
  },
  {
   "cell_type": "code",
   "execution_count": 14,
   "metadata": {
    "scrolled": true
   },
   "outputs": [
    {
     "name": "stdout",
     "output_type": "stream",
     "text": [
      "{  \"kind\": \"books#volumes\",  \"totalItems\": 1,\n",
      "\"items\": [   {    \"kind\": \"books#volume\",    \"id\":\n",
      "\"1imJDAAAQBAJ\",    \"etag\": \"bmWKVKSIxBY\",\n",
      "\"selfLink\": \"https://www.googleapis.com/books/v1/v\n",
      "olumes/1imJDAAAQBAJ\",    \"volumeInfo\": {\n",
      "\"title\": \"Dark Matter\",     \"subtitle\": \"A Novel\",\n",
      "\"authors\": [      \"Blake Crouch\"     ],\n",
      "\"publisher\": \"Crown Books\",     \"publishedDate\":\n",
      "\"2016\",     \"description\": \"A mind-bending,\n",
      "relentlessly paced science-fiction thriller, in\n",
      "which an ordinary man is kidnapped, knocked\n",
      "unconscious--and awakens in a world inexplicably\n",
      "different from the reality he thought he knew.\",\n",
      "\"industryIdentifiers\": [      {       \"type\":\n",
      "\"ISBN_13\",       \"identifier\": \"9781101904220\"\n",
      "},      {       \"type\": \"ISBN_10\",\n",
      "\"identifier\": \"1101904224\"      }     ],\n",
      "\"readingModes\": {      \"text\": false,\n",
      "\"image\": false     },     \"pageCount\": 342,\n",
      "\"printType\": \"BOOK\",     \"categories\": [\n",
      "\"FICTION\"     ],     \"averageRating\": 4.0,\n",
      "\"ratingsCount\": 956,     \"maturityRating\":\n",
      "\"NOT_MATURE\",     \"allowAnonLogging\": false,\n",
      "\"contentVersion\": \"0.2.0.0.preview.0\",\n",
      "\"panelizationSummary\": {\n",
      "\"containsEpubBubbles\": false,\n",
      "\"containsImageBubbles\": false     },\n",
      "\"imageLinks\": {      \"smallThumbnail\": \"http://boo\n",
      "ks.google.com/books/content?id=1imJDAAAQBAJ&prints\n",
      "ec=frontcover&img=1&zoom=5&source=gbs_api\",\n",
      "\"thumbnail\": \"http://books.google.com/books/conten\n",
      "t?id=1imJDAAAQBAJ&printsec=frontcover&img=1&zoom=1\n",
      "&source=gbs_api\"     },     \"language\": \"en\",\n",
      "\"previewLink\": \"http://books.google.de/books?id=1i\n",
      "mJDAAAQBAJ&dq=isbn:1101904224&hl=&cd=1&source=gbs_\n",
      "api\",     \"infoLink\": \"http://books.google.de/book\n",
      "s?id=1imJDAAAQBAJ&dq=isbn:1101904224&hl=&source=gb\n",
      "s_api\",     \"canonicalVolumeLink\": \"https://books.\n",
      "google.com/books/about/Dark_Matter.html?hl=&id=1im\n",
      "JDAAAQBAJ\"    },    \"saleInfo\": {     \"country\":\n",
      "\"DE\",     \"saleability\": \"NOT_FOR_SALE\",\n",
      "\"isEbook\": false    },    \"accessInfo\": {\n",
      "\"country\": \"DE\",     \"viewability\": \"NO_PAGES\",\n",
      "\"embeddable\": false,     \"publicDomain\": false,\n",
      "\"textToSpeechPermission\": \"ALLOWED\",     \"epub\": {\n",
      "\"isAvailable\": false     },     \"pdf\": {\n",
      "\"isAvailable\": false     },     \"webReaderLink\": \"\n",
      "http://play.google.com/books/reader?id=1imJDAAAQBA\n",
      "J&hl=&printsec=frontcover&source=gbs_api\",\n",
      "\"accessViewStatus\": \"NONE\",\n",
      "\"quoteSharingAllowed\": false    },\n",
      "\"searchInfo\": {     \"textSnippet\": \"A mind-\n",
      "bending, relentlessly paced science-fiction\n",
      "thriller, in which an ordinary man is kidnapped,\n",
      "knocked unconscious--and awakens in a world\n",
      "inexplicably different from the reality he thought\n",
      "he knew.\"    }   }  ] }\n",
      "\n"
     ]
    }
   ],
   "source": [
    "with urllib.request.urlopen(\"https://www.googleapis.com/books/v1/volumes?q=isbn:1101904224\") as f:\n",
    "    text = f.read()\n",
    "    decodedtext = text.decode('utf-8')\n",
    "    print(textwrap.fill(decodedtext, width=50))\n",
    "\n",
    "print()"
   ]
  },
  {
   "cell_type": "code",
   "execution_count": 15,
   "metadata": {},
   "outputs": [
    {
     "name": "stdout",
     "output_type": "stream",
     "text": [
      "books#volumes\n"
     ]
    }
   ],
   "source": [
    "obj = json.loads(decodedtext)\n",
    "print(obj['kind'])"
   ]
  },
  {
   "cell_type": "code",
   "execution_count": 16,
   "metadata": {},
   "outputs": [
    {
     "name": "stdout",
     "output_type": "stream",
     "text": [
      "A mind-bending, relentlessly paced science-fiction thriller, in which an ordinary man is kidnapped, knocked unconscious--and awakens in a world inexplicably different from the reality he thought he knew.\n"
     ]
    }
   ],
   "source": [
    "print(obj['items'][0]['searchInfo']['textSnippet'])"
   ]
  },
  {
   "cell_type": "code",
   "execution_count": null,
   "metadata": {},
   "outputs": [],
   "source": []
  }
 ],
 "metadata": {
  "kernelspec": {
   "display_name": "Python 3",
   "language": "python",
   "name": "python3"
  },
  "language_info": {
   "codemirror_mode": {
    "name": "ipython",
    "version": 3
   },
   "file_extension": ".py",
   "mimetype": "text/x-python",
   "name": "python",
   "nbconvert_exporter": "python",
   "pygments_lexer": "ipython3",
   "version": "3.7.1"
  }
 },
 "nbformat": 4,
 "nbformat_minor": 2
}
