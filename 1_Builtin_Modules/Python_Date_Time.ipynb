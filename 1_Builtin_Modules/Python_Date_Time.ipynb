{
 "cells": [
  {
   "cell_type": "markdown",
   "metadata": {},
   "source": [
    "# Datetime Module"
   ]
  },
  {
   "cell_type": "code",
   "execution_count": 1,
   "metadata": {},
   "outputs": [],
   "source": [
    "from datetime import datetime"
   ]
  },
  {
   "cell_type": "code",
   "execution_count": 2,
   "metadata": {},
   "outputs": [],
   "source": [
    "now = datetime.now()"
   ]
  },
  {
   "cell_type": "code",
   "execution_count": 3,
   "metadata": {},
   "outputs": [
    {
     "name": "stdout",
     "output_type": "stream",
     "text": [
      "2019-01-07\n",
      "2019\n",
      "1\n",
      "16\n",
      "3\n",
      "31\n",
      "16:03:31.652940\n"
     ]
    }
   ],
   "source": [
    "print(now.date())\n",
    "\n",
    "print(now.year)\n",
    "\n",
    "print(now.month)\n",
    "\n",
    "print(now.hour)\n",
    "\n",
    "print(now.minute)\n",
    "\n",
    "print(now.second)\n",
    "\n",
    "print(now.time())"
   ]
  },
  {
   "cell_type": "markdown",
   "metadata": {},
   "source": [
    "## Getting more control over formatting"
   ]
  },
  {
   "cell_type": "code",
   "execution_count": 4,
   "metadata": {},
   "outputs": [
    {
     "name": "stdout",
     "output_type": "stream",
     "text": [
      "Mon Monday 07\n",
      "Jan January 01\n",
      "Monday January 07\n",
      "16 : 03 : 31 PM\n",
      "19 2019\n"
     ]
    }
   ],
   "source": [
    "# Day \n",
    "print(now.strftime(\"%a %A %d\"))\n",
    "# Month\n",
    "print(now.strftime(\"%b %B %m\"))\n",
    "# Full Date\n",
    "print(now.strftime(\"%A %B %d\"))\n",
    "# Full Time\n",
    "print(now.strftime(\"%H : %M : %S %p\"))\n",
    "# Year\n",
    "print(now.strftime(\"%y %Y\"))"
   ]
  },
  {
   "cell_type": "markdown",
   "metadata": {},
   "source": [
    "# Calendar Module"
   ]
  },
  {
   "cell_type": "code",
   "execution_count": 5,
   "metadata": {},
   "outputs": [],
   "source": [
    "from datetime import datetime, timedelta\n",
    "import calendar"
   ]
  },
  {
   "cell_type": "code",
   "execution_count": 6,
   "metadata": {},
   "outputs": [],
   "source": [
    "now = datetime.now()"
   ]
  },
  {
   "cell_type": "code",
   "execution_count": 7,
   "metadata": {},
   "outputs": [
    {
     "name": "stdout",
     "output_type": "stream",
     "text": [
      "2019-01-09\n",
      "2018-12-17\n"
     ]
    }
   ],
   "source": [
    "# testdate to save date 2 days from now\n",
    "testDate = now + timedelta(days=2)\n",
    "# myFirstChristmas to save date 3 weeks ago\n",
    "myFirstChristmas = now - timedelta(weeks=3)\n",
    "\n",
    "print(testDate.date())\n",
    "print(myFirstChristmas.date())"
   ]
  },
  {
   "cell_type": "code",
   "execution_count": 8,
   "metadata": {},
   "outputs": [
    {
     "name": "stdout",
     "output_type": "stream",
     "text": [
      "Comparison works\n"
     ]
    }
   ],
   "source": [
    "# `>` means 'is later'\n",
    "if testDate > myFirstChristmas:\n",
    "    print(\"Comparison works\")"
   ]
  },
  {
   "cell_type": "code",
   "execution_count": 9,
   "metadata": {},
   "outputs": [
    {
     "name": "stdout",
     "output_type": "stream",
     "text": [
      "    October 2001\n",
      "Mo Tu We Th Fr Sa Su\n",
      " 1  2  3  4  5  6  7\n",
      " 8  9 10 11 12 13 14\n",
      "15 16 17 18 19 20 21\n",
      "22 23 24 25 26 27 28\n",
      "29 30 31\n",
      "\n"
     ]
    }
   ],
   "source": [
    "cal = calendar.month(2001, 10)\n",
    "print(cal)"
   ]
  },
  {
   "cell_type": "code",
   "execution_count": 10,
   "metadata": {},
   "outputs": [
    {
     "name": "stdout",
     "output_type": "stream",
     "text": [
      "3\n"
     ]
    }
   ],
   "source": [
    "# tells which day of the week it was: mon-sun = 0-6\n",
    "cal2 = calendar.weekday(2001, 10, 11)\n",
    "print(cal2)"
   ]
  },
  {
   "cell_type": "code",
   "execution_count": 11,
   "metadata": {},
   "outputs": [
    {
     "name": "stdout",
     "output_type": "stream",
     "text": [
      "False\n",
      "True\n"
     ]
    }
   ],
   "source": [
    "# is it a leap year?\n",
    "print(calendar.isleap(1999))\n",
    "print(calendar.isleap(2000))"
   ]
  },
  {
   "cell_type": "markdown",
   "metadata": {},
   "source": [
    "## Create a Timer with the Time module"
   ]
  },
  {
   "cell_type": "code",
   "execution_count": 12,
   "metadata": {},
   "outputs": [],
   "source": [
    "import time"
   ]
  },
  {
   "cell_type": "code",
   "execution_count": 13,
   "metadata": {},
   "outputs": [
    {
     "name": "stdout",
     "output_type": "stream",
     "text": [
      "Start? >yes\n",
      "> 0\n",
      "> 1\n",
      "> 2\n",
      "> 3\n",
      "> 4\n",
      "> 5\n",
      "> 6\n",
      "> 7\n",
      "> 8\n",
      "> 9\n",
      "> 10\n"
     ]
    }
   ],
   "source": [
    "run = input(\"Start? >\")\n",
    "\n",
    "seconds = 0\n",
    "\n",
    "if run == \"yes\":\n",
    "    while seconds != 10:\n",
    "        print(\">\", seconds)\n",
    "        time.sleep(1)\n",
    "        seconds += 1\n",
    "    print(\">\", seconds)"
   ]
  },
  {
   "cell_type": "code",
   "execution_count": null,
   "metadata": {},
   "outputs": [],
   "source": []
  }
 ],
 "metadata": {
  "kernelspec": {
   "display_name": "Python 3",
   "language": "python",
   "name": "python3"
  },
  "language_info": {
   "codemirror_mode": {
    "name": "ipython",
    "version": 3
   },
   "file_extension": ".py",
   "mimetype": "text/x-python",
   "name": "python",
   "nbconvert_exporter": "python",
   "pygments_lexer": "ipython3",
   "version": "3.7.1"
  }
 },
 "nbformat": 4,
 "nbformat_minor": 2
}
