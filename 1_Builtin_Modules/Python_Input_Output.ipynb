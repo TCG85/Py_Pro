{
 "cells": [
  {
   "cell_type": "markdown",
   "metadata": {},
   "source": [
    "# Command Line Arguments"
   ]
  },
  {
   "cell_type": "code",
   "execution_count": 1,
   "metadata": {},
   "outputs": [],
   "source": [
    "import sys"
   ]
  },
  {
   "cell_type": "markdown",
   "metadata": {},
   "source": [
    "## Print Arguments"
   ]
  },
  {
   "cell_type": "markdown",
   "metadata": {},
   "source": [
    "\n",
    "`sys.argv`: The list of command line arguments passed to a Python script. `argv[0]` is the script name (it is operating system dependent whether this is a full pathname or not). If the command was executed using the -c command line option to the interpreter, `argv[0]` is set to the string '-c'. If no script name was passed to the Python interpreter, `argv[0]` is the empty string.\n",
    "\n",
    "    To loop over the standard input, or the list of files given on the command line, see the fileinput module.\n"
   ]
  },
  {
   "cell_type": "markdown",
   "metadata": {},
   "source": [
    "### Dynamic objects:\n",
    "\n",
    "`argv` -- command line arguments; `argv[0]` is the script pathname if known <br>\n",
    "`path` -- module search path; `path[0]` is the script directory, else `''`<br>\n",
    "`modules` -- dictionary of loaded modules <br>\n",
    "\n",
    "### Functions:\n",
    "\n",
    "`displayhook()` -- print an object to the screen, and save it in builtins._ <br>\n",
    "`excepthook()` -- print an exception and its traceback to sys.stderr <br>\n",
    "`exc_info()` -- return thread-safe information about the current exception <br>\n",
    "`exit()` -- exit the interpreter by raising SystemExit <br>\n",
    "`getdlopenflags()` -- returns flags to be used for dlopen() calls <br>\n",
    "`getprofile()` -- get the global profiling function <br>\n",
    "`getrefcount()` -- return the reference count for an object (plus one :-) <br>\n",
    "`getrecursionlimit()` -- return the max recursion depth for the interpreter <br>\n",
    "`getsizeof()` -- return the size of an object in bytes <br>\n",
    "`gettrace()` -- get the global debug tracing function <br>\n",
    "`setcheckinterval()` -- control how often the interpreter checks for events <br>\n",
    "`setdlopenflags()` -- set the flags to be used for dlopen() calls <br>\n",
    "`setprofile()` -- set the global profiling function <br>\n",
    "`setrecursionlimit()` -- set the max recursion depth for the interpreter <br>\n",
    "`settrace()` -- set the global debug tracing function <br>\n"
   ]
  },
  {
   "cell_type": "code",
   "execution_count": 2,
   "metadata": {},
   "outputs": [
    {
     "name": "stdout",
     "output_type": "stream",
     "text": [
      "Number of Modules:  747\n",
      "Modules:  {'sys': <module 'sys' (built-in)>, 'builtins': <module 'builtins' (built-in)>, '_frozen_importlib': <module 'importlib._bootstrap' (frozen)>, '_imp': <module '_imp' (built-in)>, '_thread': <module '_thread' (built-in)>, '_warnings': <module '_warnings' (built-in)>, '_weakref': <module '_weakref' (built-in)>, 'zipimport': <module 'zipimport' (built-in)>, '_frozen_importlib_external': <module 'importlib._bootstrap_external' (frozen)>, '_io': <module 'io' (built-in)>, 'marshal': <module 'marshal' (built-in)>, 'posix': <module 'posix' (built-in)>, 'encodings': <module 'encodings' from '/home/manohar/anaconda3/lib/python3.7/encodings/__init__.py'>, 'codecs': <module 'codecs' from '/home/manohar/anaconda3/lib/python3.7/codecs.py'>, '_codecs': <module '_codecs' (built-in)>, 'encodings.aliases': <module 'encodings.aliases' from '/home/manohar/anaconda3/lib/python3.7/encodings/aliases.py'>, 'encodings.utf_8': <module 'encodings.utf_8' from '/home/manohar/anaconda3/lib/python3.7/encodings/utf_8.py'>, '_signal': <module '_signal' (built-in)>, '__main__': <module '__main__'>, 'encodings.latin_1': <module 'encodings.latin_1' from '/home/manohar/anaconda3/lib/python3.7/encodings/latin_1.py'>, 'io': <module 'io' from '/home/manohar/anaconda3/lib/python3.7/io.py'>, 'abc': <module 'abc' from '/home/manohar/anaconda3/lib/python3.7/abc.py'>, '_abc': <module '_abc' (built-in)>, '_bootlocale': <module '_bootlocale' from '/home/manohar/anaconda3/lib/python3.7/_bootlocale.py'>, '_locale': <module '_locale' (built-in)>, 'site': <module 'site' from '/home/manohar/anaconda3/lib/python3.7/site.py'>, 'os': <module 'os' from '/home/manohar/anaconda3/lib/python3.7/os.py'>, 'stat': <module 'stat' from '/home/manohar/anaconda3/lib/python3.7/stat.py'>, '_stat': <module '_stat' (built-in)>, 'posixpath': <module 'posixpath' from '/home/manohar/anaconda3/lib/python3.7/posixpath.py'>, 'genericpath': <module 'genericpath' from '/home/manohar/anaconda3/lib/python3.7/genericpath.py'>, 'os.path': <module 'posixpath' from '/home/manohar/anaconda3/lib/python3.7/posixpath.py'>, '_collections_abc': <module '_collections_abc' from '/home/manohar/anaconda3/lib/python3.7/_collections_abc.py'>, '_sitebuiltins': <module '_sitebuiltins' from '/home/manohar/anaconda3/lib/python3.7/_sitebuiltins.py'>, 'types': <module 'types' from '/home/manohar/anaconda3/lib/python3.7/types.py'>, 'importlib': <module 'importlib' from '/home/manohar/anaconda3/lib/python3.7/importlib/__init__.py'>, 'importlib._bootstrap': <module 'importlib._bootstrap' (frozen)>, 'importlib._bootstrap_external': <module 'importlib._bootstrap_external' (frozen)>, 'warnings': <module 'warnings' from '/home/manohar/anaconda3/lib/python3.7/warnings.py'>, 'importlib.util': <module 'importlib.util' from '/home/manohar/anaconda3/lib/python3.7/importlib/util.py'>, 'importlib.abc': <module 'importlib.abc' from '/home/manohar/anaconda3/lib/python3.7/importlib/abc.py'>, 'importlib.machinery': <module 'importlib.machinery' from '/home/manohar/anaconda3/lib/python3.7/importlib/machinery.py'>, 'contextlib': <module 'contextlib' from '/home/manohar/anaconda3/lib/python3.7/contextlib.py'>, 'collections': <module 'collections' from '/home/manohar/anaconda3/lib/python3.7/collections/__init__.py'>, 'operator': <module 'operator' from '/home/manohar/anaconda3/lib/python3.7/operator.py'>, '_operator': <module '_operator' (built-in)>, 'keyword': <module 'keyword' from '/home/manohar/anaconda3/lib/python3.7/keyword.py'>, 'heapq': <module 'heapq' from '/home/manohar/anaconda3/lib/python3.7/heapq.py'>, '_heapq': <module '_heapq' from '/home/manohar/anaconda3/lib/python3.7/lib-dynload/_heapq.cpython-37m-x86_64-linux-gnu.so'>, 'itertools': <module 'itertools' (built-in)>, 'reprlib': <module 'reprlib' from '/home/manohar/anaconda3/lib/python3.7/reprlib.py'>, '_collections': <module '_collections' (built-in)>, 'functools': <module 'functools' from '/home/manohar/anaconda3/lib/python3.7/functools.py'>, '_functools': <module '_functools' (built-in)>, 'mpl_toolkits': <module 'mpl_toolkits' (namespace)>, 'sphinxcontrib': <module 'sphinxcontrib' from '/home/manohar/anaconda3/lib/python3.7/site-packages/sphinxcontrib/__init__.py'>, 'zope': <module 'zope' from '/home/manohar/anaconda3/lib/python3.7/site-packages/zope/__init__.py'>, 'runpy': <module 'runpy' from '/home/manohar/anaconda3/lib/python3.7/runpy.py'>, 'pkgutil': <module 'pkgutil' from '/home/manohar/anaconda3/lib/python3.7/pkgutil.py'>, 'weakref': <module 'weakref' from '/home/manohar/anaconda3/lib/python3.7/weakref.py'>, '_weakrefset': <module '_weakrefset' from '/home/manohar/anaconda3/lib/python3.7/_weakrefset.py'>, 'ipykernel': <module 'ipykernel' from '/home/manohar/anaconda3/lib/python3.7/site-packages/ipykernel/__init__.py'>, 'ipykernel._version': <module 'ipykernel._version' from '/home/manohar/anaconda3/lib/python3.7/site-packages/ipykernel/_version.py'>, 'ipykernel.connect': <module 'ipykernel.connect' from '/home/manohar/anaconda3/lib/python3.7/site-packages/ipykernel/connect.py'>, '__future__': <module '__future__' from '/home/manohar/anaconda3/lib/python3.7/__future__.py'>, 'json': <module 'json' from '/home/manohar/anaconda3/lib/python3.7/json/__init__.py'>, 'json.decoder': <module 'json.decoder' from '/home/manohar/anaconda3/lib/python3.7/json/decoder.py'>, 're': <module 're' from '/home/manohar/anaconda3/lib/python3.7/re.py'>, 'enum': <module 'enum' from '/home/manohar/anaconda3/lib/python3.7/enum.py'>, 'sre_compile': <module 'sre_compile' from '/home/manohar/anaconda3/lib/python3.7/sre_compile.py'>, '_sre': <module '_sre' (built-in)>, 'sre_parse': <module 'sre_parse' from '/home/manohar/anaconda3/lib/python3.7/sre_parse.py'>, 'sre_constants': <module 'sre_constants' from '/home/manohar/anaconda3/lib/python3.7/sre_constants.py'>, 'copyreg': <module 'copyreg' from '/home/manohar/anaconda3/lib/python3.7/copyreg.py'>, 'json.scanner': <module 'json.scanner' from '/home/manohar/anaconda3/lib/python3.7/json/scanner.py'>, '_json': <module '_json' from '/home/manohar/anaconda3/lib/python3.7/lib-dynload/_json.cpython-37m-x86_64-linux-gnu.so'>, 'json.encoder': <module 'json.encoder' from '/home/manohar/anaconda3/lib/python3.7/json/encoder.py'>, 'subprocess': <module 'subprocess' from '/home/manohar/anaconda3/lib/python3.7/subprocess.py'>, 'time': <module 'time' (built-in)>, 'signal': <module 'signal' from '/home/manohar/anaconda3/lib/python3.7/signal.py'>, 'errno': <module 'errno' (built-in)>, '_posixsubprocess': <module '_posixsubprocess' from '/home/manohar/anaconda3/lib/python3.7/lib-dynload/_posixsubprocess.cpython-37m-x86_64-linux-gnu.so'>, 'select': <module 'select' from '/home/manohar/anaconda3/lib/python3.7/lib-dynload/select.cpython-37m-x86_64-linux-gnu.so'>, 'selectors': <module 'selectors' from '/home/manohar/anaconda3/lib/python3.7/selectors.py'>, 'collections.abc': <module 'collections.abc' from '/home/manohar/anaconda3/lib/python3.7/collections/abc.py'>, 'math': <module 'math' from '/home/manohar/anaconda3/lib/python3.7/lib-dynload/math.cpython-37m-x86_64-linux-gnu.so'>, 'threading': <module 'threading' from '/home/manohar/anaconda3/lib/python3.7/threading.py'>, 'traceback': <module 'traceback' from '/home/manohar/anaconda3/lib/python3.7/traceback.py'>, 'linecache': <module 'linecache' from '/home/manohar/anaconda3/lib/python3.7/linecache.py'>, 'tokenize': <module 'tokenize' from '/home/manohar/anaconda3/lib/python3.7/tokenize.py'>, 'token': <module 'token' from '/home/manohar/anaconda3/lib/python3.7/token.py'>, 'IPython': <module 'IPython' from '/home/manohar/anaconda3/lib/python3.7/site-packages/IPython/__init__.py'>, 'IPython.core': <module 'IPython.core' from '/home/manohar/anaconda3/lib/python3.7/site-packages/IPython/core/__init__.py'>, 'IPython.core.getipython': <module 'IPython.core.getipython' from '/home/manohar/anaconda3/lib/python3.7/site-packages/IPython/core/getipython.py'>, 'IPython.core.release': <module 'IPython.core.release' from '/home/manohar/anaconda3/lib/python3.7/site-packages/IPython/core/release.py'>, 'IPython.core.application': <module 'IPython.core.application' from '/home/manohar/anaconda3/lib/python3.7/site-packages/IPython/core/application.py'>, 'atexit': <module 'atexit' (built-in)>, 'copy': <module 'copy' from '/home/manohar/anaconda3/lib/python3.7/copy.py'>, 'glob': <module 'glob' from '/home/manohar/anaconda3/lib/python3.7/glob.py'>, 'fnmatch': <module 'fnmatch' from '/home/manohar/anaconda3/lib/python3.7/fnmatch.py'>, 'logging': <module 'logging' from '/home/manohar/anaconda3/lib/python3.7/logging/__init__.py'>, 'string': <module 'string' from '/home/manohar/anaconda3/lib/python3.7/string.py'>, '_string': <module '_string' (built-in)>, 'shutil': <module 'shutil' from '/home/manohar/anaconda3/lib/python3.7/shutil.py'>, 'zlib': <module 'zlib' from '/home/manohar/anaconda3/lib/python3.7/lib-dynload/zlib.cpython-37m-x86_64-linux-gnu.so'>, 'bz2': <module 'bz2' from '/home/manohar/anaconda3/lib/python3.7/bz2.py'>, '_compression': <module '_compression' from '/home/manohar/anaconda3/lib/python3.7/_compression.py'>, '_bz2': <module '_bz2' from '/home/manohar/anaconda3/lib/python3.7/lib-dynload/_bz2.cpython-37m-x86_64-linux-gnu.so'>, 'lzma': <module 'lzma' from '/home/manohar/anaconda3/lib/python3.7/lzma.py'>, '_lzma': <module '_lzma' from '/home/manohar/anaconda3/lib/python3.7/lib-dynload/_lzma.cpython-37m-x86_64-linux-gnu.so'>, 'pwd': <module 'pwd' (built-in)>, 'grp': <module 'grp' from '/home/manohar/anaconda3/lib/python3.7/lib-dynload/grp.cpython-37m-x86_64-linux-gnu.so'>, 'traitlets': <module 'traitlets' from '/home/manohar/anaconda3/lib/python3.7/site-packages/traitlets/__init__.py'>, 'traitlets.traitlets': <module 'traitlets.traitlets' from '/home/manohar/anaconda3/lib/python3.7/site-packages/traitlets/traitlets.py'>, 'inspect': <module 'inspect' from '/home/manohar/anaconda3/lib/python3.7/inspect.py'>, 'dis': <module 'dis' from '/home/manohar/anaconda3/lib/python3.7/dis.py'>, 'opcode': <module 'opcode' from '/home/manohar/anaconda3/lib/python3.7/opcode.py'>, '_opcode': <module '_opcode' from '/home/manohar/anaconda3/lib/python3.7/lib-dynload/_opcode.cpython-37m-x86_64-linux-gnu.so'>, 'six': <module 'six' from '/home/manohar/anaconda3/lib/python3.7/site-packages/six.py'>, 'struct': <module 'struct' from '/home/manohar/anaconda3/lib/python3.7/struct.py'>, '_struct': <module '_struct' from '/home/manohar/anaconda3/lib/python3.7/lib-dynload/_struct.cpython-37m-x86_64-linux-gnu.so'>, 'traitlets.utils': <module 'traitlets.utils' from '/home/manohar/anaconda3/lib/python3.7/site-packages/traitlets/utils/__init__.py'>, 'traitlets.utils.getargspec': <module 'traitlets.utils.getargspec' from '/home/manohar/anaconda3/lib/python3.7/site-packages/traitlets/utils/getargspec.py'>, 'traitlets.utils.importstring': <module 'traitlets.utils.importstring' from '/home/manohar/anaconda3/lib/python3.7/site-packages/traitlets/utils/importstring.py'>, 'ipython_genutils': <module 'ipython_genutils' from '/home/manohar/anaconda3/lib/python3.7/site-packages/ipython_genutils/__init__.py'>, 'ipython_genutils._version': <module 'ipython_genutils._version' from '/home/manohar/anaconda3/lib/python3.7/site-packages/ipython_genutils/_version.py'>, 'ipython_genutils.py3compat': <module 'ipython_genutils.py3compat' from '/home/manohar/anaconda3/lib/python3.7/site-packages/ipython_genutils/py3compat.py'>, 'ipython_genutils.encoding': <module 'ipython_genutils.encoding' from '/home/manohar/anaconda3/lib/python3.7/site-packages/ipython_genutils/encoding.py'>, 'locale': <module 'locale' from '/home/manohar/anaconda3/lib/python3.7/locale.py'>, 'platform': <module 'platform' from '/home/manohar/anaconda3/lib/python3.7/platform.py'>, 'traitlets.utils.sentinel': <module 'traitlets.utils.sentinel' from '/home/manohar/anaconda3/lib/python3.7/site-packages/traitlets/utils/sentinel.py'>, 'traitlets.utils.bunch': <module 'traitlets.utils.bunch' from '/home/manohar/anaconda3/lib/python3.7/site-packages/traitlets/utils/bunch.py'>, 'traitlets._version': <module 'traitlets._version' from '/home/manohar/anaconda3/lib/python3.7/site-packages/traitlets/_version.py'>, 'traitlets.config': <module 'traitlets.config' from '/home/manohar/anaconda3/lib/python3.7/site-packages/traitlets/config/__init__.py'>, 'traitlets.config.application': <module 'traitlets.config.application' from '/home/manohar/anaconda3/lib/python3.7/site-packages/traitlets/config/application.py'>, 'decorator': <module 'decorator' from '/home/manohar/anaconda3/lib/python3.7/site-packages/decorator.py'>, 'traitlets.config.configurable': <module 'traitlets.config.configurable' from '/home/manohar/anaconda3/lib/python3.7/site-packages/traitlets/config/configurable.py'>, 'traitlets.config.loader': <module 'traitlets.config.loader' from '/home/manohar/anaconda3/lib/python3.7/site-packages/traitlets/config/loader.py'>, 'argparse': <module 'argparse' from '/home/manohar/anaconda3/lib/python3.7/argparse.py'>, 'gettext': <module 'gettext' from '/home/manohar/anaconda3/lib/python3.7/gettext.py'>, 'ast': <module 'ast' from '/home/manohar/anaconda3/lib/python3.7/ast.py'>, '_ast': <module '_ast' (built-in)>, 'ipython_genutils.path': <module 'ipython_genutils.path' from '/home/manohar/anaconda3/lib/python3.7/site-packages/ipython_genutils/path.py'>, 'random': <module 'random' from '/home/manohar/anaconda3/lib/python3.7/random.py'>, 'hashlib': <module 'hashlib' from '/home/manohar/anaconda3/lib/python3.7/hashlib.py'>, '_hashlib': <module '_hashlib' from '/home/manohar/anaconda3/lib/python3.7/lib-dynload/_hashlib.cpython-37m-x86_64-linux-gnu.so'>, '_blake2': <module '_blake2' from '/home/manohar/anaconda3/lib/python3.7/lib-dynload/_blake2.cpython-37m-x86_64-linux-gnu.so'>, '_sha3': <module '_sha3' from '/home/manohar/anaconda3/lib/python3.7/lib-dynload/_sha3.cpython-37m-x86_64-linux-gnu.so'>, 'bisect': <module 'bisect' from '/home/manohar/anaconda3/lib/python3.7/bisect.py'>, '_bisect': <module '_bisect' from '/home/manohar/anaconda3/lib/python3.7/lib-dynload/_bisect.cpython-37m-x86_64-linux-gnu.so'>, '_random': <module '_random' from '/home/manohar/anaconda3/lib/python3.7/lib-dynload/_random.cpython-37m-x86_64-linux-gnu.so'>, 'ipython_genutils.text': <module 'ipython_genutils.text' from '/home/manohar/anaconda3/lib/python3.7/site-packages/ipython_genutils/text.py'>, 'textwrap': <module 'textwrap' from '/home/manohar/anaconda3/lib/python3.7/textwrap.py'>, 'ipython_genutils.importstring': <module 'ipython_genutils.importstring' from '/home/manohar/anaconda3/lib/python3.7/site-packages/ipython_genutils/importstring.py'>, 'IPython.core.crashhandler': <module 'IPython.core.crashhandler' from '/home/manohar/anaconda3/lib/python3.7/site-packages/IPython/core/crashhandler.py'>, 'pprint': <module 'pprint' from '/home/manohar/anaconda3/lib/python3.7/pprint.py'>, 'IPython.core.ultratb': <module 'IPython.core.ultratb' from '/home/manohar/anaconda3/lib/python3.7/site-packages/IPython/core/ultratb.py'>, 'pydoc': <module 'pydoc' from '/home/manohar/anaconda3/lib/python3.7/pydoc.py'>, 'urllib': <module 'urllib' from '/home/manohar/anaconda3/lib/python3.7/urllib/__init__.py'>, 'urllib.parse': <module 'urllib.parse' from '/home/manohar/anaconda3/lib/python3.7/urllib/parse.py'>, 'IPython.core.debugger': <module 'IPython.core.debugger' from '/home/manohar/anaconda3/lib/python3.7/site-packages/IPython/core/debugger.py'>, 'bdb': <module 'bdb' from '/home/manohar/anaconda3/lib/python3.7/bdb.py'>, 'IPython.utils': <module 'IPython.utils' from '/home/manohar/anaconda3/lib/python3.7/site-packages/IPython/utils/__init__.py'>, 'IPython.utils.PyColorize': <module 'IPython.utils.PyColorize' from '/home/manohar/anaconda3/lib/python3.7/site-packages/IPython/utils/PyColorize.py'>, 'IPython.utils.coloransi': <module 'IPython.utils.coloransi' from '/home/manohar/anaconda3/lib/python3.7/site-packages/IPython/utils/coloransi.py'>, 'IPython.utils.ipstruct': <module 'IPython.utils.ipstruct' from '/home/manohar/anaconda3/lib/python3.7/site-packages/IPython/utils/ipstruct.py'>, 'IPython.utils.colorable': <module 'IPython.utils.colorable' from '/home/manohar/anaconda3/lib/python3.7/site-packages/IPython/utils/colorable.py'>, 'pygments': <module 'pygments' from '/home/manohar/anaconda3/lib/python3.7/site-packages/pygments/__init__.py'>, 'pygments.util': <module 'pygments.util' from '/home/manohar/anaconda3/lib/python3.7/site-packages/pygments/util.py'>, 'IPython.utils.py3compat': <module 'IPython.utils.py3compat' from '/home/manohar/anaconda3/lib/python3.7/site-packages/IPython/utils/py3compat.py'>, 'IPython.utils.encoding': <module 'IPython.utils.encoding' from '/home/manohar/anaconda3/lib/python3.7/site-packages/IPython/utils/encoding.py'>, 'IPython.core.excolors': <module 'IPython.core.excolors' from '/home/manohar/anaconda3/lib/python3.7/site-packages/IPython/core/excolors.py'>, 'IPython.testing': <module 'IPython.testing' from '/home/manohar/anaconda3/lib/python3.7/site-packages/IPython/testing/__init__.py'>, 'IPython.testing.skipdoctest': <module 'IPython.testing.skipdoctest' from '/home/manohar/anaconda3/lib/python3.7/site-packages/IPython/testing/skipdoctest.py'>, 'pdb': <module 'pdb' from '/home/manohar/anaconda3/lib/python3.7/pdb.py'>, 'cmd': <module 'cmd' from '/home/manohar/anaconda3/lib/python3.7/cmd.py'>, 'code': <module 'code' from '/home/manohar/anaconda3/lib/python3.7/code.py'>, 'codeop': <module 'codeop' from '/home/manohar/anaconda3/lib/python3.7/codeop.py'>, 'IPython.core.display_trap': <module 'IPython.core.display_trap' from '/home/manohar/anaconda3/lib/python3.7/site-packages/IPython/core/display_trap.py'>, 'IPython.utils.path': <module 'IPython.utils.path' from '/home/manohar/anaconda3/lib/python3.7/site-packages/IPython/utils/path.py'>, 'IPython.utils.process': <module 'IPython.utils.process' from '/home/manohar/anaconda3/lib/python3.7/site-packages/IPython/utils/process.py'>, 'IPython.utils._process_posix': <module 'IPython.utils._process_posix' from '/home/manohar/anaconda3/lib/python3.7/site-packages/IPython/utils/_process_posix.py'>, 'pexpect': <module 'pexpect' from '/home/manohar/anaconda3/lib/python3.7/site-packages/pexpect/__init__.py'>, 'pexpect.exceptions': <module 'pexpect.exceptions' from '/home/manohar/anaconda3/lib/python3.7/site-packages/pexpect/exceptions.py'>, 'pexpect.utils': <module 'pexpect.utils' from '/home/manohar/anaconda3/lib/python3.7/site-packages/pexpect/utils.py'>, 'pexpect.expect': <module 'pexpect.expect' from '/home/manohar/anaconda3/lib/python3.7/site-packages/pexpect/expect.py'>, 'pexpect.pty_spawn': <module 'pexpect.pty_spawn' from '/home/manohar/anaconda3/lib/python3.7/site-packages/pexpect/pty_spawn.py'>, 'pty': <module 'pty' from '/home/manohar/anaconda3/lib/python3.7/pty.py'>, 'tty': <module 'tty' from '/home/manohar/anaconda3/lib/python3.7/tty.py'>, 'termios': <module 'termios' from '/home/manohar/anaconda3/lib/python3.7/lib-dynload/termios.cpython-37m-x86_64-linux-gnu.so'>, 'ptyprocess': <module 'ptyprocess' from '/home/manohar/anaconda3/lib/python3.7/site-packages/ptyprocess/__init__.py'>, 'ptyprocess.ptyprocess': <module 'ptyprocess.ptyprocess' from '/home/manohar/anaconda3/lib/python3.7/site-packages/ptyprocess/ptyprocess.py'>, 'fcntl': <module 'fcntl' from '/home/manohar/anaconda3/lib/python3.7/lib-dynload/fcntl.cpython-37m-x86_64-linux-gnu.so'>, 'resource': <module 'resource' from '/home/manohar/anaconda3/lib/python3.7/lib-dynload/resource.cpython-37m-x86_64-linux-gnu.so'>, 'ptyprocess.util': <module 'ptyprocess.util' from '/home/manohar/anaconda3/lib/python3.7/site-packages/ptyprocess/util.py'>, 'pexpect.spawnbase': <module 'pexpect.spawnbase' from '/home/manohar/anaconda3/lib/python3.7/site-packages/pexpect/spawnbase.py'>, 'pexpect.run': <module 'pexpect.run' from '/home/manohar/anaconda3/lib/python3.7/site-packages/pexpect/run.py'>, 'IPython.utils._process_common': <module 'IPython.utils._process_common' from '/home/manohar/anaconda3/lib/python3.7/site-packages/IPython/utils/_process_common.py'>, 'shlex': <module 'shlex' from '/home/manohar/anaconda3/lib/python3.7/shlex.py'>, 'IPython.utils.decorators': <module 'IPython.utils.decorators' from '/home/manohar/anaconda3/lib/python3.7/site-packages/IPython/utils/decorators.py'>, 'IPython.utils.data': <module 'IPython.utils.data' from '/home/manohar/anaconda3/lib/python3.7/site-packages/IPython/utils/data.py'>, 'IPython.utils.terminal': <module 'IPython.utils.terminal' from '/home/manohar/anaconda3/lib/python3.7/site-packages/IPython/utils/terminal.py'>, 'IPython.utils.sysinfo': <module 'IPython.utils.sysinfo' from '/home/manohar/anaconda3/lib/python3.7/site-packages/IPython/utils/sysinfo.py'>, 'IPython.utils._sysinfo': <module 'IPython.utils._sysinfo' from '/home/manohar/anaconda3/lib/python3.7/site-packages/IPython/utils/_sysinfo.py'>, 'IPython.core.profiledir': <module 'IPython.core.profiledir' from '/home/manohar/anaconda3/lib/python3.7/site-packages/IPython/core/profiledir.py'>, 'IPython.paths': <module 'IPython.paths' from '/home/manohar/anaconda3/lib/python3.7/site-packages/IPython/paths.py'>, 'tempfile': <module 'tempfile' from '/home/manohar/anaconda3/lib/python3.7/tempfile.py'>, 'IPython.utils.importstring': <module 'IPython.utils.importstring' from '/home/manohar/anaconda3/lib/python3.7/site-packages/IPython/utils/importstring.py'>, 'IPython.terminal': <module 'IPython.terminal' from '/home/manohar/anaconda3/lib/python3.7/site-packages/IPython/terminal/__init__.py'>, 'IPython.terminal.embed': <module 'IPython.terminal.embed' from '/home/manohar/anaconda3/lib/python3.7/site-packages/IPython/terminal/embed.py'>, 'IPython.core.compilerop': <module 'IPython.core.compilerop' from '/home/manohar/anaconda3/lib/python3.7/site-packages/IPython/core/compilerop.py'>, 'IPython.core.magic_arguments': <module 'IPython.core.magic_arguments' from '/home/manohar/anaconda3/lib/python3.7/site-packages/IPython/core/magic_arguments.py'>, 'IPython.core.error': <module 'IPython.core.error' from '/home/manohar/anaconda3/lib/python3.7/site-packages/IPython/core/error.py'>, 'IPython.utils.text': <module 'IPython.utils.text' from '/home/manohar/anaconda3/lib/python3.7/site-packages/IPython/utils/text.py'>, 'pathlib': <module 'pathlib' from '/home/manohar/anaconda3/lib/python3.7/pathlib.py'>, 'ntpath': <module 'ntpath' from '/home/manohar/anaconda3/lib/python3.7/ntpath.py'>, 'IPython.core.magic': <module 'IPython.core.magic' from '/home/manohar/anaconda3/lib/python3.7/site-packages/IPython/core/magic.py'>, 'getopt': <module 'getopt' from '/home/manohar/anaconda3/lib/python3.7/getopt.py'>, 'IPython.core.oinspect': <module 'IPython.core.oinspect' from '/home/manohar/anaconda3/lib/python3.7/site-packages/IPython/core/oinspect.py'>, 'IPython.core.page': <module 'IPython.core.page' from '/home/manohar/anaconda3/lib/python3.7/site-packages/IPython/core/page.py'>, 'IPython.core.display': <module 'IPython.core.display' from '/home/manohar/anaconda3/lib/python3.7/site-packages/IPython/core/display.py'>, 'binascii': <module 'binascii' from '/home/manohar/anaconda3/lib/python3.7/lib-dynload/binascii.cpython-37m-x86_64-linux-gnu.so'>, 'mimetypes': <module 'mimetypes' from '/home/manohar/anaconda3/lib/python3.7/mimetypes.py'>, 'IPython.lib': <module 'IPython.lib' from '/home/manohar/anaconda3/lib/python3.7/site-packages/IPython/lib/__init__.py'>, 'IPython.lib.security': <module 'IPython.lib.security' from '/home/manohar/anaconda3/lib/python3.7/site-packages/IPython/lib/security.py'>, 'getpass': <module 'getpass' from '/home/manohar/anaconda3/lib/python3.7/getpass.py'>, 'IPython.lib.pretty': <module 'IPython.lib.pretty' from '/home/manohar/anaconda3/lib/python3.7/site-packages/IPython/lib/pretty.py'>, 'datetime': <module 'datetime' from '/home/manohar/anaconda3/lib/python3.7/datetime.py'>, '_datetime': <module '_datetime' from '/home/manohar/anaconda3/lib/python3.7/lib-dynload/_datetime.cpython-37m-x86_64-linux-gnu.so'>, 'IPython.utils.openpy': <module 'IPython.utils.openpy' from '/home/manohar/anaconda3/lib/python3.7/site-packages/IPython/utils/openpy.py'>, 'IPython.utils.dir2': <module 'IPython.utils.dir2' from '/home/manohar/anaconda3/lib/python3.7/site-packages/IPython/utils/dir2.py'>, 'IPython.utils.wildcard': <module 'IPython.utils.wildcard' from '/home/manohar/anaconda3/lib/python3.7/site-packages/IPython/utils/wildcard.py'>, 'pygments.lexers': <module 'pygments.lexers' from '/home/manohar/anaconda3/lib/python3.7/site-packages/pygments/lexers/__init__.py'>, 'pygments.lexers._mapping': <module 'pygments.lexers._mapping' from '/home/manohar/anaconda3/lib/python3.7/site-packages/pygments/lexers/_mapping.py'>, 'pygments.modeline': <module 'pygments.modeline' from '/home/manohar/anaconda3/lib/python3.7/site-packages/pygments/modeline.py'>, 'pygments.plugin': <module 'pygments.plugin' from '/home/manohar/anaconda3/lib/python3.7/site-packages/pygments/plugin.py'>, 'pygments.lexers.python': <module 'pygments.lexers.python' from '/home/manohar/anaconda3/lib/python3.7/site-packages/pygments/lexers/python.py'>, 'pygments.lexer': <module 'pygments.lexer' from '/home/manohar/anaconda3/lib/python3.7/site-packages/pygments/lexer.py'>, 'pygments.filter': <module 'pygments.filter' from '/home/manohar/anaconda3/lib/python3.7/site-packages/pygments/filter.py'>, 'pygments.filters': <module 'pygments.filters' from '/home/manohar/anaconda3/lib/python3.7/site-packages/pygments/filters/__init__.py'>, 'pygments.token': <module 'pygments.token' from '/home/manohar/anaconda3/lib/python3.7/site-packages/pygments/token.py'>, 'pygments.regexopt': <module 'pygments.regexopt' from '/home/manohar/anaconda3/lib/python3.7/site-packages/pygments/regexopt.py'>, 'pygments.unistring': <module 'pygments.unistring' from '/home/manohar/anaconda3/lib/python3.7/site-packages/pygments/unistring.py'>, 'pygments.formatters': <module 'pygments.formatters' from '/home/manohar/anaconda3/lib/python3.7/site-packages/pygments/formatters/__init__.py'>, 'pygments.formatters._mapping': <module 'pygments.formatters._mapping' from '/home/manohar/anaconda3/lib/python3.7/site-packages/pygments/formatters/_mapping.py'>, 'pygments.formatters.html': <module 'pygments.formatters.html' from '/home/manohar/anaconda3/lib/python3.7/site-packages/pygments/formatters/html.py'>, 'pygments.formatter': <module 'pygments.formatter' from '/home/manohar/anaconda3/lib/python3.7/site-packages/pygments/formatter.py'>, 'pygments.styles': <module 'pygments.styles' from '/home/manohar/anaconda3/lib/python3.7/site-packages/pygments/styles/__init__.py'>, 'IPython.core.inputtransformer2': <module 'IPython.core.inputtransformer2' from '/home/manohar/anaconda3/lib/python3.7/site-packages/IPython/core/inputtransformer2.py'>, 'typing': <module 'typing' from '/home/manohar/anaconda3/lib/python3.7/typing.py'>, 'typing.io': <class 'typing.io'>, 'typing.re': <class 'typing.re'>, 'IPython.core.interactiveshell': <module 'IPython.core.interactiveshell' from '/home/manohar/anaconda3/lib/python3.7/site-packages/IPython/core/interactiveshell.py'>, 'asyncio': <module 'asyncio' from '/home/manohar/anaconda3/lib/python3.7/asyncio/__init__.py'>, 'asyncio.base_events': <module 'asyncio.base_events' from '/home/manohar/anaconda3/lib/python3.7/asyncio/base_events.py'>, 'concurrent': <module 'concurrent' from '/home/manohar/anaconda3/lib/python3.7/concurrent/__init__.py'>, 'concurrent.futures': <module 'concurrent.futures' from '/home/manohar/anaconda3/lib/python3.7/concurrent/futures/__init__.py'>, 'concurrent.futures._base': <module 'concurrent.futures._base' from '/home/manohar/anaconda3/lib/python3.7/concurrent/futures/_base.py'>, 'socket': <module 'socket' from '/home/manohar/anaconda3/lib/python3.7/socket.py'>, '_socket': <module '_socket' from '/home/manohar/anaconda3/lib/python3.7/lib-dynload/_socket.cpython-37m-x86_64-linux-gnu.so'>, 'ssl': <module 'ssl' from '/home/manohar/anaconda3/lib/python3.7/ssl.py'>, '_ssl': <module '_ssl' from '/home/manohar/anaconda3/lib/python3.7/lib-dynload/_ssl.cpython-37m-x86_64-linux-gnu.so'>, 'base64': <module 'base64' from '/home/manohar/anaconda3/lib/python3.7/base64.py'>, 'asyncio.constants': <module 'asyncio.constants' from '/home/manohar/anaconda3/lib/python3.7/asyncio/constants.py'>, 'asyncio.coroutines': <module 'asyncio.coroutines' from '/home/manohar/anaconda3/lib/python3.7/asyncio/coroutines.py'>, 'asyncio.base_futures': <module 'asyncio.base_futures' from '/home/manohar/anaconda3/lib/python3.7/asyncio/base_futures.py'>, 'asyncio.format_helpers': <module 'asyncio.format_helpers' from '/home/manohar/anaconda3/lib/python3.7/asyncio/format_helpers.py'>, 'asyncio.log': <module 'asyncio.log' from '/home/manohar/anaconda3/lib/python3.7/asyncio/log.py'>, 'asyncio.events': <module 'asyncio.events' from '/home/manohar/anaconda3/lib/python3.7/asyncio/events.py'>, 'contextvars': <module 'contextvars' from '/home/manohar/anaconda3/lib/python3.7/contextvars.py'>, '_contextvars': <module '_contextvars' from '/home/manohar/anaconda3/lib/python3.7/lib-dynload/_contextvars.cpython-37m-x86_64-linux-gnu.so'>, 'asyncio.base_tasks': <module 'asyncio.base_tasks' from '/home/manohar/anaconda3/lib/python3.7/asyncio/base_tasks.py'>, '_asyncio': <module '_asyncio' from '/home/manohar/anaconda3/lib/python3.7/lib-dynload/_asyncio.cpython-37m-x86_64-linux-gnu.so'>, 'asyncio.futures': <module 'asyncio.futures' from '/home/manohar/anaconda3/lib/python3.7/asyncio/futures.py'>, 'asyncio.protocols': <module 'asyncio.protocols' from '/home/manohar/anaconda3/lib/python3.7/asyncio/protocols.py'>, 'asyncio.sslproto': <module 'asyncio.sslproto' from '/home/manohar/anaconda3/lib/python3.7/asyncio/sslproto.py'>, 'asyncio.transports': <module 'asyncio.transports' from '/home/manohar/anaconda3/lib/python3.7/asyncio/transports.py'>, 'asyncio.tasks': <module 'asyncio.tasks' from '/home/manohar/anaconda3/lib/python3.7/asyncio/tasks.py'>, 'asyncio.locks': <module 'asyncio.locks' from '/home/manohar/anaconda3/lib/python3.7/asyncio/locks.py'>, 'asyncio.runners': <module 'asyncio.runners' from '/home/manohar/anaconda3/lib/python3.7/asyncio/runners.py'>, 'asyncio.queues': <module 'asyncio.queues' from '/home/manohar/anaconda3/lib/python3.7/asyncio/queues.py'>, 'asyncio.streams': <module 'asyncio.streams' from '/home/manohar/anaconda3/lib/python3.7/asyncio/streams.py'>, 'asyncio.subprocess': <module 'asyncio.subprocess' from '/home/manohar/anaconda3/lib/python3.7/asyncio/subprocess.py'>, 'asyncio.unix_events': <module 'asyncio.unix_events' from '/home/manohar/anaconda3/lib/python3.7/asyncio/unix_events.py'>, 'asyncio.base_subprocess': <module 'asyncio.base_subprocess' from '/home/manohar/anaconda3/lib/python3.7/asyncio/base_subprocess.py'>, 'asyncio.selector_events': <module 'asyncio.selector_events' from '/home/manohar/anaconda3/lib/python3.7/asyncio/selector_events.py'>, 'pickleshare': <module 'pickleshare' from '/home/manohar/anaconda3/lib/python3.7/site-packages/pickleshare.py'>, 'pickle': <module 'pickle' from '/home/manohar/anaconda3/lib/python3.7/pickle.py'>, '_compat_pickle': <module '_compat_pickle' from '/home/manohar/anaconda3/lib/python3.7/_compat_pickle.py'>, '_pickle': <module '_pickle' from '/home/manohar/anaconda3/lib/python3.7/lib-dynload/_pickle.cpython-37m-x86_64-linux-gnu.so'>, 'IPython.core.prefilter': <module 'IPython.core.prefilter' from '/home/manohar/anaconda3/lib/python3.7/site-packages/IPython/core/prefilter.py'>, 'IPython.core.autocall': <module 'IPython.core.autocall' from '/home/manohar/anaconda3/lib/python3.7/site-packages/IPython/core/autocall.py'>, 'IPython.core.macro': <module 'IPython.core.macro' from '/home/manohar/anaconda3/lib/python3.7/site-packages/IPython/core/macro.py'>, 'IPython.core.splitinput': <module 'IPython.core.splitinput' from '/home/manohar/anaconda3/lib/python3.7/site-packages/IPython/core/splitinput.py'>, 'IPython.core.alias': <module 'IPython.core.alias' from '/home/manohar/anaconda3/lib/python3.7/site-packages/IPython/core/alias.py'>, 'IPython.core.builtin_trap': <module 'IPython.core.builtin_trap' from '/home/manohar/anaconda3/lib/python3.7/site-packages/IPython/core/builtin_trap.py'>, 'IPython.core.events': <module 'IPython.core.events' from '/home/manohar/anaconda3/lib/python3.7/site-packages/IPython/core/events.py'>, 'backcall': <module 'backcall' from '/home/manohar/anaconda3/lib/python3.7/site-packages/backcall/__init__.py'>, 'backcall.backcall': <module 'backcall.backcall' from '/home/manohar/anaconda3/lib/python3.7/site-packages/backcall/backcall.py'>, 'IPython.core.displayhook': <module 'IPython.core.displayhook' from '/home/manohar/anaconda3/lib/python3.7/site-packages/IPython/core/displayhook.py'>, 'IPython.core.displaypub': <module 'IPython.core.displaypub' from '/home/manohar/anaconda3/lib/python3.7/site-packages/IPython/core/displaypub.py'>, 'IPython.core.extensions': <module 'IPython.core.extensions' from '/home/manohar/anaconda3/lib/python3.7/site-packages/IPython/core/extensions.py'>, 'IPython.core.formatters': <module 'IPython.core.formatters' from '/home/manohar/anaconda3/lib/python3.7/site-packages/IPython/core/formatters.py'>, 'IPython.utils.sentinel': <module 'IPython.utils.sentinel' from '/home/manohar/anaconda3/lib/python3.7/site-packages/IPython/utils/sentinel.py'>, 'IPython.core.history': <module 'IPython.core.history' from '/home/manohar/anaconda3/lib/python3.7/site-packages/IPython/core/history.py'>, 'sqlite3': <module 'sqlite3' from '/home/manohar/anaconda3/lib/python3.7/sqlite3/__init__.py'>, 'sqlite3.dbapi2': <module 'sqlite3.dbapi2' from '/home/manohar/anaconda3/lib/python3.7/sqlite3/dbapi2.py'>, '_sqlite3': <module '_sqlite3' from '/home/manohar/anaconda3/lib/python3.7/lib-dynload/_sqlite3.cpython-37m-x86_64-linux-gnu.so'>, 'IPython.core.logger': <module 'IPython.core.logger' from '/home/manohar/anaconda3/lib/python3.7/site-packages/IPython/core/logger.py'>, 'IPython.core.payload': <module 'IPython.core.payload' from '/home/manohar/anaconda3/lib/python3.7/site-packages/IPython/core/payload.py'>, 'IPython.core.usage': <module 'IPython.core.usage' from '/home/manohar/anaconda3/lib/python3.7/site-packages/IPython/core/usage.py'>, 'IPython.display': <module 'IPython.display' from '/home/manohar/anaconda3/lib/python3.7/site-packages/IPython/display.py'>, 'IPython.lib.display': <module 'IPython.lib.display' from '/home/manohar/anaconda3/lib/python3.7/site-packages/IPython/lib/display.py'>, 'html': <module 'html' from '/home/manohar/anaconda3/lib/python3.7/html/__init__.py'>, 'html.entities': <module 'html.entities' from '/home/manohar/anaconda3/lib/python3.7/html/entities.py'>, 'IPython.utils.io': <module 'IPython.utils.io' from '/home/manohar/anaconda3/lib/python3.7/site-packages/IPython/utils/io.py'>, 'IPython.utils.capture': <module 'IPython.utils.capture' from '/home/manohar/anaconda3/lib/python3.7/site-packages/IPython/utils/capture.py'>, 'IPython.utils.strdispatch': <module 'IPython.utils.strdispatch' from '/home/manohar/anaconda3/lib/python3.7/site-packages/IPython/utils/strdispatch.py'>, 'IPython.core.hooks': <module 'IPython.core.hooks' from '/home/manohar/anaconda3/lib/python3.7/site-packages/IPython/core/hooks.py'>, 'IPython.utils.syspathcontext': <module 'IPython.utils.syspathcontext' from '/home/manohar/anaconda3/lib/python3.7/site-packages/IPython/utils/syspathcontext.py'>, 'IPython.utils.tempdir': <module 'IPython.utils.tempdir' from '/home/manohar/anaconda3/lib/python3.7/site-packages/IPython/utils/tempdir.py'>, 'IPython.utils.contexts': <module 'IPython.utils.contexts' from '/home/manohar/anaconda3/lib/python3.7/site-packages/IPython/utils/contexts.py'>, 'IPython.core.async_helpers': <module 'IPython.core.async_helpers' from '/home/manohar/anaconda3/lib/python3.7/site-packages/IPython/core/async_helpers.py'>, 'IPython.terminal.interactiveshell': <module 'IPython.terminal.interactiveshell' from '/home/manohar/anaconda3/lib/python3.7/site-packages/IPython/terminal/interactiveshell.py'>, 'prompt_toolkit': <module 'prompt_toolkit' from '/home/manohar/anaconda3/lib/python3.7/site-packages/prompt_toolkit/__init__.py'>, 'prompt_toolkit.application': <module 'prompt_toolkit.application' from '/home/manohar/anaconda3/lib/python3.7/site-packages/prompt_toolkit/application/__init__.py'>, 'prompt_toolkit.application.application': <module 'prompt_toolkit.application.application' from '/home/manohar/anaconda3/lib/python3.7/site-packages/prompt_toolkit/application/application.py'>, 'prompt_toolkit.buffer': <module 'prompt_toolkit.buffer' from '/home/manohar/anaconda3/lib/python3.7/site-packages/prompt_toolkit/buffer.py'>, 'prompt_toolkit.application.current': <module 'prompt_toolkit.application.current' from '/home/manohar/anaconda3/lib/python3.7/site-packages/prompt_toolkit/application/current.py'>, 'prompt_toolkit.eventloop': <module 'prompt_toolkit.eventloop' from '/home/manohar/anaconda3/lib/python3.7/site-packages/prompt_toolkit/eventloop/__init__.py'>, 'prompt_toolkit.eventloop.base': <module 'prompt_toolkit.eventloop.base' from '/home/manohar/anaconda3/lib/python3.7/site-packages/prompt_toolkit/eventloop/base.py'>, 'prompt_toolkit.log': <module 'prompt_toolkit.log' from '/home/manohar/anaconda3/lib/python3.7/site-packages/prompt_toolkit/log.py'>, 'prompt_toolkit.eventloop.coroutine': <module 'prompt_toolkit.eventloop.coroutine' from '/home/manohar/anaconda3/lib/python3.7/site-packages/prompt_toolkit/eventloop/coroutine.py'>, 'prompt_toolkit.eventloop.defaults': <module 'prompt_toolkit.eventloop.defaults' from '/home/manohar/anaconda3/lib/python3.7/site-packages/prompt_toolkit/eventloop/defaults.py'>, 'prompt_toolkit.utils': <module 'prompt_toolkit.utils' from '/home/manohar/anaconda3/lib/python3.7/site-packages/prompt_toolkit/utils.py'>, 'six.moves': <module 'six.moves' (<six._SixMetaPathImporter object at 0x7f32025b11d0>)>, 'wcwidth': <module 'wcwidth' from '/home/manohar/anaconda3/lib/python3.7/site-packages/wcwidth/__init__.py'>, 'wcwidth.wcwidth': <module 'wcwidth.wcwidth' from '/home/manohar/anaconda3/lib/python3.7/site-packages/wcwidth/wcwidth.py'>, 'wcwidth.table_wide': <module 'wcwidth.table_wide' from '/home/manohar/anaconda3/lib/python3.7/site-packages/wcwidth/table_wide.py'>, 'wcwidth.table_zero': <module 'wcwidth.table_zero' from '/home/manohar/anaconda3/lib/python3.7/site-packages/wcwidth/table_zero.py'>, 'prompt_toolkit.cache': <module 'prompt_toolkit.cache' from '/home/manohar/anaconda3/lib/python3.7/site-packages/prompt_toolkit/cache.py'>, 'prompt_toolkit.eventloop.future': <module 'prompt_toolkit.eventloop.future' from '/home/manohar/anaconda3/lib/python3.7/site-packages/prompt_toolkit/eventloop/future.py'>, 'prompt_toolkit.eventloop.context': <module 'prompt_toolkit.eventloop.context' from '/home/manohar/anaconda3/lib/python3.7/site-packages/prompt_toolkit/eventloop/context.py'>, 'prompt_toolkit.eventloop.async_generator': <module 'prompt_toolkit.eventloop.async_generator' from '/home/manohar/anaconda3/lib/python3.7/site-packages/prompt_toolkit/eventloop/async_generator.py'>, 'queue': <module 'queue' from '/home/manohar/anaconda3/lib/python3.7/queue.py'>, '_queue': <module '_queue' from '/home/manohar/anaconda3/lib/python3.7/lib-dynload/_queue.cpython-37m-x86_64-linux-gnu.so'>, 'six.moves.queue': <module 'queue' from '/home/manohar/anaconda3/lib/python3.7/queue.py'>, 'prompt_toolkit.eventloop.event': <module 'prompt_toolkit.eventloop.event' from '/home/manohar/anaconda3/lib/python3.7/site-packages/prompt_toolkit/eventloop/event.py'>, 'prompt_toolkit.application.run_in_terminal': <module 'prompt_toolkit.application.run_in_terminal' from '/home/manohar/anaconda3/lib/python3.7/site-packages/prompt_toolkit/application/run_in_terminal.py'>, 'prompt_toolkit.auto_suggest': <module 'prompt_toolkit.auto_suggest' from '/home/manohar/anaconda3/lib/python3.7/site-packages/prompt_toolkit/auto_suggest.py'>, 'prompt_toolkit.filters': <module 'prompt_toolkit.filters' from '/home/manohar/anaconda3/lib/python3.7/site-packages/prompt_toolkit/filters/__init__.py'>, 'prompt_toolkit.filters.base': <module 'prompt_toolkit.filters.base' from '/home/manohar/anaconda3/lib/python3.7/site-packages/prompt_toolkit/filters/base.py'>, 'prompt_toolkit.filters.app': <module 'prompt_toolkit.filters.app' from '/home/manohar/anaconda3/lib/python3.7/site-packages/prompt_toolkit/filters/app.py'>, 'prompt_toolkit.enums': <module 'prompt_toolkit.enums' from '/home/manohar/anaconda3/lib/python3.7/site-packages/prompt_toolkit/enums.py'>, 'prompt_toolkit.filters.utils': <module 'prompt_toolkit.filters.utils' from '/home/manohar/anaconda3/lib/python3.7/site-packages/prompt_toolkit/filters/utils.py'>, 'prompt_toolkit.filters.cli': <module 'prompt_toolkit.filters.cli' from '/home/manohar/anaconda3/lib/python3.7/site-packages/prompt_toolkit/filters/cli.py'>, 'prompt_toolkit.clipboard': <module 'prompt_toolkit.clipboard' from '/home/manohar/anaconda3/lib/python3.7/site-packages/prompt_toolkit/clipboard/__init__.py'>, 'prompt_toolkit.clipboard.base': <module 'prompt_toolkit.clipboard.base' from '/home/manohar/anaconda3/lib/python3.7/site-packages/prompt_toolkit/clipboard/base.py'>, 'prompt_toolkit.selection': <module 'prompt_toolkit.selection' from '/home/manohar/anaconda3/lib/python3.7/site-packages/prompt_toolkit/selection.py'>, 'prompt_toolkit.clipboard.in_memory': <module 'prompt_toolkit.clipboard.in_memory' from '/home/manohar/anaconda3/lib/python3.7/site-packages/prompt_toolkit/clipboard/in_memory.py'>, 'prompt_toolkit.completion': <module 'prompt_toolkit.completion' from '/home/manohar/anaconda3/lib/python3.7/site-packages/prompt_toolkit/completion/__init__.py'>, 'prompt_toolkit.completion.base': <module 'prompt_toolkit.completion.base' from '/home/manohar/anaconda3/lib/python3.7/site-packages/prompt_toolkit/completion/base.py'>, 'prompt_toolkit.completion.filesystem': <module 'prompt_toolkit.completion.filesystem' from '/home/manohar/anaconda3/lib/python3.7/site-packages/prompt_toolkit/completion/filesystem.py'>, 'prompt_toolkit.completion.word_completer': <module 'prompt_toolkit.completion.word_completer' from '/home/manohar/anaconda3/lib/python3.7/site-packages/prompt_toolkit/completion/word_completer.py'>, 'prompt_toolkit.document': <module 'prompt_toolkit.document' from '/home/manohar/anaconda3/lib/python3.7/site-packages/prompt_toolkit/document.py'>, 'prompt_toolkit.history': <module 'prompt_toolkit.history' from '/home/manohar/anaconda3/lib/python3.7/site-packages/prompt_toolkit/history.py'>, 'prompt_toolkit.search': <module 'prompt_toolkit.search' from '/home/manohar/anaconda3/lib/python3.7/site-packages/prompt_toolkit/search.py'>, 'prompt_toolkit.key_binding': <module 'prompt_toolkit.key_binding' from '/home/manohar/anaconda3/lib/python3.7/site-packages/prompt_toolkit/key_binding/__init__.py'>, 'prompt_toolkit.key_binding.key_bindings': <module 'prompt_toolkit.key_binding.key_bindings' from '/home/manohar/anaconda3/lib/python3.7/site-packages/prompt_toolkit/key_binding/key_bindings.py'>, 'prompt_toolkit.keys': <module 'prompt_toolkit.keys' from '/home/manohar/anaconda3/lib/python3.7/site-packages/prompt_toolkit/keys.py'>, 'prompt_toolkit.key_binding.vi_state': <module 'prompt_toolkit.key_binding.vi_state' from '/home/manohar/anaconda3/lib/python3.7/site-packages/prompt_toolkit/key_binding/vi_state.py'>, 'prompt_toolkit.validation': <module 'prompt_toolkit.validation' from '/home/manohar/anaconda3/lib/python3.7/site-packages/prompt_toolkit/validation.py'>, 'prompt_toolkit.input': <module 'prompt_toolkit.input' from '/home/manohar/anaconda3/lib/python3.7/site-packages/prompt_toolkit/input/__init__.py'>, 'prompt_toolkit.input.base': <module 'prompt_toolkit.input.base' from '/home/manohar/anaconda3/lib/python3.7/site-packages/prompt_toolkit/input/base.py'>, 'prompt_toolkit.input.defaults': <module 'prompt_toolkit.input.defaults' from '/home/manohar/anaconda3/lib/python3.7/site-packages/prompt_toolkit/input/defaults.py'>, 'prompt_toolkit.input.typeahead': <module 'prompt_toolkit.input.typeahead' from '/home/manohar/anaconda3/lib/python3.7/site-packages/prompt_toolkit/input/typeahead.py'>, 'prompt_toolkit.key_binding.bindings': <module 'prompt_toolkit.key_binding.bindings' from '/home/manohar/anaconda3/lib/python3.7/site-packages/prompt_toolkit/key_binding/bindings/__init__.py'>, 'prompt_toolkit.key_binding.bindings.page_navigation': <module 'prompt_toolkit.key_binding.bindings.page_navigation' from '/home/manohar/anaconda3/lib/python3.7/site-packages/prompt_toolkit/key_binding/bindings/page_navigation.py'>, 'prompt_toolkit.key_binding.bindings.scroll': <module 'prompt_toolkit.key_binding.bindings.scroll' from '/home/manohar/anaconda3/lib/python3.7/site-packages/prompt_toolkit/key_binding/bindings/scroll.py'>, 'prompt_toolkit.key_binding.defaults': <module 'prompt_toolkit.key_binding.defaults' from '/home/manohar/anaconda3/lib/python3.7/site-packages/prompt_toolkit/key_binding/defaults.py'>, 'prompt_toolkit.key_binding.bindings.basic': <module 'prompt_toolkit.key_binding.bindings.basic' from '/home/manohar/anaconda3/lib/python3.7/site-packages/prompt_toolkit/key_binding/bindings/basic.py'>, 'prompt_toolkit.key_binding.key_processor': <module 'prompt_toolkit.key_binding.key_processor' from '/home/manohar/anaconda3/lib/python3.7/site-packages/prompt_toolkit/key_binding/key_processor.py'>, 'prompt_toolkit.key_binding.bindings.named_commands': <module 'prompt_toolkit.key_binding.bindings.named_commands' from '/home/manohar/anaconda3/lib/python3.7/site-packages/prompt_toolkit/key_binding/bindings/named_commands.py'>, 'prompt_toolkit.key_binding.bindings.completion': <module 'prompt_toolkit.key_binding.bindings.completion' from '/home/manohar/anaconda3/lib/python3.7/site-packages/prompt_toolkit/key_binding/bindings/completion.py'>, 'prompt_toolkit.key_binding.bindings.emacs': <module 'prompt_toolkit.key_binding.bindings.emacs' from '/home/manohar/anaconda3/lib/python3.7/site-packages/prompt_toolkit/key_binding/bindings/emacs.py'>, 'prompt_toolkit.key_binding.bindings.vi': <module 'prompt_toolkit.key_binding.bindings.vi' from '/home/manohar/anaconda3/lib/python3.7/site-packages/prompt_toolkit/key_binding/bindings/vi.py'>, 'prompt_toolkit.input.vt100_parser': <module 'prompt_toolkit.input.vt100_parser' from '/home/manohar/anaconda3/lib/python3.7/site-packages/prompt_toolkit/input/vt100_parser.py'>, 'prompt_toolkit.input.ansi_escape_sequences': <module 'prompt_toolkit.input.ansi_escape_sequences' from '/home/manohar/anaconda3/lib/python3.7/site-packages/prompt_toolkit/input/ansi_escape_sequences.py'>, 'prompt_toolkit.key_binding.digraphs': <module 'prompt_toolkit.key_binding.digraphs' from '/home/manohar/anaconda3/lib/python3.7/site-packages/prompt_toolkit/key_binding/digraphs.py'>, 'prompt_toolkit.key_binding.bindings.mouse': <module 'prompt_toolkit.key_binding.bindings.mouse' from '/home/manohar/anaconda3/lib/python3.7/site-packages/prompt_toolkit/key_binding/bindings/mouse.py'>, 'prompt_toolkit.layout': <module 'prompt_toolkit.layout' from '/home/manohar/anaconda3/lib/python3.7/site-packages/prompt_toolkit/layout/__init__.py'>, 'prompt_toolkit.layout.containers': <module 'prompt_toolkit.layout.containers' from '/home/manohar/anaconda3/lib/python3.7/site-packages/prompt_toolkit/layout/containers.py'>, 'prompt_toolkit.layout.controls': <module 'prompt_toolkit.layout.controls' from '/home/manohar/anaconda3/lib/python3.7/site-packages/prompt_toolkit/layout/controls.py'>, 'prompt_toolkit.formatted_text': <module 'prompt_toolkit.formatted_text' from '/home/manohar/anaconda3/lib/python3.7/site-packages/prompt_toolkit/formatted_text/__init__.py'>, 'prompt_toolkit.formatted_text.base': <module 'prompt_toolkit.formatted_text.base' from '/home/manohar/anaconda3/lib/python3.7/site-packages/prompt_toolkit/formatted_text/base.py'>, 'prompt_toolkit.formatted_text.html': <module 'prompt_toolkit.formatted_text.html' from '/home/manohar/anaconda3/lib/python3.7/site-packages/prompt_toolkit/formatted_text/html.py'>, 'xml': <module 'xml' from '/home/manohar/anaconda3/lib/python3.7/xml/__init__.py'>, 'xml.dom': <module 'xml.dom' from '/home/manohar/anaconda3/lib/python3.7/xml/dom/__init__.py'>, 'xml.dom.domreg': <module 'xml.dom.domreg' from '/home/manohar/anaconda3/lib/python3.7/xml/dom/domreg.py'>, 'xml.dom.minidom': <module 'xml.dom.minidom' from '/home/manohar/anaconda3/lib/python3.7/xml/dom/minidom.py'>, 'xml.dom.minicompat': <module 'xml.dom.minicompat' from '/home/manohar/anaconda3/lib/python3.7/xml/dom/minicompat.py'>, 'xml.dom.xmlbuilder': <module 'xml.dom.xmlbuilder' from '/home/manohar/anaconda3/lib/python3.7/xml/dom/xmlbuilder.py'>, 'xml.dom.NodeFilter': <module 'xml.dom.NodeFilter' from '/home/manohar/anaconda3/lib/python3.7/xml/dom/NodeFilter.py'>, 'prompt_toolkit.formatted_text.ansi': <module 'prompt_toolkit.formatted_text.ansi' from '/home/manohar/anaconda3/lib/python3.7/site-packages/prompt_toolkit/formatted_text/ansi.py'>, 'prompt_toolkit.output': <module 'prompt_toolkit.output' from '/home/manohar/anaconda3/lib/python3.7/site-packages/prompt_toolkit/output/__init__.py'>, 'prompt_toolkit.output.base': <module 'prompt_toolkit.output.base' from '/home/manohar/anaconda3/lib/python3.7/site-packages/prompt_toolkit/output/base.py'>, 'prompt_toolkit.layout.screen': <module 'prompt_toolkit.layout.screen' from '/home/manohar/anaconda3/lib/python3.7/site-packages/prompt_toolkit/layout/screen.py'>, 'prompt_toolkit.output.defaults': <module 'prompt_toolkit.output.defaults' from '/home/manohar/anaconda3/lib/python3.7/site-packages/prompt_toolkit/output/defaults.py'>, 'prompt_toolkit.output.color_depth': <module 'prompt_toolkit.output.color_depth' from '/home/manohar/anaconda3/lib/python3.7/site-packages/prompt_toolkit/output/color_depth.py'>, 'prompt_toolkit.output.vt100': <module 'prompt_toolkit.output.vt100' from '/home/manohar/anaconda3/lib/python3.7/site-packages/prompt_toolkit/output/vt100.py'>, 'prompt_toolkit.styles': <module 'prompt_toolkit.styles' from '/home/manohar/anaconda3/lib/python3.7/site-packages/prompt_toolkit/styles/__init__.py'>, 'prompt_toolkit.styles.base': <module 'prompt_toolkit.styles.base' from '/home/manohar/anaconda3/lib/python3.7/site-packages/prompt_toolkit/styles/base.py'>, 'prompt_toolkit.styles.defaults': <module 'prompt_toolkit.styles.defaults' from '/home/manohar/anaconda3/lib/python3.7/site-packages/prompt_toolkit/styles/defaults.py'>, 'prompt_toolkit.styles.style': <module 'prompt_toolkit.styles.style' from '/home/manohar/anaconda3/lib/python3.7/site-packages/prompt_toolkit/styles/style.py'>, 'prompt_toolkit.styles.named_colors': <module 'prompt_toolkit.styles.named_colors' from '/home/manohar/anaconda3/lib/python3.7/site-packages/prompt_toolkit/styles/named_colors.py'>, 'prompt_toolkit.styles.pygments': <module 'prompt_toolkit.styles.pygments' from '/home/manohar/anaconda3/lib/python3.7/site-packages/prompt_toolkit/styles/pygments.py'>, 'prompt_toolkit.styles.style_transformation': <module 'prompt_toolkit.styles.style_transformation' from '/home/manohar/anaconda3/lib/python3.7/site-packages/prompt_toolkit/styles/style_transformation.py'>, 'colorsys': <module 'colorsys' from '/home/manohar/anaconda3/lib/python3.7/colorsys.py'>, 'array': <module 'array' from '/home/manohar/anaconda3/lib/python3.7/lib-dynload/array.cpython-37m-x86_64-linux-gnu.so'>, 'prompt_toolkit.formatted_text.pygments': <module 'prompt_toolkit.formatted_text.pygments' from '/home/manohar/anaconda3/lib/python3.7/site-packages/prompt_toolkit/formatted_text/pygments.py'>, 'prompt_toolkit.formatted_text.utils': <module 'prompt_toolkit.formatted_text.utils' from '/home/manohar/anaconda3/lib/python3.7/site-packages/prompt_toolkit/formatted_text/utils.py'>, 'prompt_toolkit.lexers': <module 'prompt_toolkit.lexers' from '/home/manohar/anaconda3/lib/python3.7/site-packages/prompt_toolkit/lexers/__init__.py'>, 'prompt_toolkit.lexers.base': <module 'prompt_toolkit.lexers.base' from '/home/manohar/anaconda3/lib/python3.7/site-packages/prompt_toolkit/lexers/base.py'>, 'prompt_toolkit.lexers.pygments': <module 'prompt_toolkit.lexers.pygments' from '/home/manohar/anaconda3/lib/python3.7/site-packages/prompt_toolkit/lexers/pygments.py'>, 'prompt_toolkit.mouse_events': <module 'prompt_toolkit.mouse_events' from '/home/manohar/anaconda3/lib/python3.7/site-packages/prompt_toolkit/mouse_events.py'>, 'prompt_toolkit.layout.processors': <module 'prompt_toolkit.layout.processors' from '/home/manohar/anaconda3/lib/python3.7/site-packages/prompt_toolkit/layout/processors.py'>, 'prompt_toolkit.layout.utils': <module 'prompt_toolkit.layout.utils' from '/home/manohar/anaconda3/lib/python3.7/site-packages/prompt_toolkit/layout/utils.py'>, 'prompt_toolkit.layout.dimension': <module 'prompt_toolkit.layout.dimension' from '/home/manohar/anaconda3/lib/python3.7/site-packages/prompt_toolkit/layout/dimension.py'>, 'prompt_toolkit.layout.margins': <module 'prompt_toolkit.layout.margins' from '/home/manohar/anaconda3/lib/python3.7/site-packages/prompt_toolkit/layout/margins.py'>, 'prompt_toolkit.layout.layout': <module 'prompt_toolkit.layout.layout' from '/home/manohar/anaconda3/lib/python3.7/site-packages/prompt_toolkit/layout/layout.py'>, 'prompt_toolkit.layout.menus': <module 'prompt_toolkit.layout.menus' from '/home/manohar/anaconda3/lib/python3.7/site-packages/prompt_toolkit/layout/menus.py'>, 'prompt_toolkit.renderer': <module 'prompt_toolkit.renderer' from '/home/manohar/anaconda3/lib/python3.7/site-packages/prompt_toolkit/renderer.py'>, 'prompt_toolkit.layout.mouse_handlers': <module 'prompt_toolkit.layout.mouse_handlers' from '/home/manohar/anaconda3/lib/python3.7/site-packages/prompt_toolkit/layout/mouse_handlers.py'>, 'prompt_toolkit.key_binding.bindings.cpr': <module 'prompt_toolkit.key_binding.bindings.cpr' from '/home/manohar/anaconda3/lib/python3.7/site-packages/prompt_toolkit/key_binding/bindings/cpr.py'>, 'prompt_toolkit.key_binding.emacs_state': <module 'prompt_toolkit.key_binding.emacs_state' from '/home/manohar/anaconda3/lib/python3.7/site-packages/prompt_toolkit/key_binding/emacs_state.py'>, 'prompt_toolkit.layout.dummy': <module 'prompt_toolkit.layout.dummy' from '/home/manohar/anaconda3/lib/python3.7/site-packages/prompt_toolkit/layout/dummy.py'>, 'prompt_toolkit.application.dummy': <module 'prompt_toolkit.application.dummy' from '/home/manohar/anaconda3/lib/python3.7/site-packages/prompt_toolkit/application/dummy.py'>, 'prompt_toolkit.shortcuts': <module 'prompt_toolkit.shortcuts' from '/home/manohar/anaconda3/lib/python3.7/site-packages/prompt_toolkit/shortcuts/__init__.py'>, 'prompt_toolkit.shortcuts.dialogs': <module 'prompt_toolkit.shortcuts.dialogs' from '/home/manohar/anaconda3/lib/python3.7/site-packages/prompt_toolkit/shortcuts/dialogs.py'>, 'prompt_toolkit.key_binding.bindings.focus': <module 'prompt_toolkit.key_binding.bindings.focus' from '/home/manohar/anaconda3/lib/python3.7/site-packages/prompt_toolkit/key_binding/bindings/focus.py'>, 'prompt_toolkit.widgets': <module 'prompt_toolkit.widgets' from '/home/manohar/anaconda3/lib/python3.7/site-packages/prompt_toolkit/widgets/__init__.py'>, 'prompt_toolkit.widgets.base': <module 'prompt_toolkit.widgets.base' from '/home/manohar/anaconda3/lib/python3.7/site-packages/prompt_toolkit/widgets/base.py'>, 'prompt_toolkit.widgets.toolbars': <module 'prompt_toolkit.widgets.toolbars' from '/home/manohar/anaconda3/lib/python3.7/site-packages/prompt_toolkit/widgets/toolbars.py'>, 'prompt_toolkit.widgets.dialogs': <module 'prompt_toolkit.widgets.dialogs' from '/home/manohar/anaconda3/lib/python3.7/site-packages/prompt_toolkit/widgets/dialogs.py'>, 'prompt_toolkit.widgets.menus': <module 'prompt_toolkit.widgets.menus' from '/home/manohar/anaconda3/lib/python3.7/site-packages/prompt_toolkit/widgets/menus.py'>, 'prompt_toolkit.shortcuts.prompt': <module 'prompt_toolkit.shortcuts.prompt' from '/home/manohar/anaconda3/lib/python3.7/site-packages/prompt_toolkit/shortcuts/prompt.py'>, 'prompt_toolkit.key_binding.bindings.auto_suggest': <module 'prompt_toolkit.key_binding.bindings.auto_suggest' from '/home/manohar/anaconda3/lib/python3.7/site-packages/prompt_toolkit/key_binding/bindings/auto_suggest.py'>, 'prompt_toolkit.key_binding.bindings.open_in_editor': <module 'prompt_toolkit.key_binding.bindings.open_in_editor' from '/home/manohar/anaconda3/lib/python3.7/site-packages/prompt_toolkit/key_binding/bindings/open_in_editor.py'>, 'prompt_toolkit.shortcuts.utils': <module 'prompt_toolkit.shortcuts.utils' from '/home/manohar/anaconda3/lib/python3.7/site-packages/prompt_toolkit/shortcuts/utils.py'>, 'prompt_toolkit.shortcuts.progress_bar': <module 'prompt_toolkit.shortcuts.progress_bar' from '/home/manohar/anaconda3/lib/python3.7/site-packages/prompt_toolkit/shortcuts/progress_bar/__init__.py'>, 'prompt_toolkit.shortcuts.progress_bar.base': <module 'prompt_toolkit.shortcuts.progress_bar.base' from '/home/manohar/anaconda3/lib/python3.7/site-packages/prompt_toolkit/shortcuts/progress_bar/base.py'>, 'prompt_toolkit.shortcuts.progress_bar.formatters': <module 'prompt_toolkit.shortcuts.progress_bar.formatters' from '/home/manohar/anaconda3/lib/python3.7/site-packages/prompt_toolkit/shortcuts/progress_bar/formatters.py'>, 'prompt_toolkit.patch_stdout': <module 'prompt_toolkit.patch_stdout' from '/home/manohar/anaconda3/lib/python3.7/site-packages/prompt_toolkit/patch_stdout.py'>, 'pygments.style': <module 'pygments.style' from '/home/manohar/anaconda3/lib/python3.7/site-packages/pygments/style.py'>, 'IPython.terminal.debugger': <module 'IPython.terminal.debugger' from '/home/manohar/anaconda3/lib/python3.7/site-packages/IPython/terminal/debugger.py'>, 'IPython.core.completer': <module 'IPython.core.completer' from '/home/manohar/anaconda3/lib/python3.7/site-packages/IPython/core/completer.py'>, 'unicodedata': <module 'unicodedata' from '/home/manohar/anaconda3/lib/python3.7/lib-dynload/unicodedata.cpython-37m-x86_64-linux-gnu.so'>, 'IPython.core.latex_symbols': <module 'IPython.core.latex_symbols' from '/home/manohar/anaconda3/lib/python3.7/site-packages/IPython/core/latex_symbols.py'>, 'IPython.utils.generics': <module 'IPython.utils.generics' from '/home/manohar/anaconda3/lib/python3.7/site-packages/IPython/utils/generics.py'>, 'jedi': <module 'jedi' from '/home/manohar/anaconda3/lib/python3.7/site-packages/jedi/__init__.py'>, 'jedi.api': <module 'jedi.api' from '/home/manohar/anaconda3/lib/python3.7/site-packages/jedi/api/__init__.py'>, 'parso': <module 'parso' from '/home/manohar/anaconda3/lib/python3.7/site-packages/parso/__init__.py'>, 'parso.parser': <module 'parso.parser' from '/home/manohar/anaconda3/lib/python3.7/site-packages/parso/parser.py'>, 'parso.tree': <module 'parso.tree' from '/home/manohar/anaconda3/lib/python3.7/site-packages/parso/tree.py'>, 'parso._compatibility': <module 'parso._compatibility' from '/home/manohar/anaconda3/lib/python3.7/site-packages/parso/_compatibility.py'>, 'parso.pgen2': <module 'parso.pgen2' from '/home/manohar/anaconda3/lib/python3.7/site-packages/parso/pgen2/__init__.py'>, 'parso.pgen2.generator': <module 'parso.pgen2.generator' from '/home/manohar/anaconda3/lib/python3.7/site-packages/parso/pgen2/generator.py'>, 'parso.pgen2.grammar_parser': <module 'parso.pgen2.grammar_parser' from '/home/manohar/anaconda3/lib/python3.7/site-packages/parso/pgen2/grammar_parser.py'>, 'parso.python': <module 'parso.python' from '/home/manohar/anaconda3/lib/python3.7/site-packages/parso/python/__init__.py'>, 'parso.python.tokenize': <module 'parso.python.tokenize' from '/home/manohar/anaconda3/lib/python3.7/site-packages/parso/python/tokenize.py'>, 'parso.python.token': <module 'parso.python.token' from '/home/manohar/anaconda3/lib/python3.7/site-packages/parso/python/token.py'>, 'parso.utils': <module 'parso.utils' from '/home/manohar/anaconda3/lib/python3.7/site-packages/parso/utils.py'>, 'parso.grammar': <module 'parso.grammar' from '/home/manohar/anaconda3/lib/python3.7/site-packages/parso/grammar.py'>, 'parso.python.diff': <module 'parso.python.diff' from '/home/manohar/anaconda3/lib/python3.7/site-packages/parso/python/diff.py'>, 'difflib': <module 'difflib' from '/home/manohar/anaconda3/lib/python3.7/difflib.py'>, 'parso.python.parser': <module 'parso.python.parser' from '/home/manohar/anaconda3/lib/python3.7/site-packages/parso/python/parser.py'>, 'parso.python.tree': <module 'parso.python.tree' from '/home/manohar/anaconda3/lib/python3.7/site-packages/parso/python/tree.py'>, 'parso.python.prefix': <module 'parso.python.prefix' from '/home/manohar/anaconda3/lib/python3.7/site-packages/parso/python/prefix.py'>, 'parso.cache': <module 'parso.cache' from '/home/manohar/anaconda3/lib/python3.7/site-packages/parso/cache.py'>, 'gc': <module 'gc' (built-in)>, 'parso.python.errors': <module 'parso.python.errors' from '/home/manohar/anaconda3/lib/python3.7/site-packages/parso/python/errors.py'>, 'parso.normalizer': <module 'parso.normalizer' from '/home/manohar/anaconda3/lib/python3.7/site-packages/parso/normalizer.py'>, 'parso.python.pep8': <module 'parso.python.pep8' from '/home/manohar/anaconda3/lib/python3.7/site-packages/parso/python/pep8.py'>, 'jedi._compatibility': <module 'jedi._compatibility' from '/home/manohar/anaconda3/lib/python3.7/site-packages/jedi/_compatibility.py'>, 'jedi.parser_utils': <module 'jedi.parser_utils' from '/home/manohar/anaconda3/lib/python3.7/site-packages/jedi/parser_utils.py'>, 'jedi.debug': <module 'jedi.debug' from '/home/manohar/anaconda3/lib/python3.7/site-packages/jedi/debug.py'>, 'colorama': <module 'colorama' from '/home/manohar/anaconda3/lib/python3.7/site-packages/colorama/__init__.py'>, 'colorama.initialise': <module 'colorama.initialise' from '/home/manohar/anaconda3/lib/python3.7/site-packages/colorama/initialise.py'>, 'colorama.ansitowin32': <module 'colorama.ansitowin32' from '/home/manohar/anaconda3/lib/python3.7/site-packages/colorama/ansitowin32.py'>, 'colorama.ansi': <module 'colorama.ansi' from '/home/manohar/anaconda3/lib/python3.7/site-packages/colorama/ansi.py'>, 'colorama.winterm': <module 'colorama.winterm' from '/home/manohar/anaconda3/lib/python3.7/site-packages/colorama/winterm.py'>, 'colorama.win32': <module 'colorama.win32' from '/home/manohar/anaconda3/lib/python3.7/site-packages/colorama/win32.py'>, 'ctypes': <module 'ctypes' from '/home/manohar/anaconda3/lib/python3.7/ctypes/__init__.py'>, '_ctypes': <module '_ctypes' from '/home/manohar/anaconda3/lib/python3.7/lib-dynload/_ctypes.cpython-37m-x86_64-linux-gnu.so'>, 'ctypes._endian': <module 'ctypes._endian' from '/home/manohar/anaconda3/lib/python3.7/ctypes/_endian.py'>, 'jedi.settings': <module 'jedi.settings' from '/home/manohar/anaconda3/lib/python3.7/site-packages/jedi/settings.py'>, 'jedi.cache': <module 'jedi.cache' from '/home/manohar/anaconda3/lib/python3.7/site-packages/jedi/cache.py'>, 'jedi.api.classes': <module 'jedi.api.classes' from '/home/manohar/anaconda3/lib/python3.7/site-packages/jedi/api/classes.py'>, 'jedi.evaluate': <module 'jedi.evaluate' from '/home/manohar/anaconda3/lib/python3.7/site-packages/jedi/evaluate/__init__.py'>, 'jedi.evaluate.utils': <module 'jedi.evaluate.utils' from '/home/manohar/anaconda3/lib/python3.7/site-packages/jedi/evaluate/utils.py'>, 'jedi.evaluate.imports': <module 'jedi.evaluate.imports' from '/home/manohar/anaconda3/lib/python3.7/site-packages/jedi/evaluate/imports.py'>, 'jedi.evaluate.sys_path': <module 'jedi.evaluate.sys_path' from '/home/manohar/anaconda3/lib/python3.7/site-packages/jedi/evaluate/sys_path.py'>, 'jedi.evaluate.cache': <module 'jedi.evaluate.cache' from '/home/manohar/anaconda3/lib/python3.7/site-packages/jedi/evaluate/cache.py'>, 'jedi.evaluate.base_context': <module 'jedi.evaluate.base_context' from '/home/manohar/anaconda3/lib/python3.7/site-packages/jedi/evaluate/base_context.py'>, 'jedi.common': <module 'jedi.common' from '/home/manohar/anaconda3/lib/python3.7/site-packages/jedi/common/__init__.py'>, 'jedi.common.context': <module 'jedi.common.context' from '/home/manohar/anaconda3/lib/python3.7/site-packages/jedi/common/context.py'>, 'jedi.evaluate.helpers': <module 'jedi.evaluate.helpers' from '/home/manohar/anaconda3/lib/python3.7/site-packages/jedi/evaluate/helpers.py'>, 'jedi.common.utils': <module 'jedi.common.utils' from '/home/manohar/anaconda3/lib/python3.7/site-packages/jedi/common/utils.py'>, 'jedi.evaluate.compiled': <module 'jedi.evaluate.compiled' from '/home/manohar/anaconda3/lib/python3.7/site-packages/jedi/evaluate/compiled/__init__.py'>, 'jedi.evaluate.compiled.context': <module 'jedi.evaluate.compiled.context' from '/home/manohar/anaconda3/lib/python3.7/site-packages/jedi/evaluate/compiled/context.py'>, 'jedi.evaluate.filters': <module 'jedi.evaluate.filters' from '/home/manohar/anaconda3/lib/python3.7/site-packages/jedi/evaluate/filters.py'>, 'jedi.evaluate.flow_analysis': <module 'jedi.evaluate.flow_analysis' from '/home/manohar/anaconda3/lib/python3.7/site-packages/jedi/evaluate/flow_analysis.py'>, 'jedi.evaluate.recursion': <module 'jedi.evaluate.recursion' from '/home/manohar/anaconda3/lib/python3.7/site-packages/jedi/evaluate/recursion.py'>, 'jedi.evaluate.lazy_context': <module 'jedi.evaluate.lazy_context' from '/home/manohar/anaconda3/lib/python3.7/site-packages/jedi/evaluate/lazy_context.py'>, 'jedi.evaluate.compiled.access': <module 'jedi.evaluate.compiled.access' from '/home/manohar/anaconda3/lib/python3.7/site-packages/jedi/evaluate/compiled/access.py'>, 'jedi.evaluate.compiled.getattr_static': <module 'jedi.evaluate.compiled.getattr_static' from '/home/manohar/anaconda3/lib/python3.7/site-packages/jedi/evaluate/compiled/getattr_static.py'>, 'jedi.evaluate.compiled.fake': <module 'jedi.evaluate.compiled.fake' from '/home/manohar/anaconda3/lib/python3.7/site-packages/jedi/evaluate/compiled/fake.py'>, 'jedi.evaluate.analysis': <module 'jedi.evaluate.analysis' from '/home/manohar/anaconda3/lib/python3.7/site-packages/jedi/evaluate/analysis.py'>, 'jedi.evaluate.context': <module 'jedi.evaluate.context' from '/home/manohar/anaconda3/lib/python3.7/site-packages/jedi/evaluate/context/__init__.py'>, 'jedi.evaluate.context.module': <module 'jedi.evaluate.context.module' from '/home/manohar/anaconda3/lib/python3.7/site-packages/jedi/evaluate/context/module.py'>, 'jedi.evaluate.context.klass': <module 'jedi.evaluate.context.klass' from '/home/manohar/anaconda3/lib/python3.7/site-packages/jedi/evaluate/context/klass.py'>, 'jedi.evaluate.context.function': <module 'jedi.evaluate.context.function' from '/home/manohar/anaconda3/lib/python3.7/site-packages/jedi/evaluate/context/function.py'>, 'jedi.evaluate.docstrings': <module 'jedi.evaluate.docstrings' from '/home/manohar/anaconda3/lib/python3.7/site-packages/jedi/evaluate/docstrings.py'>, 'jedi.evaluate.pep0484': <module 'jedi.evaluate.pep0484' from '/home/manohar/anaconda3/lib/python3.7/site-packages/jedi/evaluate/pep0484.py'>, 'jedi.evaluate.arguments': <module 'jedi.evaluate.arguments' from '/home/manohar/anaconda3/lib/python3.7/site-packages/jedi/evaluate/arguments.py'>, 'jedi.evaluate.context.iterable': <module 'jedi.evaluate.context.iterable' from '/home/manohar/anaconda3/lib/python3.7/site-packages/jedi/evaluate/context/iterable.py'>, 'jedi.evaluate.param': <module 'jedi.evaluate.param' from '/home/manohar/anaconda3/lib/python3.7/site-packages/jedi/evaluate/param.py'>, 'jedi.evaluate.context.asynchronous': <module 'jedi.evaluate.context.asynchronous' from '/home/manohar/anaconda3/lib/python3.7/site-packages/jedi/evaluate/context/asynchronous.py'>, 'jedi.evaluate.parser_cache': <module 'jedi.evaluate.parser_cache' from '/home/manohar/anaconda3/lib/python3.7/site-packages/jedi/evaluate/parser_cache.py'>, 'jedi.evaluate.context.instance': <module 'jedi.evaluate.context.instance' from '/home/manohar/anaconda3/lib/python3.7/site-packages/jedi/evaluate/context/instance.py'>, 'jedi.evaluate.syntax_tree': <module 'jedi.evaluate.syntax_tree' from '/home/manohar/anaconda3/lib/python3.7/site-packages/jedi/evaluate/syntax_tree.py'>, 'jedi.evaluate.finder': <module 'jedi.evaluate.finder' from '/home/manohar/anaconda3/lib/python3.7/site-packages/jedi/evaluate/finder.py'>, 'jedi.api.keywords': <module 'jedi.api.keywords' from '/home/manohar/anaconda3/lib/python3.7/site-packages/jedi/api/keywords.py'>, 'pydoc_data': <module 'pydoc_data' from '/home/manohar/anaconda3/lib/python3.7/pydoc_data/__init__.py'>, 'pydoc_data.topics': <module 'pydoc_data.topics' from '/home/manohar/anaconda3/lib/python3.7/pydoc_data/topics.py'>, 'jedi.api.interpreter': <module 'jedi.api.interpreter' from '/home/manohar/anaconda3/lib/python3.7/site-packages/jedi/api/interpreter.py'>, 'jedi.evaluate.compiled.mixed': <module 'jedi.evaluate.compiled.mixed' from '/home/manohar/anaconda3/lib/python3.7/site-packages/jedi/evaluate/compiled/mixed.py'>, 'jedi.api.helpers': <module 'jedi.api.helpers' from '/home/manohar/anaconda3/lib/python3.7/site-packages/jedi/api/helpers.py'>, 'jedi.api.completion': <module 'jedi.api.completion' from '/home/manohar/anaconda3/lib/python3.7/site-packages/jedi/api/completion.py'>, 'jedi.api.environment': <module 'jedi.api.environment' from '/home/manohar/anaconda3/lib/python3.7/site-packages/jedi/api/environment.py'>, 'filecmp': <module 'filecmp' from '/home/manohar/anaconda3/lib/python3.7/filecmp.py'>, 'jedi.evaluate.compiled.subprocess': <module 'jedi.evaluate.compiled.subprocess' from '/home/manohar/anaconda3/lib/python3.7/site-packages/jedi/evaluate/compiled/subprocess/__init__.py'>, 'jedi.evaluate.compiled.subprocess.functions': <module 'jedi.evaluate.compiled.subprocess.functions' from '/home/manohar/anaconda3/lib/python3.7/site-packages/jedi/evaluate/compiled/subprocess/functions.py'>, 'jedi.api.exceptions': <module 'jedi.api.exceptions' from '/home/manohar/anaconda3/lib/python3.7/site-packages/jedi/api/exceptions.py'>, 'jedi.api.project': <module 'jedi.api.project' from '/home/manohar/anaconda3/lib/python3.7/site-packages/jedi/api/project.py'>, 'jedi.evaluate.usages': <module 'jedi.evaluate.usages' from '/home/manohar/anaconda3/lib/python3.7/site-packages/jedi/evaluate/usages.py'>, 'IPython.terminal.ptutils': <module 'IPython.terminal.ptutils' from '/home/manohar/anaconda3/lib/python3.7/site-packages/IPython/terminal/ptutils.py'>, 'IPython.terminal.shortcuts': <module 'IPython.terminal.shortcuts' from '/home/manohar/anaconda3/lib/python3.7/site-packages/IPython/terminal/shortcuts.py'>, 'IPython.terminal.magics': <module 'IPython.terminal.magics' from '/home/manohar/anaconda3/lib/python3.7/site-packages/IPython/terminal/magics.py'>, 'IPython.lib.clipboard': <module 'IPython.lib.clipboard' from '/home/manohar/anaconda3/lib/python3.7/site-packages/IPython/lib/clipboard.py'>, 'IPython.terminal.pt_inputhooks': <module 'IPython.terminal.pt_inputhooks' from '/home/manohar/anaconda3/lib/python3.7/site-packages/IPython/terminal/pt_inputhooks/__init__.py'>, 'IPython.terminal.prompts': <module 'IPython.terminal.prompts' from '/home/manohar/anaconda3/lib/python3.7/site-packages/IPython/terminal/prompts.py'>, 'IPython.terminal.ipapp': <module 'IPython.terminal.ipapp' from '/home/manohar/anaconda3/lib/python3.7/site-packages/IPython/terminal/ipapp.py'>, 'IPython.core.magics': <module 'IPython.core.magics' from '/home/manohar/anaconda3/lib/python3.7/site-packages/IPython/core/magics/__init__.py'>, 'IPython.core.magics.auto': <module 'IPython.core.magics.auto' from '/home/manohar/anaconda3/lib/python3.7/site-packages/IPython/core/magics/auto.py'>, 'IPython.core.magics.basic': <module 'IPython.core.magics.basic' from '/home/manohar/anaconda3/lib/python3.7/site-packages/IPython/core/magics/basic.py'>, 'IPython.core.magics.code': <module 'IPython.core.magics.code' from '/home/manohar/anaconda3/lib/python3.7/site-packages/IPython/core/magics/code.py'>, 'urllib.request': <module 'urllib.request' from '/home/manohar/anaconda3/lib/python3.7/urllib/request.py'>, 'email': <module 'email' from '/home/manohar/anaconda3/lib/python3.7/email/__init__.py'>, 'http': <module 'http' from '/home/manohar/anaconda3/lib/python3.7/http/__init__.py'>, 'http.client': <module 'http.client' from '/home/manohar/anaconda3/lib/python3.7/http/client.py'>, 'email.parser': <module 'email.parser' from '/home/manohar/anaconda3/lib/python3.7/email/parser.py'>, 'email.feedparser': <module 'email.feedparser' from '/home/manohar/anaconda3/lib/python3.7/email/feedparser.py'>, 'email.errors': <module 'email.errors' from '/home/manohar/anaconda3/lib/python3.7/email/errors.py'>, 'email._policybase': <module 'email._policybase' from '/home/manohar/anaconda3/lib/python3.7/email/_policybase.py'>, 'email.header': <module 'email.header' from '/home/manohar/anaconda3/lib/python3.7/email/header.py'>, 'email.quoprimime': <module 'email.quoprimime' from '/home/manohar/anaconda3/lib/python3.7/email/quoprimime.py'>, 'email.base64mime': <module 'email.base64mime' from '/home/manohar/anaconda3/lib/python3.7/email/base64mime.py'>, 'email.charset': <module 'email.charset' from '/home/manohar/anaconda3/lib/python3.7/email/charset.py'>, 'email.encoders': <module 'email.encoders' from '/home/manohar/anaconda3/lib/python3.7/email/encoders.py'>, 'quopri': <module 'quopri' from '/home/manohar/anaconda3/lib/python3.7/quopri.py'>, 'email.utils': <module 'email.utils' from '/home/manohar/anaconda3/lib/python3.7/email/utils.py'>, 'email._parseaddr': <module 'email._parseaddr' from '/home/manohar/anaconda3/lib/python3.7/email/_parseaddr.py'>, 'calendar': <module 'calendar' from '/home/manohar/anaconda3/lib/python3.7/calendar.py'>, 'email.message': <module 'email.message' from '/home/manohar/anaconda3/lib/python3.7/email/message.py'>, 'uu': <module 'uu' from '/home/manohar/anaconda3/lib/python3.7/uu.py'>, 'email._encoded_words': <module 'email._encoded_words' from '/home/manohar/anaconda3/lib/python3.7/email/_encoded_words.py'>, 'email.iterators': <module 'email.iterators' from '/home/manohar/anaconda3/lib/python3.7/email/iterators.py'>, 'urllib.error': <module 'urllib.error' from '/home/manohar/anaconda3/lib/python3.7/urllib/error.py'>, 'urllib.response': <module 'urllib.response' from '/home/manohar/anaconda3/lib/python3.7/urllib/response.py'>, 'IPython.core.magics.config': <module 'IPython.core.magics.config' from '/home/manohar/anaconda3/lib/python3.7/site-packages/IPython/core/magics/config.py'>, 'IPython.core.magics.display': <module 'IPython.core.magics.display' from '/home/manohar/anaconda3/lib/python3.7/site-packages/IPython/core/magics/display.py'>, 'IPython.core.magics.execution': <module 'IPython.core.magics.execution' from '/home/manohar/anaconda3/lib/python3.7/site-packages/IPython/core/magics/execution.py'>, 'timeit': <module 'timeit' from '/home/manohar/anaconda3/lib/python3.7/timeit.py'>, 'cProfile': <module 'cProfile' from '/home/manohar/anaconda3/lib/python3.7/cProfile.py'>, '_lsprof': <module '_lsprof' from '/home/manohar/anaconda3/lib/python3.7/lib-dynload/_lsprof.cpython-37m-x86_64-linux-gnu.so'>, 'profile': <module 'profile' from '/home/manohar/anaconda3/lib/python3.7/profile.py'>, 'pstats': <module 'pstats' from '/home/manohar/anaconda3/lib/python3.7/pstats.py'>, 'IPython.utils.module_paths': <module 'IPython.utils.module_paths' from '/home/manohar/anaconda3/lib/python3.7/site-packages/IPython/utils/module_paths.py'>, 'IPython.utils.timing': <module 'IPython.utils.timing' from '/home/manohar/anaconda3/lib/python3.7/site-packages/IPython/utils/timing.py'>, 'IPython.core.magics.extension': <module 'IPython.core.magics.extension' from '/home/manohar/anaconda3/lib/python3.7/site-packages/IPython/core/magics/extension.py'>, 'IPython.core.magics.history': <module 'IPython.core.magics.history' from '/home/manohar/anaconda3/lib/python3.7/site-packages/IPython/core/magics/history.py'>, 'IPython.core.magics.logging': <module 'IPython.core.magics.logging' from '/home/manohar/anaconda3/lib/python3.7/site-packages/IPython/core/magics/logging.py'>, 'IPython.core.magics.namespace': <module 'IPython.core.magics.namespace' from '/home/manohar/anaconda3/lib/python3.7/site-packages/IPython/core/magics/namespace.py'>, 'IPython.core.magics.osm': <module 'IPython.core.magics.osm' from '/home/manohar/anaconda3/lib/python3.7/site-packages/IPython/core/magics/osm.py'>, 'IPython.core.magics.pylab': <module 'IPython.core.magics.pylab' from '/home/manohar/anaconda3/lib/python3.7/site-packages/IPython/core/magics/pylab.py'>, 'IPython.core.pylabtools': <module 'IPython.core.pylabtools' from '/home/manohar/anaconda3/lib/python3.7/site-packages/IPython/core/pylabtools.py'>, 'IPython.core.magics.script': <module 'IPython.core.magics.script' from '/home/manohar/anaconda3/lib/python3.7/site-packages/IPython/core/magics/script.py'>, 'IPython.lib.backgroundjobs': <module 'IPython.lib.backgroundjobs' from '/home/manohar/anaconda3/lib/python3.7/site-packages/IPython/lib/backgroundjobs.py'>, 'IPython.core.shellapp': <module 'IPython.core.shellapp' from '/home/manohar/anaconda3/lib/python3.7/site-packages/IPython/core/shellapp.py'>, 'IPython.extensions': <module 'IPython.extensions' from '/home/manohar/anaconda3/lib/python3.7/site-packages/IPython/extensions/__init__.py'>, 'IPython.extensions.storemagic': <module 'IPython.extensions.storemagic' from '/home/manohar/anaconda3/lib/python3.7/site-packages/IPython/extensions/storemagic.py'>, 'IPython.utils.frame': <module 'IPython.utils.frame' from '/home/manohar/anaconda3/lib/python3.7/site-packages/IPython/utils/frame.py'>, 'jupyter_client': <module 'jupyter_client' from '/home/manohar/anaconda3/lib/python3.7/site-packages/jupyter_client/__init__.py'>, 'jupyter_client._version': <module 'jupyter_client._version' from '/home/manohar/anaconda3/lib/python3.7/site-packages/jupyter_client/_version.py'>, 'jupyter_client.connect': <module 'jupyter_client.connect' from '/home/manohar/anaconda3/lib/python3.7/site-packages/jupyter_client/connect.py'>, 'zmq': <module 'zmq' from '/home/manohar/anaconda3/lib/python3.7/site-packages/zmq/__init__.py'>, 'zmq.backend': <module 'zmq.backend' from '/home/manohar/anaconda3/lib/python3.7/site-packages/zmq/backend/__init__.py'>, 'zmq.backend.select': <module 'zmq.backend.select' from '/home/manohar/anaconda3/lib/python3.7/site-packages/zmq/backend/select.py'>, 'zmq.backend.cython': <module 'zmq.backend.cython' from '/home/manohar/anaconda3/lib/python3.7/site-packages/zmq/backend/cython/__init__.py'>, 'cython_runtime': <module 'cython_runtime'>, 'zmq.backend.cython.constants': <module 'zmq.backend.cython.constants' from '/home/manohar/anaconda3/lib/python3.7/site-packages/zmq/backend/cython/constants.cpython-37m-x86_64-linux-gnu.so'>, '_cython_0_28_5': <module '_cython_0_28_5'>, 'zmq.backend.cython.error': <module 'zmq.backend.cython.error' from '/home/manohar/anaconda3/lib/python3.7/site-packages/zmq/backend/cython/error.cpython-37m-x86_64-linux-gnu.so'>, 'zmq.backend.cython.message': <module 'zmq.backend.cython.message' from '/home/manohar/anaconda3/lib/python3.7/site-packages/zmq/backend/cython/message.cpython-37m-x86_64-linux-gnu.so'>, 'zmq.error': <module 'zmq.error' from '/home/manohar/anaconda3/lib/python3.7/site-packages/zmq/error.py'>, 'zmq.backend.cython.context': <module 'zmq.backend.cython.context' from '/home/manohar/anaconda3/lib/python3.7/site-packages/zmq/backend/cython/context.cpython-37m-x86_64-linux-gnu.so'>, 'zmq.backend.cython.socket': <module 'zmq.backend.cython.socket' from '/home/manohar/anaconda3/lib/python3.7/site-packages/zmq/backend/cython/socket.cpython-37m-x86_64-linux-gnu.so'>, 'zmq.backend.cython.utils': <module 'zmq.backend.cython.utils' from '/home/manohar/anaconda3/lib/python3.7/site-packages/zmq/backend/cython/utils.cpython-37m-x86_64-linux-gnu.so'>, 'zmq.backend.cython._poll': <module 'zmq.backend.cython._poll' from '/home/manohar/anaconda3/lib/python3.7/site-packages/zmq/backend/cython/_poll.cpython-37m-x86_64-linux-gnu.so'>, 'zmq.backend.cython._version': <module 'zmq.backend.cython._version' from '/home/manohar/anaconda3/lib/python3.7/site-packages/zmq/backend/cython/_version.cpython-37m-x86_64-linux-gnu.so'>, 'zmq.backend.cython._device': <module 'zmq.backend.cython._device' from '/home/manohar/anaconda3/lib/python3.7/site-packages/zmq/backend/cython/_device.cpython-37m-x86_64-linux-gnu.so'>, 'zmq.sugar': <module 'zmq.sugar' from '/home/manohar/anaconda3/lib/python3.7/site-packages/zmq/sugar/__init__.py'>, 'zmq.sugar.constants': <module 'zmq.sugar.constants' from '/home/manohar/anaconda3/lib/python3.7/site-packages/zmq/sugar/constants.py'>, 'zmq.utils': <module 'zmq.utils' from '/home/manohar/anaconda3/lib/python3.7/site-packages/zmq/utils/__init__.py'>, 'zmq.utils.constant_names': <module 'zmq.utils.constant_names' from '/home/manohar/anaconda3/lib/python3.7/site-packages/zmq/utils/constant_names.py'>, 'zmq.sugar.context': <module 'zmq.sugar.context' from '/home/manohar/anaconda3/lib/python3.7/site-packages/zmq/sugar/context.py'>, 'zmq.sugar.attrsettr': <module 'zmq.sugar.attrsettr' from '/home/manohar/anaconda3/lib/python3.7/site-packages/zmq/sugar/attrsettr.py'>, 'zmq.sugar.socket': <module 'zmq.sugar.socket' from '/home/manohar/anaconda3/lib/python3.7/site-packages/zmq/sugar/socket.py'>, 'zmq.sugar.poll': <module 'zmq.sugar.poll' from '/home/manohar/anaconda3/lib/python3.7/site-packages/zmq/sugar/poll.py'>, 'zmq.utils.jsonapi': <module 'zmq.utils.jsonapi' from '/home/manohar/anaconda3/lib/python3.7/site-packages/zmq/utils/jsonapi.py'>, 'zmq.utils.strtypes': <module 'zmq.utils.strtypes' from '/home/manohar/anaconda3/lib/python3.7/site-packages/zmq/utils/strtypes.py'>, 'simplejson': <module 'simplejson' from '/home/manohar/anaconda3/lib/python3.7/site-packages/simplejson/__init__.py'>, 'decimal': <module 'decimal' from '/home/manohar/anaconda3/lib/python3.7/decimal.py'>, 'numbers': <module 'numbers' from '/home/manohar/anaconda3/lib/python3.7/numbers.py'>, '_decimal': <module '_decimal' from '/home/manohar/anaconda3/lib/python3.7/lib-dynload/_decimal.cpython-37m-x86_64-linux-gnu.so'>, 'simplejson.scanner': <module 'simplejson.scanner' from '/home/manohar/anaconda3/lib/python3.7/site-packages/simplejson/scanner.py'>, 'simplejson._speedups': <module 'simplejson._speedups' from '/home/manohar/anaconda3/lib/python3.7/site-packages/simplejson/_speedups.cpython-37m-x86_64-linux-gnu.so'>, 'simplejson.decoder': <module 'simplejson.decoder' from '/home/manohar/anaconda3/lib/python3.7/site-packages/simplejson/decoder.py'>, 'simplejson.compat': <module 'simplejson.compat' from '/home/manohar/anaconda3/lib/python3.7/site-packages/simplejson/compat.py'>, 'simplejson.encoder': <module 'simplejson.encoder' from '/home/manohar/anaconda3/lib/python3.7/site-packages/simplejson/encoder.py'>, 'zmq.sugar.frame': <module 'zmq.sugar.frame' from '/home/manohar/anaconda3/lib/python3.7/site-packages/zmq/sugar/frame.py'>, 'zmq.sugar.tracker': <module 'zmq.sugar.tracker' from '/home/manohar/anaconda3/lib/python3.7/site-packages/zmq/sugar/tracker.py'>, 'zmq.sugar.version': <module 'zmq.sugar.version' from '/home/manohar/anaconda3/lib/python3.7/site-packages/zmq/sugar/version.py'>, 'zmq.sugar.stopwatch': <module 'zmq.sugar.stopwatch' from '/home/manohar/anaconda3/lib/python3.7/site-packages/zmq/sugar/stopwatch.py'>, 'jupyter_client.localinterfaces': <module 'jupyter_client.localinterfaces' from '/home/manohar/anaconda3/lib/python3.7/site-packages/jupyter_client/localinterfaces.py'>, 'jupyter_core': <module 'jupyter_core' from '/home/manohar/anaconda3/lib/python3.7/site-packages/jupyter_core/__init__.py'>, 'jupyter_core.version': <module 'jupyter_core.version' from '/home/manohar/anaconda3/lib/python3.7/site-packages/jupyter_core/version.py'>, 'jupyter_core.paths': <module 'jupyter_core.paths' from '/home/manohar/anaconda3/lib/python3.7/site-packages/jupyter_core/paths.py'>, 'jupyter_client.launcher': <module 'jupyter_client.launcher' from '/home/manohar/anaconda3/lib/python3.7/site-packages/jupyter_client/launcher.py'>, 'traitlets.log': <module 'traitlets.log' from '/home/manohar/anaconda3/lib/python3.7/site-packages/traitlets/log.py'>, 'jupyter_client.client': <module 'jupyter_client.client' from '/home/manohar/anaconda3/lib/python3.7/site-packages/jupyter_client/client.py'>, 'jupyter_client.channels': <module 'jupyter_client.channels' from '/home/manohar/anaconda3/lib/python3.7/site-packages/jupyter_client/channels.py'>, 'jupyter_client.channelsabc': <module 'jupyter_client.channelsabc' from '/home/manohar/anaconda3/lib/python3.7/site-packages/jupyter_client/channelsabc.py'>, 'jupyter_client.clientabc': <module 'jupyter_client.clientabc' from '/home/manohar/anaconda3/lib/python3.7/site-packages/jupyter_client/clientabc.py'>, 'jupyter_client.manager': <module 'jupyter_client.manager' from '/home/manohar/anaconda3/lib/python3.7/site-packages/jupyter_client/manager.py'>, 'jupyter_client.kernelspec': <module 'jupyter_client.kernelspec' from '/home/manohar/anaconda3/lib/python3.7/site-packages/jupyter_client/kernelspec.py'>, 'jupyter_client.managerabc': <module 'jupyter_client.managerabc' from '/home/manohar/anaconda3/lib/python3.7/site-packages/jupyter_client/managerabc.py'>, 'jupyter_client.blocking': <module 'jupyter_client.blocking' from '/home/manohar/anaconda3/lib/python3.7/site-packages/jupyter_client/blocking/__init__.py'>, 'jupyter_client.blocking.client': <module 'jupyter_client.blocking.client' from '/home/manohar/anaconda3/lib/python3.7/site-packages/jupyter_client/blocking/client.py'>, 'jupyter_client.blocking.channels': <module 'jupyter_client.blocking.channels' from '/home/manohar/anaconda3/lib/python3.7/site-packages/jupyter_client/blocking/channels.py'>, 'jupyter_client.multikernelmanager': <module 'jupyter_client.multikernelmanager' from '/home/manohar/anaconda3/lib/python3.7/site-packages/jupyter_client/multikernelmanager.py'>, 'uuid': <module 'uuid' from '/home/manohar/anaconda3/lib/python3.7/uuid.py'>, 'ipykernel.kernelapp': <module 'ipykernel.kernelapp' from '/home/manohar/anaconda3/lib/python3.7/site-packages/ipykernel/kernelapp.py'>, 'tornado': <module 'tornado' from '/home/manohar/anaconda3/lib/python3.7/site-packages/tornado/__init__.py'>, 'tornado.ioloop': <module 'tornado.ioloop' from '/home/manohar/anaconda3/lib/python3.7/site-packages/tornado/ioloop.py'>, 'tornado.concurrent': <module 'tornado.concurrent' from '/home/manohar/anaconda3/lib/python3.7/site-packages/tornado/concurrent.py'>, 'tornado.log': <module 'tornado.log' from '/home/manohar/anaconda3/lib/python3.7/site-packages/tornado/log.py'>, 'logging.handlers': <module 'logging.handlers' from '/home/manohar/anaconda3/lib/python3.7/logging/handlers.py'>, 'tornado.escape': <module 'tornado.escape' from '/home/manohar/anaconda3/lib/python3.7/site-packages/tornado/escape.py'>, 'tornado.util': <module 'tornado.util' from '/home/manohar/anaconda3/lib/python3.7/site-packages/tornado/util.py'>, 'tornado.speedups': <module 'tornado.speedups' from '/home/manohar/anaconda3/lib/python3.7/site-packages/tornado/speedups.cpython-37m-x86_64-linux-gnu.so'>, 'curses': <module 'curses' from '/home/manohar/anaconda3/lib/python3.7/curses/__init__.py'>, '_curses': <module '_curses' from '/home/manohar/anaconda3/lib/python3.7/lib-dynload/_curses.cpython-37m-x86_64-linux-gnu.so'>, 'tornado.stack_context': <module 'tornado.stack_context' from '/home/manohar/anaconda3/lib/python3.7/site-packages/tornado/stack_context.py'>, 'tornado.platform': <module 'tornado.platform' from '/home/manohar/anaconda3/lib/python3.7/site-packages/tornado/platform/__init__.py'>, 'tornado.platform.auto': <module 'tornado.platform.auto' from '/home/manohar/anaconda3/lib/python3.7/site-packages/tornado/platform/auto.py'>, 'tornado.platform.posix': <module 'tornado.platform.posix' from '/home/manohar/anaconda3/lib/python3.7/site-packages/tornado/platform/posix.py'>, 'tornado.platform.common': <module 'tornado.platform.common' from '/home/manohar/anaconda3/lib/python3.7/site-packages/tornado/platform/common.py'>, 'tornado.platform.interface': <module 'tornado.platform.interface' from '/home/manohar/anaconda3/lib/python3.7/site-packages/tornado/platform/interface.py'>, 'concurrent.futures.thread': <module 'concurrent.futures.thread' from '/home/manohar/anaconda3/lib/python3.7/concurrent/futures/thread.py'>, 'zmq.eventloop': <module 'zmq.eventloop' from '/home/manohar/anaconda3/lib/python3.7/site-packages/zmq/eventloop/__init__.py'>, 'zmq.eventloop.ioloop': <module 'zmq.eventloop.ioloop' from '/home/manohar/anaconda3/lib/python3.7/site-packages/zmq/eventloop/ioloop.py'>, 'tornado.platform.asyncio': <module 'tornado.platform.asyncio' from '/home/manohar/anaconda3/lib/python3.7/site-packages/tornado/platform/asyncio.py'>, 'tornado.gen': <module 'tornado.gen' from '/home/manohar/anaconda3/lib/python3.7/site-packages/tornado/gen.py'>, 'zmq.eventloop.zmqstream': <module 'zmq.eventloop.zmqstream' from '/home/manohar/anaconda3/lib/python3.7/site-packages/zmq/eventloop/zmqstream.py'>, 'ipykernel.iostream': <module 'ipykernel.iostream' from '/home/manohar/anaconda3/lib/python3.7/site-packages/ipykernel/iostream.py'>, 'imp': <module 'imp' from '/home/manohar/anaconda3/lib/python3.7/imp.py'>, 'jupyter_client.session': <module 'jupyter_client.session' from '/home/manohar/anaconda3/lib/python3.7/site-packages/jupyter_client/session.py'>, 'hmac': <module 'hmac' from '/home/manohar/anaconda3/lib/python3.7/hmac.py'>, 'jupyter_client.jsonutil': <module 'jupyter_client.jsonutil' from '/home/manohar/anaconda3/lib/python3.7/site-packages/jupyter_client/jsonutil.py'>, 'dateutil': <module 'dateutil' from '/home/manohar/anaconda3/lib/python3.7/site-packages/dateutil/__init__.py'>, 'dateutil.parser': <module 'dateutil.parser' from '/home/manohar/anaconda3/lib/python3.7/site-packages/dateutil/parser.py'>, 'dateutil.relativedelta': <module 'dateutil.relativedelta' from '/home/manohar/anaconda3/lib/python3.7/site-packages/dateutil/relativedelta.py'>, 'dateutil.tz': <module 'dateutil.tz' from '/home/manohar/anaconda3/lib/python3.7/site-packages/dateutil/tz/__init__.py'>, 'dateutil.tz.tz': <module 'dateutil.tz.tz' from '/home/manohar/anaconda3/lib/python3.7/site-packages/dateutil/tz/tz.py'>, 'dateutil.tz.__init__': <module 'dateutil.tz.__init__' from '/home/manohar/anaconda3/lib/python3.7/site-packages/dateutil/tz/__init__.py'>, '_strptime': <module '_strptime' from '/home/manohar/anaconda3/lib/python3.7/_strptime.py'>, 'jupyter_client.adapter': <module 'jupyter_client.adapter' from '/home/manohar/anaconda3/lib/python3.7/site-packages/jupyter_client/adapter.py'>, 'ipykernel.heartbeat': <module 'ipykernel.heartbeat' from '/home/manohar/anaconda3/lib/python3.7/site-packages/ipykernel/heartbeat.py'>, 'ipykernel.ipkernel': <module 'ipykernel.ipkernel' from '/home/manohar/anaconda3/lib/python3.7/site-packages/ipykernel/ipkernel.py'>, 'IPython.utils.tokenutil': <module 'IPython.utils.tokenutil' from '/home/manohar/anaconda3/lib/python3.7/site-packages/IPython/utils/tokenutil.py'>, 'ipykernel.comm': <module 'ipykernel.comm' from '/home/manohar/anaconda3/lib/python3.7/site-packages/ipykernel/comm/__init__.py'>, 'ipykernel.comm.manager': <module 'ipykernel.comm.manager' from '/home/manohar/anaconda3/lib/python3.7/site-packages/ipykernel/comm/manager.py'>, 'ipykernel.comm.comm': <module 'ipykernel.comm.comm' from '/home/manohar/anaconda3/lib/python3.7/site-packages/ipykernel/comm/comm.py'>, 'ipykernel.kernelbase': <module 'ipykernel.kernelbase' from '/home/manohar/anaconda3/lib/python3.7/site-packages/ipykernel/kernelbase.py'>, 'tornado.queues': <module 'tornado.queues' from '/home/manohar/anaconda3/lib/python3.7/site-packages/tornado/queues.py'>, 'tornado.locks': <module 'tornado.locks' from '/home/manohar/anaconda3/lib/python3.7/site-packages/tornado/locks.py'>, 'ipykernel.jsonutil': <module 'ipykernel.jsonutil' from '/home/manohar/anaconda3/lib/python3.7/site-packages/ipykernel/jsonutil.py'>, 'ipykernel.zmqshell': <module 'ipykernel.zmqshell' from '/home/manohar/anaconda3/lib/python3.7/site-packages/ipykernel/zmqshell.py'>, 'IPython.core.payloadpage': <module 'IPython.core.payloadpage' from '/home/manohar/anaconda3/lib/python3.7/site-packages/IPython/core/payloadpage.py'>, 'ipykernel.displayhook': <module 'ipykernel.displayhook' from '/home/manohar/anaconda3/lib/python3.7/site-packages/ipykernel/displayhook.py'>, 'ipykernel.parentpoller': <module 'ipykernel.parentpoller' from '/home/manohar/anaconda3/lib/python3.7/site-packages/ipykernel/parentpoller.py'>, 'faulthandler': <module 'faulthandler' (built-in)>, 'ipykernel.datapub': <module 'ipykernel.datapub' from '/home/manohar/anaconda3/lib/python3.7/site-packages/ipykernel/datapub.py'>, 'ipykernel.serialize': <module 'ipykernel.serialize' from '/home/manohar/anaconda3/lib/python3.7/site-packages/ipykernel/serialize.py'>, 'ipykernel.pickleutil': <module 'ipykernel.pickleutil' from '/home/manohar/anaconda3/lib/python3.7/site-packages/ipykernel/pickleutil.py'>, 'ipykernel.codeutil': <module 'ipykernel.codeutil' from '/home/manohar/anaconda3/lib/python3.7/site-packages/ipykernel/codeutil.py'>, 'IPython.core.completerlib': <module 'IPython.core.completerlib' from '/home/manohar/anaconda3/lib/python3.7/site-packages/IPython/core/completerlib.py'>, 'storemagic': <module 'storemagic' from '/home/manohar/anaconda3/lib/python3.7/site-packages/IPython/extensions/storemagic.py'>, 'ipywidgets': <module 'ipywidgets' from '/home/manohar/anaconda3/lib/python3.7/site-packages/ipywidgets/__init__.py'>, 'ipywidgets._version': <module 'ipywidgets._version' from '/home/manohar/anaconda3/lib/python3.7/site-packages/ipywidgets/_version.py'>, 'ipywidgets.widgets': <module 'ipywidgets.widgets' from '/home/manohar/anaconda3/lib/python3.7/site-packages/ipywidgets/widgets/__init__.py'>, 'ipywidgets.widgets.widget': <module 'ipywidgets.widgets.widget' from '/home/manohar/anaconda3/lib/python3.7/site-packages/ipywidgets/widgets/widget.py'>, 'ipywidgets.widgets.domwidget': <module 'ipywidgets.widgets.domwidget' from '/home/manohar/anaconda3/lib/python3.7/site-packages/ipywidgets/widgets/domwidget.py'>, 'ipywidgets.widgets.trait_types': <module 'ipywidgets.widgets.trait_types' from '/home/manohar/anaconda3/lib/python3.7/site-packages/ipywidgets/widgets/trait_types.py'>, 'ipywidgets.widgets.widget_layout': <module 'ipywidgets.widgets.widget_layout' from '/home/manohar/anaconda3/lib/python3.7/site-packages/ipywidgets/widgets/widget_layout.py'>, 'ipywidgets.widgets.widget_style': <module 'ipywidgets.widgets.widget_style' from '/home/manohar/anaconda3/lib/python3.7/site-packages/ipywidgets/widgets/widget_style.py'>, 'ipywidgets.widgets.valuewidget': <module 'ipywidgets.widgets.valuewidget' from '/home/manohar/anaconda3/lib/python3.7/site-packages/ipywidgets/widgets/valuewidget.py'>, 'ipywidgets.widgets.widget_core': <module 'ipywidgets.widgets.widget_core' from '/home/manohar/anaconda3/lib/python3.7/site-packages/ipywidgets/widgets/widget_core.py'>, 'ipywidgets.widgets.widget_bool': <module 'ipywidgets.widgets.widget_bool' from '/home/manohar/anaconda3/lib/python3.7/site-packages/ipywidgets/widgets/widget_bool.py'>, 'ipywidgets.widgets.widget_description': <module 'ipywidgets.widgets.widget_description' from '/home/manohar/anaconda3/lib/python3.7/site-packages/ipywidgets/widgets/widget_description.py'>, 'ipywidgets.widgets.widget_button': <module 'ipywidgets.widgets.widget_button' from '/home/manohar/anaconda3/lib/python3.7/site-packages/ipywidgets/widgets/widget_button.py'>, 'ipywidgets.widgets.widget_box': <module 'ipywidgets.widgets.widget_box' from '/home/manohar/anaconda3/lib/python3.7/site-packages/ipywidgets/widgets/widget_box.py'>, 'ipywidgets.widgets.docutils': <module 'ipywidgets.widgets.docutils' from '/home/manohar/anaconda3/lib/python3.7/site-packages/ipywidgets/widgets/docutils.py'>, 'ipywidgets.widgets.widget_float': <module 'ipywidgets.widgets.widget_float' from '/home/manohar/anaconda3/lib/python3.7/site-packages/ipywidgets/widgets/widget_float.py'>, 'ipywidgets.widgets.widget_int': <module 'ipywidgets.widgets.widget_int' from '/home/manohar/anaconda3/lib/python3.7/site-packages/ipywidgets/widgets/widget_int.py'>, 'ipywidgets.widgets.widget_color': <module 'ipywidgets.widgets.widget_color' from '/home/manohar/anaconda3/lib/python3.7/site-packages/ipywidgets/widgets/widget_color.py'>, 'ipywidgets.widgets.widget_date': <module 'ipywidgets.widgets.widget_date' from '/home/manohar/anaconda3/lib/python3.7/site-packages/ipywidgets/widgets/widget_date.py'>, 'ipywidgets.widgets.widget_output': <module 'ipywidgets.widgets.widget_output' from '/home/manohar/anaconda3/lib/python3.7/site-packages/ipywidgets/widgets/widget_output.py'>, 'ipywidgets.widgets.widget_selection': <module 'ipywidgets.widgets.widget_selection' from '/home/manohar/anaconda3/lib/python3.7/site-packages/ipywidgets/widgets/widget_selection.py'>, 'ipywidgets.widgets.widget_selectioncontainer': <module 'ipywidgets.widgets.widget_selectioncontainer' from '/home/manohar/anaconda3/lib/python3.7/site-packages/ipywidgets/widgets/widget_selectioncontainer.py'>, 'ipywidgets.widgets.widget_string': <module 'ipywidgets.widgets.widget_string' from '/home/manohar/anaconda3/lib/python3.7/site-packages/ipywidgets/widgets/widget_string.py'>, 'ipywidgets.widgets.widget_controller': <module 'ipywidgets.widgets.widget_controller' from '/home/manohar/anaconda3/lib/python3.7/site-packages/ipywidgets/widgets/widget_controller.py'>, 'ipywidgets.widgets.interaction': <module 'ipywidgets.widgets.interaction' from '/home/manohar/anaconda3/lib/python3.7/site-packages/ipywidgets/widgets/interaction.py'>, 'ipywidgets.widgets.widget_link': <module 'ipywidgets.widgets.widget_link' from '/home/manohar/anaconda3/lib/python3.7/site-packages/ipywidgets/widgets/widget_link.py'>, 'ipywidgets.widgets.widget_media': <module 'ipywidgets.widgets.widget_media' from '/home/manohar/anaconda3/lib/python3.7/site-packages/ipywidgets/widgets/widget_media.py'>}\n"
     ]
    }
   ],
   "source": [
    "print(\"Number of Modules: \", len(sys.modules))\n",
    "print(\"Modules: \", sys.modules)\n"
   ]
  },
  {
   "cell_type": "code",
   "execution_count": 3,
   "metadata": {},
   "outputs": [
    {
     "name": "stdout",
     "output_type": "stream",
     "text": [
      "Number of Paths:  8\n",
      "Paths:  ['', '/home/manohar/Documents/dev - Python/Py_Pro/1_Builtin_Modules', '/home/manohar/anaconda3/lib/python37.zip', '/home/manohar/anaconda3/lib/python3.7', '/home/manohar/anaconda3/lib/python3.7/lib-dynload', '/home/manohar/anaconda3/lib/python3.7/site-packages', '/home/manohar/anaconda3/lib/python3.7/site-packages/IPython/extensions', '/home/manohar/.ipython']\n"
     ]
    }
   ],
   "source": [
    "print(\"Number of Paths: \", len(sys.path))\n",
    "print(\"Paths: \", sys.path)"
   ]
  },
  {
   "cell_type": "code",
   "execution_count": 4,
   "metadata": {
    "scrolled": true
   },
   "outputs": [
    {
     "name": "stdout",
     "output_type": "stream",
     "text": [
      "Number of Arguments:  3\n",
      "Arguments:  ['/home/manohar/anaconda3/lib/python3.7/site-packages/ipykernel_launcher.py', '-f', '/run/user/1000/jupyter/kernel-a0cf8526-3793-4d57-b655-be34c3e37113.json']\n"
     ]
    }
   ],
   "source": [
    "print(\"Number of Arguments: \", len(sys.argv))\n",
    "print(\"Arguments: \", sys.argv)"
   ]
  },
  {
   "cell_type": "code",
   "execution_count": 5,
   "metadata": {},
   "outputs": [
    {
     "name": "stdout",
     "output_type": "stream",
     "text": [
      "Name argument:  /home/manohar/anaconda3/lib/python3.7/site-packages/ipykernel_launcher.py\n"
     ]
    }
   ],
   "source": [
    "print(\"Name argument: \", sys.argv[0])"
   ]
  },
  {
   "cell_type": "markdown",
   "metadata": {},
   "source": [
    "## Remove Arguments"
   ]
  },
  {
   "cell_type": "code",
   "execution_count": 6,
   "metadata": {},
   "outputs": [
    {
     "name": "stdout",
     "output_type": "stream",
     "text": [
      "Arguments:  ['/home/manohar/anaconda3/lib/python3.7/site-packages/ipykernel_launcher.py', '-f', '/run/user/1000/jupyter/kernel-a0cf8526-3793-4d57-b655-be34c3e37113.json']\n"
     ]
    }
   ],
   "source": [
    "#sys.argv.remove(sys.argv[0]) #comment out for right count below\n",
    "print(\"Arguments: \", sys.argv)"
   ]
  },
  {
   "cell_type": "code",
   "execution_count": 7,
   "metadata": {},
   "outputs": [
    {
     "name": "stdout",
     "output_type": "stream",
     "text": [
      "Number of arguments:  3  arguments.\n"
     ]
    }
   ],
   "source": [
    "print(\"Number of arguments: \", len(sys.argv), ' arguments.')"
   ]
  },
  {
   "cell_type": "markdown",
   "metadata": {},
   "source": [
    "## Output"
   ]
  },
  {
   "cell_type": "code",
   "execution_count": 8,
   "metadata": {},
   "outputs": [
    {
     "name": "stdout",
     "output_type": "stream",
     "text": [
      "Hello.\n"
     ]
    }
   ],
   "source": [
    "print(\"Hello.\")"
   ]
  },
  {
   "cell_type": "markdown",
   "metadata": {},
   "source": [
    "## Input"
   ]
  },
  {
   "cell_type": "code",
   "execution_count": 9,
   "metadata": {},
   "outputs": [
    {
     "name": "stdout",
     "output_type": "stream",
     "text": [
      "What is your favorite color? green\n",
      "green\n"
     ]
    }
   ],
   "source": [
    "color = input(\"What is your favorite color? \")\n",
    "print(color)"
   ]
  },
  {
   "cell_type": "markdown",
   "metadata": {},
   "source": [
    "# Files and File Writing"
   ]
  },
  {
   "cell_type": "markdown",
   "metadata": {},
   "source": [
    "## Open a file"
   ]
  },
  {
   "cell_type": "code",
   "execution_count": 10,
   "metadata": {},
   "outputs": [],
   "source": [
    "myFile = open(\"scores.txt\", \"w\")"
   ]
  },
  {
   "cell_type": "markdown",
   "metadata": {},
   "source": [
    "`w` write <br>\n",
    "`r` read <br>\n",
    "`r+` read and write <br>\n",
    "`a` append <br>\n",
    "Show attributes and properties of that file"
   ]
  },
  {
   "cell_type": "code",
   "execution_count": 11,
   "metadata": {},
   "outputs": [
    {
     "name": "stdout",
     "output_type": "stream",
     "text": [
      "Name scores.txt\n",
      "Mode w\n"
     ]
    }
   ],
   "source": [
    "print(\"Name \" + myFile.name)\n",
    "print(\"Mode \" + myFile.mode)"
   ]
  },
  {
   "cell_type": "markdown",
   "metadata": {},
   "source": [
    "## Write to a file"
   ]
  },
  {
   "cell_type": "code",
   "execution_count": 12,
   "metadata": {},
   "outputs": [],
   "source": [
    "myFile.write(\"GBJ : 100\\nKHD : 99\\nBBB : 89\")\n",
    "myFile.close()"
   ]
  },
  {
   "cell_type": "markdown",
   "metadata": {},
   "source": [
    "## Read the file"
   ]
  },
  {
   "cell_type": "code",
   "execution_count": 13,
   "metadata": {},
   "outputs": [
    {
     "name": "stdout",
     "output_type": "stream",
     "text": [
      "Reading: GBJ : 100\n",
      "\n"
     ]
    }
   ],
   "source": [
    "myFile = open(\"scores.txt\", \"r\")\n",
    "print(\"Reading: \" + myFile.read(10)) # read(10) is about reading the first 10 characters"
   ]
  },
  {
   "cell_type": "code",
   "execution_count": 14,
   "metadata": {},
   "outputs": [
    {
     "name": "stdout",
     "output_type": "stream",
     "text": [
      "Reading again: KHD : 99\n",
      "B\n"
     ]
    }
   ],
   "source": [
    "print(\"Reading again: \" + myFile.read(10)) # starts to read from charater 11"
   ]
  },
  {
   "cell_type": "markdown",
   "metadata": {},
   "source": [
    "## Iterative Files"
   ]
  },
  {
   "cell_type": "code",
   "execution_count": 15,
   "metadata": {},
   "outputs": [],
   "source": [
    "myFile = open(\"scores.txt\", \"r\")"
   ]
  },
  {
   "cell_type": "markdown",
   "metadata": {},
   "source": [
    "## Read one line at a time"
   ]
  },
  {
   "cell_type": "code",
   "execution_count": 16,
   "metadata": {},
   "outputs": [
    {
     "name": "stdout",
     "output_type": "stream",
     "text": [
      "My one line: GBJ : 100\n",
      "\n"
     ]
    },
    {
     "data": {
      "text/plain": [
       "0"
      ]
     },
     "execution_count": 16,
     "metadata": {},
     "output_type": "execute_result"
    }
   ],
   "source": [
    "print(\"My one line: \" + myFile.readline())\n",
    "myFile.seek(0)"
   ]
  },
  {
   "cell_type": "code",
   "execution_count": 17,
   "metadata": {},
   "outputs": [
    {
     "name": "stdout",
     "output_type": "stream",
     "text": [
      "Reading again: GBJ : 100\n",
      "\n"
     ]
    }
   ],
   "source": [
    "print(\"Reading again: \" + myFile.read(10))"
   ]
  },
  {
   "cell_type": "markdown",
   "metadata": {},
   "source": [
    "## Iterate through each line of a file"
   ]
  },
  {
   "cell_type": "code",
   "execution_count": 18,
   "metadata": {},
   "outputs": [
    {
     "name": "stdout",
     "output_type": "stream",
     "text": [
      "KHD : 99\n",
      "\n",
      "PDJ : 89\n"
     ]
    }
   ],
   "source": [
    "# replacing BBB with PDJ\n",
    "for line in myFile:\n",
    "    newHighScorer = line.replace(\"BBB\", \"PDJ\")\n",
    "    print(newHighScorer)\n",
    "\n",
    "myFile.close()"
   ]
  },
  {
   "cell_type": "markdown",
   "metadata": {},
   "source": [
    "# Tempfile Module"
   ]
  },
  {
   "cell_type": "code",
   "execution_count": 19,
   "metadata": {},
   "outputs": [],
   "source": [
    "import tempfile"
   ]
  },
  {
   "cell_type": "markdown",
   "metadata": {},
   "source": [
    "## Create a temporary file"
   ]
  },
  {
   "cell_type": "code",
   "execution_count": 20,
   "metadata": {},
   "outputs": [],
   "source": [
    "tempFile = tempfile.TemporaryFile()"
   ]
  },
  {
   "cell_type": "markdown",
   "metadata": {},
   "source": [
    "## Write to a temporary file"
   ]
  },
  {
   "cell_type": "code",
   "execution_count": 21,
   "metadata": {},
   "outputs": [
    {
     "data": {
      "text/plain": [
       "0"
      ]
     },
     "execution_count": 21,
     "metadata": {},
     "output_type": "execute_result"
    }
   ],
   "source": [
    "tempFile.write(b\"Save this special number for me: 5678309\") # 'b' to turn string into byte object\n",
    "tempFile.seek(0)"
   ]
  },
  {
   "cell_type": "markdown",
   "metadata": {},
   "source": [
    "## Read the temporary file"
   ]
  },
  {
   "cell_type": "code",
   "execution_count": 22,
   "metadata": {},
   "outputs": [
    {
     "name": "stdout",
     "output_type": "stream",
     "text": [
      "b'Save this special number for me: 5678309'\n"
     ]
    }
   ],
   "source": [
    "print(tempFile.read())"
   ]
  },
  {
   "cell_type": "markdown",
   "metadata": {},
   "source": [
    "## Close the temporary file"
   ]
  },
  {
   "cell_type": "code",
   "execution_count": 23,
   "metadata": {},
   "outputs": [],
   "source": [
    "tempFile.close()"
   ]
  },
  {
   "cell_type": "markdown",
   "metadata": {},
   "source": [
    "# Zipfile Module"
   ]
  },
  {
   "cell_type": "code",
   "execution_count": 24,
   "metadata": {},
   "outputs": [],
   "source": [
    "import zipfile"
   ]
  },
  {
   "cell_type": "markdown",
   "metadata": {},
   "source": [
    "## Open and List"
   ]
  },
  {
   "cell_type": "code",
   "execution_count": 25,
   "metadata": {},
   "outputs": [
    {
     "name": "stdout",
     "output_type": "stream",
     "text": [
      "['purchased.txt', 'wishlist.txt']\n"
     ]
    }
   ],
   "source": [
    "zip = zipfile.ZipFile('Archive.zip', 'r')\n",
    "print(zip.namelist())"
   ]
  },
  {
   "cell_type": "markdown",
   "metadata": {},
   "source": [
    "## Metadata in the zip folder"
   ]
  },
  {
   "cell_type": "code",
   "execution_count": 26,
   "metadata": {},
   "outputs": [
    {
     "name": "stdout",
     "output_type": "stream",
     "text": [
      "<ZipInfo filename='purchased.txt' compress_type=deflate filemode='-rw-r--r--' external_attr=0x4000 file_size=19 compress_size=21>\n",
      "<ZipInfo filename='wishlist.txt' compress_type=deflate filemode='-rw-r--r--' external_attr=0x4000 file_size=6 compress_size=8>\n"
     ]
    }
   ],
   "source": [
    "for meta in zip.infolist():\n",
    "    print(meta)"
   ]
  },
  {
   "cell_type": "code",
   "execution_count": 27,
   "metadata": {},
   "outputs": [
    {
     "name": "stdout",
     "output_type": "stream",
     "text": [
      "<ZipInfo filename='purchased.txt' compress_type=deflate filemode='-rw-r--r--' external_attr=0x4000 file_size=19 compress_size=21>\n"
     ]
    }
   ],
   "source": [
    "info = zip.getinfo(\"purchased.txt\")\n",
    "print(info)"
   ]
  },
  {
   "cell_type": "markdown",
   "metadata": {},
   "source": [
    "## Access to files in zip folder"
   ]
  },
  {
   "cell_type": "code",
   "execution_count": 28,
   "metadata": {},
   "outputs": [
    {
     "name": "stdout",
     "output_type": "stream",
     "text": [
      "b'iPhone'\n",
      "b'iPhone'\n"
     ]
    }
   ],
   "source": [
    "print(zip.read(\"wishlist.txt\"))\n",
    "with zip.open('wishlist.txt') as f:\n",
    "    print(f.read())"
   ]
  },
  {
   "cell_type": "markdown",
   "metadata": {},
   "source": [
    "## Extracting files"
   ]
  },
  {
   "cell_type": "code",
   "execution_count": 29,
   "metadata": {},
   "outputs": [],
   "source": [
    "# zip.extract(\"purchased.txt\")"
   ]
  },
  {
   "cell_type": "code",
   "execution_count": 30,
   "metadata": {},
   "outputs": [],
   "source": [
    "zip.extractall()"
   ]
  },
  {
   "cell_type": "markdown",
   "metadata": {},
   "source": [
    "## Closing the zip"
   ]
  },
  {
   "cell_type": "code",
   "execution_count": 31,
   "metadata": {},
   "outputs": [],
   "source": [
    "zip.close()"
   ]
  },
  {
   "cell_type": "code",
   "execution_count": null,
   "metadata": {},
   "outputs": [],
   "source": []
  }
 ],
 "metadata": {
  "kernelspec": {
   "display_name": "Python 3",
   "language": "python",
   "name": "python3"
  },
  "language_info": {
   "codemirror_mode": {
    "name": "ipython",
    "version": 3
   },
   "file_extension": ".py",
   "mimetype": "text/x-python",
   "name": "python",
   "nbconvert_exporter": "python",
   "pygments_lexer": "ipython3",
   "version": "3.7.1"
  }
 },
 "nbformat": 4,
 "nbformat_minor": 2
}
