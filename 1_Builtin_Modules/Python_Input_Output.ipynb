{
 "cells": [
  {
   "cell_type": "markdown",
   "metadata": {},
   "source": [
    "# Command Line Arguments"
   ]
  },
  {
   "cell_type": "code",
   "execution_count": 2,
   "metadata": {},
   "outputs": [],
   "source": [
    "import sys"
   ]
  },
  {
   "cell_type": "markdown",
   "metadata": {},
   "source": [
    "## Print Arguments"
   ]
  },
  {
   "cell_type": "markdown",
   "metadata": {},
   "source": [
    "\n",
    "`sys.argv`: The list of command line arguments passed to a Python script. `argv[0]` is the script name (it is operating system dependent whether this is a full pathname or not). If the command was executed using the -c command line option to the interpreter, `argv[0]` is set to the string '-c'. If no script name was passed to the Python interpreter, `argv[0]` is the empty string.\n",
    "\n",
    "    To loop over the standard input, or the list of files given on the command line, see the fileinput module.\n"
   ]
  },
  {
   "cell_type": "markdown",
   "metadata": {},
   "source": [
    "### Dynamic objects:\n",
    "\n",
    "`argv` -- command line arguments; `argv[0]` is the script pathname if known <br>\n",
    "`path` -- module search path; `path[0]` is the script directory, else `''`<br>\n",
    "`modules` -- dictionary of loaded modules <br>\n",
    "\n",
    "### Functions:\n",
    "\n",
    "`displayhook()` -- print an object to the screen, and save it in builtins._ <br>\n",
    "`excepthook()` -- print an exception and its traceback to sys.stderr <br>\n",
    "`exc_info()` -- return thread-safe information about the current exception <br>\n",
    "`exit()` -- exit the interpreter by raising SystemExit <br>\n",
    "`getdlopenflags()` -- returns flags to be used for dlopen() calls <br>\n",
    "`getprofile()` -- get the global profiling function <br>\n",
    "`getrefcount()` -- return the reference count for an object (plus one :-) <br>\n",
    "`getrecursionlimit()` -- return the max recursion depth for the interpreter <br>\n",
    "`getsizeof()` -- return the size of an object in bytes <br>\n",
    "`gettrace()` -- get the global debug tracing function <br>\n",
    "`setcheckinterval()` -- control how often the interpreter checks for events <br>\n",
    "`setdlopenflags()` -- set the flags to be used for dlopen() calls <br>\n",
    "`setprofile()` -- set the global profiling function <br>\n",
    "`setrecursionlimit()` -- set the max recursion depth for the interpreter <br>\n",
    "`settrace()` -- set the global debug tracing function <br>\n"
   ]
  },
  {
   "cell_type": "code",
   "execution_count": 3,
   "metadata": {},
   "outputs": [
    {
     "name": "stdout",
     "output_type": "stream",
     "text": [
      "Number of Modules:  748\n"
     ]
    }
   ],
   "source": [
    "print(\"Number of Modules: \", len(sys.modules))\n",
    "#print(\"Modules: \", sys.modules) #prints a long list of sys modules"
   ]
  },
  {
   "cell_type": "code",
   "execution_count": 3,
   "metadata": {},
   "outputs": [
    {
     "name": "stdout",
     "output_type": "stream",
     "text": [
      "Number of Paths:  8\n",
      "Paths:  ['', '/home/manohar/Documents/dev - Python/Py_Pro/1_Builtin_Modules', '/home/manohar/anaconda3/lib/python37.zip', '/home/manohar/anaconda3/lib/python3.7', '/home/manohar/anaconda3/lib/python3.7/lib-dynload', '/home/manohar/anaconda3/lib/python3.7/site-packages', '/home/manohar/anaconda3/lib/python3.7/site-packages/IPython/extensions', '/home/manohar/.ipython']\n"
     ]
    }
   ],
   "source": [
    "print(\"Number of Paths: \", len(sys.path))\n",
    "print(\"Paths: \", sys.path)"
   ]
  },
  {
   "cell_type": "code",
   "execution_count": 4,
   "metadata": {
    "scrolled": true
   },
   "outputs": [
    {
     "name": "stdout",
     "output_type": "stream",
     "text": [
      "Number of Arguments:  3\n",
      "Arguments:  ['/home/manohar/anaconda3/lib/python3.7/site-packages/ipykernel_launcher.py', '-f', '/run/user/1000/jupyter/kernel-a0cf8526-3793-4d57-b655-be34c3e37113.json']\n"
     ]
    }
   ],
   "source": [
    "print(\"Number of Arguments: \", len(sys.argv))\n",
    "print(\"Arguments: \", sys.argv)"
   ]
  },
  {
   "cell_type": "code",
   "execution_count": 5,
   "metadata": {},
   "outputs": [
    {
     "name": "stdout",
     "output_type": "stream",
     "text": [
      "Name argument:  /home/manohar/anaconda3/lib/python3.7/site-packages/ipykernel_launcher.py\n"
     ]
    }
   ],
   "source": [
    "print(\"Name argument: \", sys.argv[0])"
   ]
  },
  {
   "cell_type": "markdown",
   "metadata": {},
   "source": [
    "## Windows Directory String Guide"
   ]
  },
  {
   "cell_type": "code",
   "execution_count": 1,
   "metadata": {},
   "outputs": [
    {
     "name": "stdout",
     "output_type": "stream",
     "text": [
      "c:\\path\to\n",
      "owhere.csv\n"
     ]
    }
   ],
   "source": [
    "print('c:\\path\\to\\nowhere.csv')"
   ]
  },
  {
   "cell_type": "code",
   "execution_count": 2,
   "metadata": {},
   "outputs": [
    {
     "name": "stdout",
     "output_type": "stream",
     "text": [
      "c:\\path\\to\\nowhere.csv\n"
     ]
    }
   ],
   "source": [
    "print(r'c:\\path\\to\\nowhere.csv')"
   ]
  },
  {
   "cell_type": "markdown",
   "metadata": {},
   "source": [
    "## Remove Arguments"
   ]
  },
  {
   "cell_type": "code",
   "execution_count": 6,
   "metadata": {},
   "outputs": [
    {
     "name": "stdout",
     "output_type": "stream",
     "text": [
      "Arguments:  ['/home/manohar/anaconda3/lib/python3.7/site-packages/ipykernel_launcher.py', '-f', '/run/user/1000/jupyter/kernel-a0cf8526-3793-4d57-b655-be34c3e37113.json']\n"
     ]
    }
   ],
   "source": [
    "#sys.argv.remove(sys.argv[0]) #comment out for right count below\n",
    "print(\"Arguments: \", sys.argv)"
   ]
  },
  {
   "cell_type": "code",
   "execution_count": 7,
   "metadata": {},
   "outputs": [
    {
     "name": "stdout",
     "output_type": "stream",
     "text": [
      "Number of arguments:  3  arguments.\n"
     ]
    }
   ],
   "source": [
    "print(\"Number of arguments: \", len(sys.argv), ' arguments.')"
   ]
  },
  {
   "cell_type": "markdown",
   "metadata": {},
   "source": [
    "## Output"
   ]
  },
  {
   "cell_type": "code",
   "execution_count": 8,
   "metadata": {},
   "outputs": [
    {
     "name": "stdout",
     "output_type": "stream",
     "text": [
      "Hello.\n"
     ]
    }
   ],
   "source": [
    "print(\"Hello.\")"
   ]
  },
  {
   "cell_type": "markdown",
   "metadata": {},
   "source": [
    "## Input"
   ]
  },
  {
   "cell_type": "code",
   "execution_count": 9,
   "metadata": {},
   "outputs": [
    {
     "name": "stdout",
     "output_type": "stream",
     "text": [
      "What is your favorite color? green\n",
      "green\n"
     ]
    }
   ],
   "source": [
    "color = input(\"What is your favorite color? \")\n",
    "print(color)"
   ]
  },
  {
   "cell_type": "markdown",
   "metadata": {},
   "source": [
    "# Files and File Writing"
   ]
  },
  {
   "cell_type": "markdown",
   "metadata": {},
   "source": [
    "## Open a file"
   ]
  },
  {
   "cell_type": "code",
   "execution_count": 10,
   "metadata": {},
   "outputs": [],
   "source": [
    "myFile = open(\"scores.txt\", \"w\")"
   ]
  },
  {
   "cell_type": "markdown",
   "metadata": {},
   "source": [
    "`w` write <br>\n",
    "`r` read <br>\n",
    "`r+` read and write <br>\n",
    "`a` append <br>\n",
    "Show attributes and properties of that file"
   ]
  },
  {
   "cell_type": "code",
   "execution_count": 11,
   "metadata": {},
   "outputs": [
    {
     "name": "stdout",
     "output_type": "stream",
     "text": [
      "Name scores.txt\n",
      "Mode w\n"
     ]
    }
   ],
   "source": [
    "print(\"Name \" + myFile.name)\n",
    "print(\"Mode \" + myFile.mode)"
   ]
  },
  {
   "cell_type": "markdown",
   "metadata": {},
   "source": [
    "## Write to a file"
   ]
  },
  {
   "cell_type": "code",
   "execution_count": 12,
   "metadata": {},
   "outputs": [],
   "source": [
    "myFile.write(\"GBJ : 100\\nKHD : 99\\nBBB : 89\")\n",
    "myFile.close()"
   ]
  },
  {
   "cell_type": "markdown",
   "metadata": {},
   "source": [
    "## Read the file"
   ]
  },
  {
   "cell_type": "code",
   "execution_count": 13,
   "metadata": {},
   "outputs": [
    {
     "name": "stdout",
     "output_type": "stream",
     "text": [
      "Reading: GBJ : 100\n",
      "\n"
     ]
    }
   ],
   "source": [
    "myFile = open(\"scores.txt\", \"r\")\n",
    "print(\"Reading: \" + myFile.read(10)) # read(10) is about reading the first 10 characters"
   ]
  },
  {
   "cell_type": "code",
   "execution_count": 14,
   "metadata": {},
   "outputs": [
    {
     "name": "stdout",
     "output_type": "stream",
     "text": [
      "Reading again: KHD : 99\n",
      "B\n"
     ]
    }
   ],
   "source": [
    "print(\"Reading again: \" + myFile.read(10)) # starts to read from charater 11"
   ]
  },
  {
   "cell_type": "markdown",
   "metadata": {},
   "source": [
    "## Iterative Files"
   ]
  },
  {
   "cell_type": "code",
   "execution_count": 15,
   "metadata": {},
   "outputs": [],
   "source": [
    "myFile = open(\"scores.txt\", \"r\")"
   ]
  },
  {
   "cell_type": "markdown",
   "metadata": {},
   "source": [
    "## Read one line at a time"
   ]
  },
  {
   "cell_type": "code",
   "execution_count": 16,
   "metadata": {},
   "outputs": [
    {
     "name": "stdout",
     "output_type": "stream",
     "text": [
      "My one line: GBJ : 100\n",
      "\n"
     ]
    },
    {
     "data": {
      "text/plain": [
       "0"
      ]
     },
     "execution_count": 16,
     "metadata": {},
     "output_type": "execute_result"
    }
   ],
   "source": [
    "print(\"My one line: \" + myFile.readline())\n",
    "myFile.seek(0)"
   ]
  },
  {
   "cell_type": "code",
   "execution_count": 17,
   "metadata": {},
   "outputs": [
    {
     "name": "stdout",
     "output_type": "stream",
     "text": [
      "Reading again: GBJ : 100\n",
      "\n"
     ]
    }
   ],
   "source": [
    "print(\"Reading again: \" + myFile.read(10))"
   ]
  },
  {
   "cell_type": "markdown",
   "metadata": {},
   "source": [
    "## Iterate through each line of a file"
   ]
  },
  {
   "cell_type": "code",
   "execution_count": 18,
   "metadata": {},
   "outputs": [
    {
     "name": "stdout",
     "output_type": "stream",
     "text": [
      "KHD : 99\n",
      "\n",
      "PDJ : 89\n"
     ]
    }
   ],
   "source": [
    "# replacing BBB with PDJ\n",
    "for line in myFile:\n",
    "    newHighScorer = line.replace(\"BBB\", \"PDJ\")\n",
    "    print(newHighScorer)\n",
    "\n",
    "myFile.close()"
   ]
  },
  {
   "cell_type": "markdown",
   "metadata": {},
   "source": [
    "# Tempfile Module"
   ]
  },
  {
   "cell_type": "code",
   "execution_count": 19,
   "metadata": {},
   "outputs": [],
   "source": [
    "import tempfile"
   ]
  },
  {
   "cell_type": "markdown",
   "metadata": {},
   "source": [
    "## Create a temporary file"
   ]
  },
  {
   "cell_type": "code",
   "execution_count": 20,
   "metadata": {},
   "outputs": [],
   "source": [
    "tempFile = tempfile.TemporaryFile()"
   ]
  },
  {
   "cell_type": "markdown",
   "metadata": {},
   "source": [
    "## Write to a temporary file"
   ]
  },
  {
   "cell_type": "code",
   "execution_count": 21,
   "metadata": {},
   "outputs": [
    {
     "data": {
      "text/plain": [
       "0"
      ]
     },
     "execution_count": 21,
     "metadata": {},
     "output_type": "execute_result"
    }
   ],
   "source": [
    "tempFile.write(b\"Save this special number for me: 5678309\") # 'b' to turn string into byte object\n",
    "tempFile.seek(0)"
   ]
  },
  {
   "cell_type": "markdown",
   "metadata": {},
   "source": [
    "## Read the temporary file"
   ]
  },
  {
   "cell_type": "code",
   "execution_count": 22,
   "metadata": {},
   "outputs": [
    {
     "name": "stdout",
     "output_type": "stream",
     "text": [
      "b'Save this special number for me: 5678309'\n"
     ]
    }
   ],
   "source": [
    "print(tempFile.read())"
   ]
  },
  {
   "cell_type": "markdown",
   "metadata": {},
   "source": [
    "## Close the temporary file"
   ]
  },
  {
   "cell_type": "code",
   "execution_count": 23,
   "metadata": {},
   "outputs": [],
   "source": [
    "tempFile.close()"
   ]
  },
  {
   "cell_type": "markdown",
   "metadata": {},
   "source": [
    "# Zipfile Module"
   ]
  },
  {
   "cell_type": "code",
   "execution_count": 24,
   "metadata": {},
   "outputs": [],
   "source": [
    "import zipfile"
   ]
  },
  {
   "cell_type": "markdown",
   "metadata": {},
   "source": [
    "## Open and List"
   ]
  },
  {
   "cell_type": "code",
   "execution_count": 25,
   "metadata": {},
   "outputs": [
    {
     "name": "stdout",
     "output_type": "stream",
     "text": [
      "['purchased.txt', 'wishlist.txt']\n"
     ]
    }
   ],
   "source": [
    "zip = zipfile.ZipFile('Archive.zip', 'r')\n",
    "print(zip.namelist())"
   ]
  },
  {
   "cell_type": "markdown",
   "metadata": {},
   "source": [
    "## Metadata in the zip folder"
   ]
  },
  {
   "cell_type": "code",
   "execution_count": 26,
   "metadata": {},
   "outputs": [
    {
     "name": "stdout",
     "output_type": "stream",
     "text": [
      "<ZipInfo filename='purchased.txt' compress_type=deflate filemode='-rw-r--r--' external_attr=0x4000 file_size=19 compress_size=21>\n",
      "<ZipInfo filename='wishlist.txt' compress_type=deflate filemode='-rw-r--r--' external_attr=0x4000 file_size=6 compress_size=8>\n"
     ]
    }
   ],
   "source": [
    "for meta in zip.infolist():\n",
    "    print(meta)"
   ]
  },
  {
   "cell_type": "code",
   "execution_count": 27,
   "metadata": {},
   "outputs": [
    {
     "name": "stdout",
     "output_type": "stream",
     "text": [
      "<ZipInfo filename='purchased.txt' compress_type=deflate filemode='-rw-r--r--' external_attr=0x4000 file_size=19 compress_size=21>\n"
     ]
    }
   ],
   "source": [
    "info = zip.getinfo(\"purchased.txt\")\n",
    "print(info)"
   ]
  },
  {
   "cell_type": "markdown",
   "metadata": {},
   "source": [
    "## Access to files in zip folder"
   ]
  },
  {
   "cell_type": "code",
   "execution_count": 28,
   "metadata": {},
   "outputs": [
    {
     "name": "stdout",
     "output_type": "stream",
     "text": [
      "b'iPhone'\n",
      "b'iPhone'\n"
     ]
    }
   ],
   "source": [
    "print(zip.read(\"wishlist.txt\"))\n",
    "with zip.open('wishlist.txt') as f:\n",
    "    print(f.read())"
   ]
  },
  {
   "cell_type": "markdown",
   "metadata": {},
   "source": [
    "## Extracting files"
   ]
  },
  {
   "cell_type": "code",
   "execution_count": 29,
   "metadata": {},
   "outputs": [],
   "source": [
    "# zip.extract(\"purchased.txt\")"
   ]
  },
  {
   "cell_type": "code",
   "execution_count": 30,
   "metadata": {},
   "outputs": [],
   "source": [
    "zip.extractall()"
   ]
  },
  {
   "cell_type": "markdown",
   "metadata": {},
   "source": [
    "## Closing the zip"
   ]
  },
  {
   "cell_type": "code",
   "execution_count": 31,
   "metadata": {},
   "outputs": [],
   "source": [
    "zip.close()"
   ]
  },
  {
   "cell_type": "code",
   "execution_count": null,
   "metadata": {},
   "outputs": [],
   "source": []
  }
 ],
 "metadata": {
  "kernelspec": {
   "display_name": "Python 3",
   "language": "python",
   "name": "python3"
  },
  "language_info": {
   "codemirror_mode": {
    "name": "ipython",
    "version": 3
   },
   "file_extension": ".py",
   "mimetype": "text/x-python",
   "name": "python",
   "nbconvert_exporter": "python",
   "pygments_lexer": "ipython3",
   "version": "3.6.8"
  }
 },
 "nbformat": 4,
 "nbformat_minor": 2
}
