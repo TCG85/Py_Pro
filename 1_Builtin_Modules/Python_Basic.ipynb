{
 "cells": [
  {
   "cell_type": "markdown",
   "metadata": {},
   "source": [
    "# Python Logical Operators: And, Or, Not"
   ]
  },
  {
   "cell_type": "markdown",
   "metadata": {},
   "source": [
    "## Boolean\n",
    "The `bool()` function returns the boolean value of a specified object.<br>\n",
    "\n",
    "The object will always return <font color=green>**True**</font>, unless:<br>\n",
    "\n",
    "The object is empty, like [], (), {}<br>\n",
    "The object is <font color=red>False</font><br>\n",
    "The object is 0<br>\n",
    "The object is <font color=blue>None</font>"
   ]
  },
  {
   "cell_type": "code",
   "execution_count": 1,
   "metadata": {},
   "outputs": [],
   "source": [
    "isRaining = False\n",
    "isSunny = True"
   ]
  },
  {
   "cell_type": "markdown",
   "metadata": {},
   "source": [
    "## Logical Operators -> Special Operators for Booleans"
   ]
  },
  {
   "cell_type": "code",
   "execution_count": 37,
   "metadata": {},
   "outputs": [
    {
     "data": {
      "text/html": [
       "<style>\n",
       "table {float:left}\n",
       "</style>\n"
      ],
      "text/plain": [
       "<IPython.core.display.HTML object>"
      ]
     },
     "metadata": {},
     "output_type": "display_data"
    }
   ],
   "source": [
    "# styling to allign tables to the left\n",
    "%%html\n",
    "<style>\n",
    "table {float:left}\n",
    "</style>"
   ]
  },
  {
   "cell_type": "markdown",
   "metadata": {},
   "source": [
    "### AND\n",
    "\n",
    "|1st|2nd|AND|\n",
    "|---|---|---|\n",
    "|<font color=green>True</font>|<font color=green>True</font>|<font color=green>**True**</font>|\n",
    "|<font color=red>False</font>|<font color=green>True</font>|<font color=red>**False**</font>|\n",
    "|<font color=green>True</font>|<font color=red>False</font>|<font color=red>**False**</font>|\n",
    "|<font color=red>False</font>|<font color=red>False</font>|<font color=red>**False**</font>|\n",
    "\n"
   ]
  },
  {
   "cell_type": "code",
   "execution_count": 2,
   "metadata": {},
   "outputs": [
    {
     "name": "stdout",
     "output_type": "stream",
     "text": [
      "\"and\" results false\n"
     ]
    }
   ],
   "source": [
    "if isRaining and isSunny:\n",
    "    print(\"We might see a rainbow\")\n",
    "else:\n",
    "    print('\"and\" results false')"
   ]
  },
  {
   "cell_type": "markdown",
   "metadata": {},
   "source": [
    "### OR\n",
    "\n",
    "|1st|2nd|OR|\n",
    "|---|---|---|\n",
    "|<font color=green>True</font>|<font color=green>True</font>|<font color=green>**True**</font>|\n",
    "|<font color=red>False</font>|<font color=green>True</font>|<font color=green>**True**</font>|\n",
    "|<font color=green>True</font>|<font color=red>False</font>|<font color=green>**True**</font>|\n",
    "|<font color=red>False</font>|<font color=red>False</font>|<font color=red>**False**</font>|"
   ]
  },
  {
   "cell_type": "code",
   "execution_count": 3,
   "metadata": {},
   "outputs": [
    {
     "name": "stdout",
     "output_type": "stream",
     "text": [
      "It might be rainy or it might be sunny\n"
     ]
    }
   ],
   "source": [
    "if isRaining or isSunny:\n",
    "    print(\"It might be rainy or it might be sunny\")\n",
    "else:\n",
    "    print('\"or\" results false')"
   ]
  },
  {
   "cell_type": "markdown",
   "metadata": {},
   "source": [
    "### NOT\n",
    "\n",
    "|1st|NOT|\n",
    "|---|---|\n",
    "|<font color=green>True</font>|<font color=red>**False**</font>|\n",
    "|<font color=red>False</font>|<font color=green>**True**</font>|"
   ]
  },
  {
   "cell_type": "code",
   "execution_count": 4,
   "metadata": {},
   "outputs": [
    {
     "name": "stdout",
     "output_type": "stream",
     "text": [
      "It must be raining\n"
     ]
    }
   ],
   "source": [
    "if not isRaining:\n",
    "    print(\"It must be raining\")"
   ]
  },
  {
   "cell_type": "code",
   "execution_count": 5,
   "metadata": {},
   "outputs": [
    {
     "name": "stdout",
     "output_type": "stream",
     "text": [
      "Being 12 does not make you an adult.\n",
      "Being 7 does not make you an adult.\n",
      "Being 2 does not make you an adult.\n"
     ]
    }
   ],
   "source": [
    "ages = [12, 18, 39, 87, 7, 2]\n",
    "for age in ages:\n",
    "    isAdult = age >= 18;\n",
    "    if not isAdult:\n",
    "        print(\"Being \" + str(age) + \" does not make you an adult.\")"
   ]
  },
  {
   "cell_type": "markdown",
   "metadata": {},
   "source": [
    "# Python Comparison Operators"
   ]
  },
  {
   "cell_type": "markdown",
   "metadata": {},
   "source": [
    "`==` is equal to <br><br>\n",
    "`<=` is less than or equal to<br><br>\n",
    "`>=` is greater than or equal to<br><br>\n",
    "`<` is less than<br><br>\n",
    "`>` is greater than"
   ]
  },
  {
   "cell_type": "code",
   "execution_count": 36,
   "metadata": {},
   "outputs": [
    {
     "name": "stdout",
     "output_type": "stream",
     "text": [
      "True\n",
      "False\n",
      "The bigger number is bigger\n"
     ]
    }
   ],
   "source": [
    "# less then example\n",
    "print(10 < 75)\n",
    "print(75 < 10)\n",
    "\n",
    "if 10 < 75:\n",
    "    print(\"The bigger number is bigger\")"
   ]
  },
  {
   "cell_type": "code",
   "execution_count": 7,
   "metadata": {},
   "outputs": [
    {
     "name": "stdout",
     "output_type": "stream",
     "text": [
      "The kitten weighs less than the tiger\n"
     ]
    }
   ],
   "source": [
    "# single equal to save to variable\n",
    "kitten = 10\n",
    "tiger = 75\n",
    "\n",
    "if kitten < tiger:\n",
    "    print(\"The kitten weighs less than the tiger\")"
   ]
  },
  {
   "cell_type": "code",
   "execution_count": 8,
   "metadata": {},
   "outputs": [
    {
     "name": "stdout",
     "output_type": "stream",
     "text": [
      "The mouse weighs the least\n"
     ]
    }
   ],
   "source": [
    "# less then staced example\n",
    "mouse = 1\n",
    "if mouse < kitten and mouse < tiger:\n",
    "    print(\"The mouse weighs the least\")"
   ]
  },
  {
   "cell_type": "markdown",
   "metadata": {},
   "source": [
    "### Values of `True` and `False` In Python:\n",
    "\n",
    "`False` is considered to be 0 <br><br>\n",
    "`True`is considered to be 1"
   ]
  },
  {
   "cell_type": "code",
   "execution_count": 9,
   "metadata": {},
   "outputs": [
    {
     "name": "stdout",
     "output_type": "stream",
     "text": [
      "False\n"
     ]
    }
   ],
   "source": [
    "# lets test it\n",
    "print(False > True)"
   ]
  },
  {
   "cell_type": "markdown",
   "metadata": {},
   "source": [
    "### Comparison in strings\n",
    "Looking for first mismatched letter <br>\n",
    "`A - Z` is 1 - 26 <br><br>\n",
    "`>` is \"greater than\" <br><br>\n",
    "In this example Jenn`i`fer comes before Jenn`y` and so it is considered smaller (works like folder sort by name)"
   ]
  },
  {
   "cell_type": "code",
   "execution_count": 10,
   "metadata": {},
   "outputs": [
    {
     "name": "stdout",
     "output_type": "stream",
     "text": [
      "False\n"
     ]
    }
   ],
   "source": [
    "print(\"Jennifer\" > \"Jenny\")"
   ]
  },
  {
   "cell_type": "code",
   "execution_count": 46,
   "metadata": {
    "scrolled": true
   },
   "outputs": [
    {
     "name": "stdout",
     "output_type": "stream",
     "text": [
      "True\n"
     ]
    }
   ],
   "source": [
    "print('a' < 'b')"
   ]
  },
  {
   "cell_type": "code",
   "execution_count": 47,
   "metadata": {},
   "outputs": [
    {
     "name": "stdout",
     "output_type": "stream",
     "text": [
      "True\n"
     ]
    }
   ],
   "source": [
    "print('C' < 'D')"
   ]
  },
  {
   "cell_type": "markdown",
   "metadata": {},
   "source": [
    "# Calculating Length"
   ]
  },
  {
   "cell_type": "markdown",
   "metadata": {},
   "source": [
    "## len() --> returns length"
   ]
  },
  {
   "cell_type": "code",
   "execution_count": 12,
   "metadata": {},
   "outputs": [
    {
     "name": "stdout",
     "output_type": "stream",
     "text": [
      "6\n",
      "5\n"
     ]
    },
    {
     "data": {
      "text/plain": [
       "6"
      ]
     },
     "execution_count": 12,
     "metadata": {},
     "output_type": "execute_result"
    }
   ],
   "source": [
    "firstName = \"Taylor\"\n",
    "print(len(firstName))\n",
    "lastName = \"Swift\"\n",
    "print(len(lastName))\n",
    "\n",
    "# length built-in fuction\n",
    "firstName.__len__()"
   ]
  },
  {
   "cell_type": "markdown",
   "metadata": {},
   "source": [
    "## Length of List"
   ]
  },
  {
   "cell_type": "code",
   "execution_count": 13,
   "metadata": {},
   "outputs": [
    {
     "name": "stdout",
     "output_type": "stream",
     "text": [
      "5\n",
      "0\n",
      "11\n",
      "43\n",
      "12\n",
      "10\n"
     ]
    }
   ],
   "source": [
    "ages = [0, 11, 43, 12, 10]\n",
    "print(len(ages))\n",
    "\n",
    "# len() is sueful to iterate though a complete list\n",
    "i = 0\n",
    "for i in range(0, len(ages)):\n",
    "    print(ages[i])"
   ]
  },
  {
   "cell_type": "markdown",
   "metadata": {},
   "source": [
    "## Length of Dictionary"
   ]
  },
  {
   "cell_type": "code",
   "execution_count": 14,
   "metadata": {},
   "outputs": [
    {
     "name": "stdout",
     "output_type": "stream",
     "text": [
      "3\n",
      "3\n"
     ]
    }
   ],
   "source": [
    "print(len([\"bob\", \"mary\", \"sam\"]))\n",
    "\n",
    "candyCollection = {\"bob\" : 10, \"mary\" : 7, \"sam\" : 18}\n",
    "print(len(candyCollection))"
   ]
  },
  {
   "cell_type": "markdown",
   "metadata": {},
   "source": [
    "# Range: range instance that holds all nums counting by one between 0 and first input"
   ]
  },
  {
   "cell_type": "markdown",
   "metadata": {},
   "source": [
    "## list(): lists integers from the inputted tuple"
   ]
  },
  {
   "cell_type": "code",
   "execution_count": 3,
   "metadata": {
    "scrolled": true
   },
   "outputs": [
    {
     "name": "stdout",
     "output_type": "stream",
     "text": [
      "[1, 2, 3, 4, 5, 6, 7, 8, 9, 10, 11, 12, 13, 14, 15, 16, 17, 18, 19, 20, 21, 22, 23, 24, 25, 26, 27, 28, 29, 30]\n",
      "Contestant 1 is here\n",
      "Contestant 2 is here\n",
      "Contestant 3 is here\n",
      "Contestant 4 is here\n",
      "Contestant 5 is here\n",
      "Contestant 6 is here\n",
      "Contestant 7 is here\n",
      "Contestant 8 is here\n",
      "Contestant 9 is here\n",
      "Contestant 10 is here\n",
      "Contestant 11 is here\n",
      "Contestant 12 is here\n",
      "Contestant 13 is here\n",
      "Contestant 14 is here\n",
      "Contestant 15 is here\n",
      "Contestant 16 is here\n",
      "Contestant 17 is here\n",
      "Contestant 18 is here\n",
      "Contestant 19 is here\n",
      "Contestant 20 is here\n",
      "Contestant 21 is here\n",
      "Contestant 22 is here\n",
      "Contestant 23 is here\n",
      "Contestant 24 is here\n",
      "Contestant 25 is here\n",
      "Contestant 26 is here\n",
      "Contestant 27 is here\n",
      "Contestant 28 is here\n",
      "Contestant 29 is here\n",
      "Contestant 30 is here\n"
     ]
    }
   ],
   "source": [
    "numberedContestants = range(1,31)\n",
    "\n",
    "print(list(numberedContestants))\n",
    "\n",
    "for c in list(numberedContestants):\n",
    "    print(\"Contestant \" + str(c) + \" is here\")"
   ]
  },
  {
   "cell_type": "code",
   "execution_count": 5,
   "metadata": {},
   "outputs": [
    {
     "name": "stdout",
     "output_type": "stream",
     "text": [
      "[0, 10, 20, 30]\n"
     ]
    }
   ],
   "source": [
    "# range with step example\n",
    "decimation = range(0, 31, 10)\n",
    "\n",
    "print(list(decimation))"
   ]
  },
  {
   "cell_type": "markdown",
   "metadata": {},
   "source": [
    "# Minimum and Maximum"
   ]
  },
  {
   "cell_type": "code",
   "execution_count": 17,
   "metadata": {},
   "outputs": [
    {
     "name": "stdout",
     "output_type": "stream",
     "text": [
      "4\n",
      "-19\n"
     ]
    }
   ],
   "source": [
    "playerOneScore = 10\n",
    "playerTwoScore = 4\n",
    "# min of variables\n",
    "print(min(playerOneScore, playerTwoScore))\n",
    "# min of tuple\n",
    "print(min(0, 12, -19))"
   ]
  },
  {
   "cell_type": "code",
   "execution_count": 18,
   "metadata": {},
   "outputs": [
    {
     "name": "stdout",
     "output_type": "stream",
     "text": [
      "Kathryn\n",
      "Angela\n"
     ]
    }
   ],
   "source": [
    "# \"h\" < \"i\"\n",
    "print(min(\"Kathryn\", \"Katie\"))\n",
    "\n",
    "# \"A\" < \"B\"\n",
    "print(min(\"Angela\", \"Bob\"))"
   ]
  },
  {
   "cell_type": "code",
   "execution_count": 19,
   "metadata": {},
   "outputs": [
    {
     "name": "stdout",
     "output_type": "stream",
     "text": [
      "10\n",
      "14\n",
      "Katie\n"
     ]
    }
   ],
   "source": [
    "# max 2 of variables\n",
    "print(max(playerOneScore, playerTwoScore))\n",
    "playerThreeScore = 14\n",
    "# max 3 of variables\n",
    "print(max(playerThreeScore, playerTwoScore, playerOneScore))\n",
    "# max of \"h\" < \"i\"\n",
    "print(max(\"Kathryn\", \"Katie\"))"
   ]
  },
  {
   "cell_type": "markdown",
   "metadata": {},
   "source": [
    "# Python Rounding, Absolute Value, and Exponents"
   ]
  },
  {
   "cell_type": "markdown",
   "metadata": {},
   "source": [
    "## round()"
   ]
  },
  {
   "cell_type": "code",
   "execution_count": 20,
   "metadata": {},
   "outputs": [
    {
     "name": "stdout",
     "output_type": "stream",
     "text": [
      "4\n",
      "1\n"
     ]
    }
   ],
   "source": [
    "# rregular rounding\n",
    "testScore = 3.6\n",
    "print(round(testScore))\n",
    "amountOfSalt = 1.4\n",
    "print(round(amountOfSalt))"
   ]
  },
  {
   "cell_type": "code",
   "execution_count": 21,
   "metadata": {},
   "outputs": [
    {
     "name": "stdout",
     "output_type": "stream",
     "text": [
      "-1\n",
      "-2\n"
     ]
    }
   ],
   "source": [
    "# rounding on negative values: works the opposite way\n",
    "apple = -1.2\n",
    "print(round(apple))\n",
    "google = -1.6\n",
    "print(round(google))"
   ]
  },
  {
   "cell_type": "markdown",
   "metadata": {},
   "source": [
    "## abs()"
   ]
  },
  {
   "cell_type": "code",
   "execution_count": 22,
   "metadata": {},
   "outputs": [
    {
     "name": "stdout",
     "output_type": "stream",
     "text": [
      "13\n",
      "2.5\n"
     ]
    }
   ],
   "source": [
    "# absolute value\n",
    "distanceAway = -13\n",
    "print(abs(distanceAway))\n",
    "lengthOfRootInGround = -2.5\n",
    "print(abs(lengthOfRootInGround))"
   ]
  },
  {
   "cell_type": "markdown",
   "metadata": {},
   "source": [
    "## pow()"
   ]
  },
  {
   "cell_type": "code",
   "execution_count": 23,
   "metadata": {},
   "outputs": [
    {
     "name": "stdout",
     "output_type": "stream",
     "text": [
      "0.125\n"
     ]
    }
   ],
   "source": [
    "# (eyponential) power fucntion\n",
    "chanceOfTails = 0.5\n",
    "inARowTails = 3\n",
    "print(pow(chanceOfTails, inARowTails))"
   ]
  },
  {
   "cell_type": "code",
   "execution_count": 24,
   "metadata": {},
   "outputs": [
    {
     "name": "stdout",
     "output_type": "stream",
     "text": [
      "0.027889000000000004\n"
     ]
    }
   ],
   "source": [
    "# püower function applied to probability\n",
    "chanceOfOne = .167\n",
    "inARowOne = 2\n",
    "print(pow(chanceOfOne, inARowOne))"
   ]
  },
  {
   "cell_type": "markdown",
   "metadata": {},
   "source": [
    "# Sorted Fuctions"
   ]
  },
  {
   "cell_type": "markdown",
   "metadata": {},
   "source": [
    "## Least to Greatest"
   ]
  },
  {
   "cell_type": "code",
   "execution_count": 25,
   "metadata": {},
   "outputs": [
    {
     "name": "stdout",
     "output_type": "stream",
     "text": [
      "[-10, -2, 0, 1, 12, 15]\n"
     ]
    }
   ],
   "source": [
    "pointsInaGame = [0, -10, 15, -2, 1, 12]\n",
    "sortedGame = sorted(pointsInaGame)\n",
    "print(sortedGame)"
   ]
  },
  {
   "cell_type": "markdown",
   "metadata": {},
   "source": [
    "## Alphabetically"
   ]
  },
  {
   "cell_type": "code",
   "execution_count": 7,
   "metadata": {},
   "outputs": [
    {
     "name": "stdout",
     "output_type": "stream",
     "text": [
      "['Jerry', 'Linda', 'Sue']\n",
      "['Sue', 'jerry', 'linda']\n"
     ]
    }
   ],
   "source": [
    "children = [\"Sue\", \"Jerry\", \"Linda\"]\n",
    "print(sorted(children))\n",
    "# works separately on lower vs upper -case\n",
    "print(sorted([\"Sue\", \"linda\", \"jerry\"]))"
   ]
  },
  {
   "cell_type": "markdown",
   "metadata": {},
   "source": [
    "## Key Parameters"
   ]
  },
  {
   "cell_type": "code",
   "execution_count": 27,
   "metadata": {},
   "outputs": [
    {
     "name": "stdout",
     "output_type": "stream",
     "text": [
      "['child', 'favorite', 'is', 'Linda', 'My']\n",
      "[15, 12, 1, 0, -2, -10]\n"
     ]
    }
   ],
   "source": [
    "# split and made case insensitive\n",
    "print(sorted(\"My favorite child is Linda\".split(), key=str.upper))\n",
    "# reverse sort order\n",
    "print(sorted(pointsInaGame, reverse=True))"
   ]
  },
  {
   "cell_type": "markdown",
   "metadata": {},
   "source": [
    "### Sorting Dictionaries"
   ]
  },
  {
   "cell_type": "code",
   "execution_count": 28,
   "metadata": {},
   "outputs": [
    {
     "name": "stdout",
     "output_type": "stream",
     "text": [
      "[432, 231, 123]\n",
      "JKC\n"
     ]
    }
   ],
   "source": [
    "leaderBoard = {231: \"CKL\", 123:\"ABC\", 432:\"JKC\"}\n",
    "# it sorts the keys\n",
    "print(sorted(leaderBoard, reverse=True))\n",
    "# getting the 1st\n",
    "print(leaderBoard.get(432))"
   ]
  },
  {
   "cell_type": "markdown",
   "metadata": {},
   "source": [
    "### Sorting a List of Tuples"
   ]
  },
  {
   "cell_type": "code",
   "execution_count": 8,
   "metadata": {},
   "outputs": [
    {
     "name": "stdout",
     "output_type": "stream",
     "text": [
      "[('alice', 'B', 12), ('eliza', 'A', 16), ('tae', 'C', 15)]\n",
      "[('eliza', 'A', 16), ('alice', 'B', 12), ('tae', 'C', 15)]\n",
      "[('alice', 'B', 12), ('tae', 'C', 15), ('eliza', 'A', 16)]\n"
     ]
    }
   ],
   "source": [
    "students = [ ('alice', 'B', 12), ('eliza', 'A', 16), ('tae', 'C', 15)]\n",
    "# sort by name of students\n",
    "print(sorted(students, key=lambda student:student[0]))\n",
    "# sort by grades (ABC)\n",
    "print(sorted(students, key=lambda student:student[1]))\n",
    "# sort by age (12,15,16)\n",
    "print(sorted(students, key=lambda student:student[2]))"
   ]
  },
  {
   "cell_type": "markdown",
   "metadata": {},
   "source": [
    "# Type Functions "
   ]
  },
  {
   "cell_type": "code",
   "execution_count": 30,
   "metadata": {},
   "outputs": [
    {
     "name": "stdout",
     "output_type": "stream",
     "text": [
      "<class 'range'>\n",
      "<class 'int'>\n",
      "<class 'str'>\n",
      "<class 'str'>\n"
     ]
    }
   ],
   "source": [
    "r = range(0, 30)\n",
    "print(type(r))\n",
    "print(type(10))\n",
    "print(type('a'))\n",
    "print(type(\"Hi there\"))"
   ]
  },
  {
   "cell_type": "code",
   "execution_count": 9,
   "metadata": {},
   "outputs": [
    {
     "name": "stdout",
     "output_type": "stream",
     "text": [
      "<class '__main__.Car'>\n",
      "<class '__main__.Truck'>\n",
      "False\n",
      "True\n"
     ]
    }
   ],
   "source": [
    "class Car:\n",
    "    pass\n",
    "\n",
    "class Truck(Car):\n",
    "    pass\n",
    "\n",
    "c = Car()\n",
    "convert = Car()\n",
    "t = Truck()\n",
    "print(type(c))\n",
    "print(type(t))\n",
    "print(type(c) == type(t))\n",
    "print(type(c) == type(convert))"
   ]
  },
  {
   "cell_type": "code",
   "execution_count": 10,
   "metadata": {},
   "outputs": [
    {
     "name": "stdout",
     "output_type": "stream",
     "text": [
      "True\n",
      "True\n"
     ]
    }
   ],
   "source": [
    "# insinstance(): Return whether an object is an instance of a class or of a subclass thereof.\n",
    "print(isinstance(c, Car))\n",
    "print(isinstance(t, Car))"
   ]
  },
  {
   "cell_type": "code",
   "execution_count": 33,
   "metadata": {},
   "outputs": [
    {
     "name": "stdout",
     "output_type": "stream",
     "text": [
      "[0, 1, 2, 3, 4, 5, 6, 7, 8, 9, 10, 11, 12, 13, 14, 15, 16, 17, 18, 19, 20, 21, 22, 23, 24, 25, 26, 27, 28, 29]\n"
     ]
    }
   ],
   "source": [
    "# instance can be used to test for functionality\n",
    "if isinstance(r, range):\n",
    "    print(list(r))"
   ]
  },
  {
   "cell_type": "code",
   "execution_count": null,
   "metadata": {},
   "outputs": [],
   "source": []
  }
 ],
 "metadata": {
  "kernelspec": {
   "display_name": "Python 3",
   "language": "python",
   "name": "python3"
  },
  "language_info": {
   "codemirror_mode": {
    "name": "ipython",
    "version": 3
   },
   "file_extension": ".py",
   "mimetype": "text/x-python",
   "name": "python",
   "nbconvert_exporter": "python",
   "pygments_lexer": "ipython3",
   "version": "3.7.1"
  }
 },
 "nbformat": 4,
 "nbformat_minor": 2
}
