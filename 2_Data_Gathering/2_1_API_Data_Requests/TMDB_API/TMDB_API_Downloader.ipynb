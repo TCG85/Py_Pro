{
 "cells": [
  {
   "cell_type": "markdown",
   "metadata": {},
   "source": [
    "## Import Libraries"
   ]
  },
  {
   "cell_type": "code",
   "execution_count": 1,
   "metadata": {},
   "outputs": [],
   "source": [
    "import io,json\n",
    "import pandas as pd\n",
    "from pprint import pprint\n",
    "import requests\n",
    "import sys\n",
    "import os"
   ]
  },
  {
   "cell_type": "markdown",
   "metadata": {},
   "source": [
    "# Loading my API Key\n",
    "API key stored in my personal \"payload.py\" file only containing: <br>\n",
    "`API = {'api_key':'123456789examplekey'}`"
   ]
  },
  {
   "cell_type": "code",
   "execution_count": 2,
   "metadata": {},
   "outputs": [],
   "source": [
    "from payload import API"
   ]
  },
  {
   "cell_type": "markdown",
   "metadata": {},
   "source": [
    "# TV Series Genre List"
   ]
  },
  {
   "cell_type": "code",
   "execution_count": 3,
   "metadata": {},
   "outputs": [],
   "source": [
    "def get_tv_genres():\n",
    "    gen_base = 'https://api.themoviedb.org/3/genre/tv/list'\n",
    "    result = requests.get(gen_base, API)\n",
    "    tv_genre = result.json()\n",
    "    return tv_genre"
   ]
  },
  {
   "cell_type": "code",
   "execution_count": 4,
   "metadata": {},
   "outputs": [
    {
     "name": "stdout",
     "output_type": "stream",
     "text": [
      "{'genres': [{'id': 10759, 'name': 'Action & Adventure'},\n",
      "            {'id': 16, 'name': 'Animation'},\n",
      "            {'id': 35, 'name': 'Comedy'},\n",
      "            {'id': 80, 'name': 'Crime'},\n",
      "            {'id': 99, 'name': 'Documentary'},\n",
      "            {'id': 18, 'name': 'Drama'},\n",
      "            {'id': 10751, 'name': 'Family'},\n",
      "            {'id': 10762, 'name': 'Kids'},\n",
      "            {'id': 9648, 'name': 'Mystery'},\n",
      "            {'id': 10763, 'name': 'News'},\n",
      "            {'id': 10764, 'name': 'Reality'},\n",
      "            {'id': 10765, 'name': 'Sci-Fi & Fantasy'},\n",
      "            {'id': 10766, 'name': 'Soap'},\n",
      "            {'id': 10767, 'name': 'Talk'},\n",
      "            {'id': 10768, 'name': 'War & Politics'},\n",
      "            {'id': 37, 'name': 'Western'}]}\n"
     ]
    }
   ],
   "source": [
    "# current TV Series Genres on TMDB\n",
    "pprint(get_tv_genres())"
   ]
  },
  {
   "cell_type": "markdown",
   "metadata": {},
   "source": [
    "# Get current Max ID"
   ]
  },
  {
   "cell_type": "code",
   "execution_count": 5,
   "metadata": {},
   "outputs": [],
   "source": [
    "def max_id():\n",
    "    base = 'https://api.themoviedb.org/3/tv/latest'\n",
    "    result = requests.get(base, API)\n",
    "    j = result.json()\n",
    "    max_id = j.get('id')\n",
    "    return max_id"
   ]
  },
  {
   "cell_type": "code",
   "execution_count": 6,
   "metadata": {
    "scrolled": true
   },
   "outputs": [
    {
     "data": {
      "text/plain": [
       "85609"
      ]
     },
     "execution_count": 6,
     "metadata": {},
     "output_type": "execute_result"
    }
   ],
   "source": [
    "max_id()"
   ]
  },
  {
   "cell_type": "markdown",
   "metadata": {},
   "source": [
    "# Series Details"
   ]
  },
  {
   "cell_type": "code",
   "execution_count": 7,
   "metadata": {},
   "outputs": [],
   "source": [
    "def series_details(tv_id):\n",
    "    base = f'https://api.themoviedb.org/3/tv/{tv_id}'\n",
    "    result = requests.get(base, API)\n",
    "    series_details = result.json()\n",
    "    return series_details"
   ]
  },
  {
   "cell_type": "code",
   "execution_count": 8,
   "metadata": {
    "scrolled": true
   },
   "outputs": [
    {
     "data": {
      "text/plain": [
       "{'backdrop_path': '/gX8SYlnL9ZznfZwEH4KJUePBFUM.jpg',\n",
       " 'created_by': [{'id': 9813,\n",
       "   'credit_id': '5256c8c219c2956ff604858a',\n",
       "   'name': 'David Benioff',\n",
       "   'gender': 2,\n",
       "   'profile_path': '/8CuuNIKMzMUL1NKOPv9AqEwM7og.jpg'},\n",
       "  {'id': 228068,\n",
       "   'credit_id': '552e611e9251413fea000901',\n",
       "   'name': 'D. B. Weiss',\n",
       "   'gender': 2,\n",
       "   'profile_path': '/caUAtilEe06OwOjoQY3B7BgpARi.jpg'}],\n",
       " 'episode_run_time': [60],\n",
       " 'first_air_date': '2011-04-17',\n",
       " 'genres': [{'id': 10765, 'name': 'Sci-Fi & Fantasy'},\n",
       "  {'id': 18, 'name': 'Drama'},\n",
       "  {'id': 10759, 'name': 'Action & Adventure'}],\n",
       " 'homepage': 'http://www.hbo.com/game-of-thrones',\n",
       " 'id': 1399,\n",
       " 'in_production': True,\n",
       " 'languages': ['es', 'en', 'de'],\n",
       " 'last_air_date': '2017-08-27',\n",
       " 'last_episode_to_air': {'air_date': '2017-08-27',\n",
       "  'episode_number': 7,\n",
       "  'id': 1340528,\n",
       "  'name': 'The Dragon and the Wolf',\n",
       "  'overview': \"A meeting is held in King's Landing. Problems arise in the North.\",\n",
       "  'production_code': '707',\n",
       "  'season_number': 7,\n",
       "  'show_id': 1399,\n",
       "  'still_path': '/jLe9VcbGRDUJeuM8IwB7VX4GDRg.jpg',\n",
       "  'vote_average': 8.986,\n",
       "  'vote_count': 36},\n",
       " 'name': 'Game of Thrones',\n",
       " 'next_episode_to_air': {'air_date': '2019-04-07',\n",
       "  'episode_number': 1,\n",
       "  'id': 1551825,\n",
       "  'name': 'Episode 1',\n",
       "  'overview': '',\n",
       "  'production_code': '',\n",
       "  'season_number': 8,\n",
       "  'show_id': 1399,\n",
       "  'still_path': None,\n",
       "  'vote_average': 8.0,\n",
       "  'vote_count': 1},\n",
       " 'networks': [{'name': 'HBO',\n",
       "   'id': 49,\n",
       "   'logo_path': '/tuomPhY2UtuPTqqFnKMVHvSb724.png',\n",
       "   'origin_country': 'US'}],\n",
       " 'number_of_episodes': 73,\n",
       " 'number_of_seasons': 8,\n",
       " 'origin_country': ['US'],\n",
       " 'original_language': 'en',\n",
       " 'original_name': 'Game of Thrones',\n",
       " 'overview': \"Seven noble families fight for control of the mythical land of Westeros. Friction between the houses leads to full-scale war. All while a very ancient evil awakens in the farthest north. Amidst the war, a neglected military order of misfits, the Night's Watch, is all that stands between the realms of men and icy horrors beyond.\",\n",
       " 'popularity': 161.668,\n",
       " 'poster_path': '/gwPSoYUHAKmdyVywgLpKKA4BjRr.jpg',\n",
       " 'production_companies': [{'id': 76043,\n",
       "   'logo_path': '/9RO2vbQ67otPrBLXCaC8UMp3Qat.png',\n",
       "   'name': 'Revolution Sun Studios',\n",
       "   'origin_country': 'US'},\n",
       "  {'id': 3268,\n",
       "   'logo_path': '/tuomPhY2UtuPTqqFnKMVHvSb724.png',\n",
       "   'name': 'HBO',\n",
       "   'origin_country': 'US'},\n",
       "  {'id': 12525,\n",
       "   'logo_path': None,\n",
       "   'name': 'Television 360',\n",
       "   'origin_country': ''},\n",
       "  {'id': 5820,\n",
       "   'logo_path': None,\n",
       "   'name': 'Generator Entertainment',\n",
       "   'origin_country': ''},\n",
       "  {'id': 12526,\n",
       "   'logo_path': None,\n",
       "   'name': 'Bighead Littlehead',\n",
       "   'origin_country': ''}],\n",
       " 'seasons': [{'air_date': '2010-12-05',\n",
       "   'episode_count': 15,\n",
       "   'id': 3627,\n",
       "   'name': 'Specials',\n",
       "   'overview': '',\n",
       "   'poster_path': '/kMTcwNRfFKCZ0O2OaBZS0nZ2AIe.jpg',\n",
       "   'season_number': 0},\n",
       "  {'air_date': '2011-04-17',\n",
       "   'episode_count': 10,\n",
       "   'id': 3624,\n",
       "   'name': 'Season 1',\n",
       "   'overview': \"Trouble is brewing in the Seven Kingdoms of Westeros. For the driven inhabitants of this visionary world, control of Westeros' Iron Throne holds the lure of great power. But in a land where the seasons can last a lifetime, winter is coming...and beyond the Great Wall that protects them, an ancient evil has returned. In Season One, the story centers on three primary areas: the Stark and the Lannister families, whose designs on controlling the throne threaten a tenuous peace; the dragon princess Daenerys, heir to the former dynasty, who waits just over the Narrow Sea with her malevolent brother Viserys; and the Great Wall--a massive barrier of ice where a forgotten danger is stirring.\",\n",
       "   'poster_path': '/zwaj4egrhnXOBIit1tyb4Sbt3KP.jpg',\n",
       "   'season_number': 1},\n",
       "  {'air_date': '2012-04-01',\n",
       "   'episode_count': 10,\n",
       "   'id': 3625,\n",
       "   'name': 'Season 2',\n",
       "   'overview': \"The cold winds of winter are rising in Westeros...war is coming...and five kings continue their savage quest for control of the all-powerful Iron Throne. With winter fast approaching, the coveted Iron Throne is occupied by the cruel Joffrey, counseled by his conniving mother Cersei and uncle Tyrion. But the Lannister hold on the Throne is under assault on many fronts. Meanwhile, a new leader is rising among the wildings outside the Great Wall, adding new perils for Jon Snow and the order of the Night's Watch.\",\n",
       "   'poster_path': '/5tuhCkqPOT20XPwwi9NhFnC1g9R.jpg',\n",
       "   'season_number': 2},\n",
       "  {'air_date': '2013-03-31',\n",
       "   'episode_count': 10,\n",
       "   'id': 3626,\n",
       "   'name': 'Season 3',\n",
       "   'overview': \"Duplicity and treachery...nobility and honor...conquest and triumph...and, of course, dragons. In Season 3, family and loyalty are the overarching themes as many critical storylines from the first two seasons come to a brutal head. Meanwhile, the Lannisters maintain their hold on King's Landing, though stirrings in the North threaten to alter the balance of power; Robb Stark, King of the North, faces a major calamity as he tries to build on his victories; a massive army of wildlings led by Mance Rayder march for the Wall; and Daenerys Targaryen--reunited with her dragons--attempts to raise an army in her quest for the Iron Throne.\",\n",
       "   'poster_path': '/7d3vRgbmnrRQ39Qmzd66bQyY7Is.jpg',\n",
       "   'season_number': 3},\n",
       "  {'air_date': '2014-04-06',\n",
       "   'episode_count': 10,\n",
       "   'id': 3628,\n",
       "   'name': 'Season 4',\n",
       "   'overview': 'The War of the Five Kings is drawing to a close, but new intrigues and plots are in motion, and the surviving factions must contend with enemies not only outside their ranks, but within.',\n",
       "   'poster_path': '/dniQ7zw3mbLJkd1U0gdFEh4b24O.jpg',\n",
       "   'season_number': 4},\n",
       "  {'air_date': '2015-04-12',\n",
       "   'episode_count': 10,\n",
       "   'id': 62090,\n",
       "   'name': 'Season 5',\n",
       "   'overview': 'The War of the Five Kings, once thought to be drawing to a close, is instead entering a new and more chaotic phase. Westeros is on the brink of collapse, and many are seizing what they can while the realm implodes, like a corpse making a feast for crows.',\n",
       "   'poster_path': '/527sR9hNDcgVDKNUE3QYra95vP5.jpg',\n",
       "   'season_number': 5},\n",
       "  {'air_date': '2016-04-24',\n",
       "   'episode_count': 10,\n",
       "   'id': 71881,\n",
       "   'name': 'Season 6',\n",
       "   'overview': 'Following the shocking developments at the conclusion of season five, survivors from all parts of Westeros and Essos regroup to press forward, inexorably, towards their uncertain individual fates. Familiar faces will forge new alliances to bolster their strategic chances at survival, while new characters will emerge to challenge the balance of power in the east, west, north and south.',\n",
       "   'poster_path': '/zvYrzLMfPIenxoq2jFY4eExbRv8.jpg',\n",
       "   'season_number': 6},\n",
       "  {'air_date': '2017-07-16',\n",
       "   'episode_count': 7,\n",
       "   'id': 81266,\n",
       "   'name': 'Season 7',\n",
       "   'overview': 'The long winter is here. And with it comes a convergence of armies and attitudes that have been brewing for years.',\n",
       "   'poster_path': '/3dqzU3F3dZpAripEx9kRnijXbOj.jpg',\n",
       "   'season_number': 7},\n",
       "  {'air_date': '2019-04-01',\n",
       "   'episode_count': 6,\n",
       "   'id': 107971,\n",
       "   'name': 'Season 8',\n",
       "   'overview': '',\n",
       "   'poster_path': '/nMbQUpSpdscUKMBd9zQJ1rzxXQK.jpg',\n",
       "   'season_number': 8}],\n",
       " 'status': 'Returning Series',\n",
       " 'type': 'Scripted',\n",
       " 'vote_average': 8.2,\n",
       " 'vote_count': 5148}"
      ]
     },
     "execution_count": 8,
     "metadata": {},
     "output_type": "execute_result"
    }
   ],
   "source": [
    "# series details example for tv_id 1399 = Game of Thrones\n",
    "series_details(1399)"
   ]
  },
  {
   "cell_type": "markdown",
   "metadata": {},
   "source": [
    "## Iterate and save series data in memory"
   ]
  },
  {
   "cell_type": "code",
   "execution_count": 9,
   "metadata": {},
   "outputs": [],
   "source": [
    "def collect_series_details(min_id, max_id):\n",
    "    series_collection = {}\n",
    "    for tv_id in range(min_id, max_id):\n",
    "        if series_details(tv_id).get('status_code') == 34:\n",
    "            print(f'{tv_id} - MISSING! SKIPPED')\n",
    "            continue\n",
    "        else:\n",
    "            series_collection[tv_id] = series_details(tv_id)\n",
    "            print(f'{tv_id} - OK')\n",
    "    return series_collection"
   ]
  },
  {
   "cell_type": "code",
   "execution_count": 10,
   "metadata": {},
   "outputs": [
    {
     "name": "stdout",
     "output_type": "stream",
     "text": [
      "10 - OK\n",
      "11 - OK\n",
      "12 - OK\n",
      "13 - OK\n",
      "14 - OK\n",
      "15 - OK\n",
      "16 - OK\n",
      "17 - OK\n",
      "18 - OK\n",
      "19 - OK\n"
     ]
    }
   ],
   "source": [
    "# series details collection example for tv_id 10 to 20\n",
    "data = collect_series_details(10,20)"
   ]
  },
  {
   "cell_type": "markdown",
   "metadata": {},
   "source": [
    "## Iterate and save series data in JSON"
   ]
  },
  {
   "cell_type": "code",
   "execution_count": 11,
   "metadata": {},
   "outputs": [],
   "source": [
    "def json_series_details(min_id, max_id):\n",
    "    data = collect_series_details(min_id, max_id)\n",
    "    s = json.dumps(data)\n",
    "    with io.open(f'{min_id}-{max_id}_tmdb_series.json', 'w', encoding='utf-8') as f:\n",
    "        f.write(s)\n",
    "    print(f'{min_id}-{max_id} series collection is saved')"
   ]
  },
  {
   "cell_type": "code",
   "execution_count": 12,
   "metadata": {},
   "outputs": [
    {
     "name": "stdout",
     "output_type": "stream",
     "text": [
      "10 - OK\n",
      "11 - OK\n",
      "12 - OK\n",
      "13 - OK\n",
      "14 - OK\n",
      "15 - OK\n",
      "16 - OK\n",
      "17 - OK\n",
      "18 - OK\n",
      "19 - OK\n",
      "10-20 series collection is saved\n"
     ]
    }
   ],
   "source": [
    "# series details collection example for tv_id 10 to 20\n",
    "json_series_details(10,20)"
   ]
  },
  {
   "cell_type": "markdown",
   "metadata": {},
   "source": [
    "# Series Reviews"
   ]
  },
  {
   "cell_type": "code",
   "execution_count": 13,
   "metadata": {},
   "outputs": [],
   "source": [
    "def series_reviews(tv_id):\n",
    "    base = f'https://api.themoviedb.org/3/tv/{tv_id}/reviews'\n",
    "    result = requests.get(base, API)\n",
    "    series_reviews = result.json()\n",
    "    return series_reviews"
   ]
  },
  {
   "cell_type": "code",
   "execution_count": 14,
   "metadata": {},
   "outputs": [],
   "source": [
    "def collect_series_reviews(min_id, max_id):\n",
    "    reviews_collection = {}\n",
    "    for tv_id in range(min_id, max_id):\n",
    "        if series_reviews(tv_id).get('total_results') == 0:\n",
    "            print(f'{tv_id} - OK')\n",
    "            continue\n",
    "        elif series_reviews(tv_id).get('status_code') == 34:\n",
    "            print(f'{tv_id} - MISSING! SKIPPED')\n",
    "            continue\n",
    "        else:\n",
    "            reviews_collection[tv_id] = series_reviews(tv_id)\n",
    "    return reviews_collection"
   ]
  },
  {
   "cell_type": "code",
   "execution_count": 15,
   "metadata": {},
   "outputs": [],
   "source": [
    "def json_series_reviews(min_id, max_id):\n",
    "    data = collect_series_reviews(min_id, max_id)\n",
    "    s = json.dumps(data)\n",
    "    with io.open(f'{min_id}-{max_id}_tmdb_reviews.json', 'w', encoding='utf-8') as f:\n",
    "        f.write(s)\n",
    "    print(f'{min_id}-{max_id} reviews collection is saved')"
   ]
  },
  {
   "cell_type": "code",
   "execution_count": 16,
   "metadata": {},
   "outputs": [
    {
     "name": "stdout",
     "output_type": "stream",
     "text": [
      "10 - OK\n",
      "11 - OK\n",
      "12 - OK\n",
      "13 - OK\n",
      "14 - OK\n",
      "15 - OK\n",
      "16 - OK\n",
      "17 - OK\n",
      "18 - OK\n",
      "19 - OK\n",
      "10-20 reviews collection is saved\n"
     ]
    }
   ],
   "source": [
    "json_series_reviews(10,20)"
   ]
  },
  {
   "cell_type": "code",
   "execution_count": null,
   "metadata": {},
   "outputs": [],
   "source": []
  }
 ],
 "metadata": {
  "kernelspec": {
   "display_name": "Python 3",
   "language": "python",
   "name": "python3"
  },
  "language_info": {
   "codemirror_mode": {
    "name": "ipython",
    "version": 3
   },
   "file_extension": ".py",
   "mimetype": "text/x-python",
   "name": "python",
   "nbconvert_exporter": "python",
   "pygments_lexer": "ipython3",
   "version": "3.7.1"
  }
 },
 "nbformat": 4,
 "nbformat_minor": 2
}
